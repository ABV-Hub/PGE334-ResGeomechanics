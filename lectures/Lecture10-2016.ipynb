{
 "cells": [
  {
   "cell_type": "markdown",
   "metadata": {
    "slideshow": {
     "slide_type": "slide"
    }
   },
   "source": [
    "# Constitutive modeling"
   ]
  },
  {
   "cell_type": "markdown",
   "metadata": {
    "collapsed": false,
    "slideshow": {
     "slide_type": "slide"
    }
   },
   "source": [
    "# Kinematics of strain\n",
    "\n",
    "${}$\n",
    "\n",
    "<img src=\"images/2D_strain.svg\" width=500>\n",
    "\n",
    "\"<a href=\"http://commons.wikimedia.org/wiki/File:2D_geometric_strain.svg#mediaviewer/File:2D_geometric_strain.svg\">2D geometric strain</a>\" by <a href=\"//commons.wikimedia.org/wiki/User:Sanpaz\" title=\"User:Sanpaz\"> Sanpaz</a>. Licensed under Public Domain via <a href=\"//commons.wikimedia.org/wiki/\">Wikimedia Commons</a>."
   ]
  },
  {
   "cell_type": "markdown",
   "metadata": {
    "slideshow": {
     "slide_type": "subslide"
    }
   },
   "source": [
    "# Strain tensor\n",
    "\n",
    "${}$\n",
    "\n",
    "$$\n",
    "\\boldsymbol{\\varepsilon} = \\begin{bmatrix}\n",
    "      \\varepsilon_{11} & \\varepsilon_{12} & \\varepsilon_{13} \\\\\n",
    "      \\varepsilon_{21} & \\varepsilon_{22} & \\varepsilon_{23} \\\\\n",
    "      \\varepsilon_{31} & \\varepsilon_{32} & \\varepsilon_{33}\n",
    "      \\end{bmatrix}\n",
    "$$"
   ]
  },
  {
   "cell_type": "markdown",
   "metadata": {
    "slideshow": {
     "slide_type": "fragment"
    }
   },
   "source": [
    "$$\\varepsilon_{ij} = \\frac{1}{2}\\left( \\frac{\\partial u_i}{\\partial x_j} +  \\frac{\\partial u_j}{\\partial x_i}\\right) \\quad \\mbox{for} \\quad i=1,2,3 \\quad j=1,2,3$$"
   ]
  }
 ],
 "metadata": {
  "celltoolbar": "Slideshow",
  "kernelspec": {
   "display_name": "Python 3",
   "language": "python",
   "name": "python3"
  },
  "language_info": {
   "codemirror_mode": {
    "name": "ipython",
    "version": 3
   },
   "file_extension": ".py",
   "mimetype": "text/x-python",
   "name": "python",
   "nbconvert_exporter": "python",
   "pygments_lexer": "ipython3",
   "version": "3.5.1"
  }
 },
 "nbformat": 4,
 "nbformat_minor": 0
}
