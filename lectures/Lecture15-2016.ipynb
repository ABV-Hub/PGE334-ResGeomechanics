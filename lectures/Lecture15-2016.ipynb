{
 "cells": [
  {
   "cell_type": "markdown",
   "metadata": {
    "slideshow": {
     "slide_type": "slide"
    }
   },
   "source": [
    "# Mohr's circles"
   ]
  },
  {
   "cell_type": "markdown",
   "metadata": {
    "slideshow": {
     "slide_type": "fragment"
    }
   },
   "source": [
    "$$\\tau_f = \\dfrac{1}{2}(\\sigma_1 - \\sigma_3) \\sin(2\\beta)$$\n",
    "\n",
    "$$\\sigma_n = \\dfrac{1}{2}(\\sigma_1 + \\sigma_3) + \\dfrac{1}{2}(\\sigma_1 -\\sigma_3) \\cos(2 \\beta)$$"
   ]
  },
  {
   "cell_type": "markdown",
   "metadata": {
    "slideshow": {
     "slide_type": "slide"
    }
   },
   "source": [
    "# Mohr Envelope\n",
    "\n",
    "<img src=\"images/mohr_envelope.png\" width=500>\n",
    "\n",
    "&copy; Cambridge University Press [Zoback, *Reservoir Geomechanics*](http://www.amazon.com/Reservoir-Geomechanics-Paperback-Author-Zoback/dp/B00EFZ88EQ/ref=sr_1_2?ie=UTF8&qid=1422942834&sr=8-2&keywords=zoback+geomechanics) (Fig. 4.2b, pp. 88)"
   ]
  },
  {
   "cell_type": "markdown",
   "metadata": {
    "slideshow": {
     "slide_type": "subslide"
    }
   },
   "source": [
    "# Linearized Mohr Envelope\n",
    "\n",
    "<table style=\"border: hidden; \" align=\"center\">\n",
    "  <tr>\n",
    "    <td style=\"border: hidden; text-align: center\"><img src=\"images/linear_mohr_envelope.png\" width=500></td>\n",
    "    <td style=\"border: hidden; text-align: center\"><img src=\"images/mohr_sample.png\" width=200></td>\n",
    "  </tr>\n",
    "</table>\n",
    "\n",
    "&copy; Cambridge University Press [Zoback, *Reservoir Geomechanics*](http://www.amazon.com/Reservoir-Geomechanics-Paperback-Author-Zoback/dp/B00EFZ88EQ/ref=sr_1_2?ie=UTF8&qid=1422942834&sr=8-2&keywords=zoback+geomechanics) (Fig. 4.2a,c pp. 88)"
   ]
  },
  {
   "cell_type": "markdown",
   "metadata": {
    "slideshow": {
     "slide_type": "slide"
    }
   },
   "source": [
    "# Mohr-Coulomb failure\n",
    "\n",
    "${}$\n",
    "\n",
    "$$\n",
    "\\tau = S_0 + \\sigma_n \\mu_i\n",
    "$$"
   ]
  },
  {
   "cell_type": "markdown",
   "metadata": {
    "slideshow": {
     "slide_type": "fragment"
    }
   },
   "source": [
    "$$\n",
    "C_0 = 2 S_0\\left( \\sqrt{\\mu_i^2 + 1} + \\mu_i \\right)\n",
    "$$"
   ]
  },
  {
   "cell_type": "markdown",
   "metadata": {
    "slideshow": {
     "slide_type": "slide"
    }
   },
   "source": [
    "# Triaxial tests on sandstone\n",
    "\n",
    "<table style=\"border: hidden; \" align=\"center\">\n",
    "  <tr>\n",
    "    <td style=\"border: hidden; text-align: center\"><img src=\"images/mohr_triaxial_sandstone.png\" width=500></td>\n",
    "    <td style=\"border: hidden; text-align: center\">$\\mu_i = \\dfrac{n-1}{2\\sqrt{n}}$</td>\n",
    "  </tr>\n",
    "</table>\n",
    "\n",
    "&copy; Cambridge University Press [Zoback, *Reservoir Geomechanics*](http://www.amazon.com/Reservoir-Geomechanics-Paperback-Author-Zoback/dp/B00EFZ88EQ/ref=sr_1_2?ie=UTF8&qid=1422942834&sr=8-2&keywords=zoback+geomechanics) (Fig. 4.3a pp. 90)"
   ]
  },
  {
   "cell_type": "markdown",
   "metadata": {
    "slideshow": {
     "slide_type": "subslide"
    }
   },
   "source": [
    "# Mohr Envelope for Sandstone\n",
    "\n",
    "${}$\n",
    "\n",
    "<img src=\"images/mohr_lab_data.png\" width=500>\n",
    "\n",
    "&copy; Cambridge University Press [Zoback, *Reservoir Geomechanics*](http://www.amazon.com/Reservoir-Geomechanics-Paperback-Author-Zoback/dp/B00EFZ88EQ/ref=sr_1_2?ie=UTF8&qid=1422942834&sr=8-2&keywords=zoback+geomechanics) (Fig. 4.3a, pp. 88)"
   ]
  },
  {
   "cell_type": "markdown",
   "metadata": {
    "slideshow": {
     "slide_type": "subslide"
    }
   },
   "source": [
    "# Cohesion and internal friction data\n",
    "\n",
    "${}$\n",
    "\n",
    "<img src=\"images/mohr_rock_data.png\" width=700>\n",
    "\n",
    "&copy; Cambridge University Press [Zoback, *Reservoir Geomechanics*](http://www.amazon.com/Reservoir-Geomechanics-Paperback-Author-Zoback/dp/B00EFZ88EQ/ref=sr_1_2?ie=UTF8&qid=1422942834&sr=8-2&keywords=zoback+geomechanics) (Fig. 4.4, pp. 91)"
   ]
  },
  {
   "cell_type": "markdown",
   "metadata": {
    "slideshow": {
     "slide_type": "subslide"
    }
   },
   "source": [
    "# Cohesion and internal friction data\n",
    "\n",
    "${}$\n",
    "\n",
    "<img src=\"images/mohr_wellbore.png\" width=500>\n",
    "\n",
    "&copy; Cambridge University Press [Zoback, *Reservoir Geomechanics*](http://www.amazon.com/Reservoir-Geomechanics-Paperback-Author-Zoback/dp/B00EFZ88EQ/ref=sr_1_2?ie=UTF8&qid=1422942834&sr=8-2&keywords=zoback+geomechanics) (Fig. 4.5, pp. 92)"
   ]
  },
  {
   "cell_type": "markdown",
   "metadata": {
    "slideshow": {
     "slide_type": "slide"
    }
   },
   "source": [
    "# Yield surface\n",
    "\n",
    "<img src=\"images/mohr_yield_surface.png\" width=500>\n",
    "\n",
    "[Mohr Coulomb Yield Surface 3Da](http://en.wikipedia.org/wiki/File:Mohr_Coulomb_Yield_Surface_3Da.png#mediaviewer/File:Mohr_Coulomb_Yield_Surface_3Da.png). Licensed under CC BY-SA 3.0 via Wikipedia"
   ]
  },
  {
   "cell_type": "markdown",
   "metadata": {
    "slideshow": {
     "slide_type": "subslide"
    }
   },
   "source": [
    "# $\\pi$-plane\n",
    "\n",
    "<img src=\"images/mohr_pi_plane.png\" width=600>\n",
    "\n",
    "[Mohr Coulomb Yield Surface 3Db](http://en.wikipedia.org/wiki/File:Mohr_Coulomb_Yield_Surface_3Db.png#mediaviewer/File:Mohr_Coulomb_Yield_Surface_3Db.png). Licensed under CC BY-SA 3.0 via Wikipedia"
   ]
  },
  {
   "cell_type": "markdown",
   "metadata": {
    "slideshow": {
     "slide_type": "slide"
    }
   },
   "source": [
    "# Pressure dependence\n",
    "\n",
    "<img src=\"images/carr_marble.png\" width=350>\n",
    "\n",
    "&copy; Blackwell Publishing [Jaeger, et al., *Fundamentals of Rock Mechanics*](http://www.amazon.com/Fundamentals-Rock-Mechanics-John-Jaeger/dp/0632057599/ref=sr_1_1?ie=UTF8&qid=1425992952&sr=8-1&keywords=fundamentals+of+rock+mechanics) (Fig. 4.5, pp. 86)"
   ]
  },
  {
   "cell_type": "markdown",
   "metadata": {
    "slideshow": {
     "slide_type": "slide"
    }
   },
   "source": [
    "# Other failure criteria\n",
    "\n",
    "<img src=\"images/other_hydrostat.png\" width=400>\n",
    "\n",
    "&copy; Cambridge University Press [Zoback, *Reservoir Geomechanics*](http://www.amazon.com/Reservoir-Geomechanics-Paperback-Author-Zoback/dp/B00EFZ88EQ/ref=sr_1_2?ie=UTF8&qid=1422942834&sr=8-2&keywords=zoback+geomechanics) (Fig. 4.6, pp. 94)"
   ]
  },
  {
   "cell_type": "markdown",
   "metadata": {
    "slideshow": {
     "slide_type": "slide"
    }
   },
   "source": [
    "# Recall: Mohr Envelope for Sandstone\n",
    "\n",
    "${}$\n",
    "\n",
    "<img src=\"images/mohr_lab_data.png\" width=500>\n",
    "\n",
    "&copy; Cambridge University Press [Zoback, *Reservoir Geomechanics*](http://www.amazon.com/Reservoir-Geomechanics-Paperback-Author-Zoback/dp/B00EFZ88EQ/ref=sr_1_2?ie=UTF8&qid=1422942834&sr=8-2&keywords=zoback+geomechanics) (Fig. 4.3a, pp. 88)"
   ]
  },
  {
   "cell_type": "markdown",
   "metadata": {
    "slideshow": {
     "slide_type": "subslide"
    }
   },
   "source": [
    "# Hoek-Brown criterion (parabolic fitting)\n",
    "\n",
    "${}$\n",
    "\n",
    "$$\n",
    "\\sigma_1 = \\sigma_3 + C_0 \\sqrt{m \\dfrac{\\sigma_3}{C_0} + s}\n",
    "$$\n",
    "\n",
    "$m$ and $s$ are fitting parameters that depend on rock properties and the degress of fracturing.  Typical values\n",
    "\n",
    "|Typical Range of $ m $|Types of rocks|\n",
    "|:----------|:-------------|\n",
    "|$5 < m < 8$| carbonate rocks (dolomite, limestone, marble)|\n",
    "|$4 < m < 10$| lithified argillaceous rocks (sandstones, quartizite)|\n",
    "|$15 < m < 24$| arenaceous rocks (andesite, dolerite, diabase, rhyolite)|\n",
    "|$22 < m < 33$| course-grained polyminerallic gineous and metamorphic (amphibolite, gabbro, gneiss, norite, quartz-diorite)|\n",
    "\n",
    "Intact Rocks -- $s \\to 1$\n",
    "\n",
    "Completely Granualated -- $s \\to 0$"
   ]
  },
  {
   "cell_type": "markdown",
   "metadata": {
    "slideshow": {
     "slide_type": "slide"
    }
   },
   "source": [
    "# Lade Criterion\n",
    "\n",
    "${}$\n",
    "\n",
    "$$\n",
    "\\left( \\frac{I_1^3}{I_3} - 27 \\right) \\left( \\frac{I_1}{p_a} \\right)^{m'} =  \\eta_1\n",
    "$$\n",
    "\n",
    "with \n",
    "\n",
    "$I_1 = S_{ii} = S_1 + S_2 + S_3$ (first invariant of $\\mathbf{S}$)\n",
    "\n",
    "$I_3 = \\det(\\mathbf{S}) = S_1  S_2  S_3$ (third invariant of $\\mathbf{S}$)\n",
    "\n",
    "$p_a$ is atmospheric pressure, $m'$ and $n_1$ are material constants"
   ]
  },
  {
   "cell_type": "markdown",
   "metadata": {
    "slideshow": {
     "slide_type": "subslide"
    }
   },
   "source": [
    "# Modified Lade Criterion (dependece on $\\sigma_2$)\n",
    "\n",
    "${}$\n",
    "\n",
    "$$\n",
    "\\left( \\frac{(I_1')^3}{I_3'} \\right) =  27 + \\eta\n",
    "$$\n",
    "\n",
    "with \n",
    "\n",
    "$I_1' = (\\sigma_1 + S) + (\\sigma_2 + S) + (\\sigma_3 + S)$\n",
    "\n",
    "$I_3' = (\\sigma_1 + S) (\\sigma_2 + S) (\\sigma_3 + S)$\n",
    "\n",
    "$S = \\dfrac{S_0}{\\tan\\phi}$\n",
    "\n",
    "$\\eta = \\dfrac{4 (\\tan\\phi)^2 (9- 7 \\sin\\phi)}{1 - \\sin \\phi)}$\n",
    "\n",
    "$\\tan\\phi = \\mu_i$ and $S_0$ from Mohr-Coulomb criterion"
   ]
  },
  {
   "cell_type": "markdown",
   "metadata": {
    "slideshow": {
     "slide_type": "subslide"
    }
   },
   "source": [
    "# Comparison\n",
    "\n",
    "<table style=\"border: hidden; \" align=\"center\">\n",
    "  <tr>\n",
    "    <td style=\"border: hidden; text-align: center\"><img src=\"images/mc_limestone.png\" width=300></td>\n",
    "    <td style=\"border: hidden; text-align: center\"><img src=\"images/ml_limestone.png\" width=300></td>\n",
    "  </tr>\n",
    "  <tr>\n",
    "    <td style=\"border: hidden; text-align: center\">Mohr-Coulomb</td>\n",
    "    <td style=\"border: hidden; text-align: center\">modified Lade</td>\n",
    "  </tr>\n",
    "</table>\n",
    "\n",
    "&copy; Cambridge University Press [Zoback, *Reservoir Geomechanics*](http://www.amazon.com/Reservoir-Geomechanics-Paperback-Author-Zoback/dp/B00EFZ88EQ/ref=sr_1_2?ie=UTF8&qid=1422942834&sr=8-2&keywords=zoback+geomechanics) (Fig. 4.8b and 4.9b, pp. 96-97)"
   ]
  },
  {
   "cell_type": "markdown",
   "metadata": {
    "slideshow": {
     "slide_type": "slide"
    }
   },
   "source": [
    "# Others\n",
    "\n",
    " * modified Wiebols-Cook\n",
    " * Druker-Prager\n",
    " * many more!"
   ]
  }
 ],
 "metadata": {
  "celltoolbar": "Slideshow",
  "kernelspec": {
   "display_name": "Python 2",
   "language": "python",
   "name": "python2"
  },
  "language_info": {
   "codemirror_mode": {
    "name": "ipython",
    "version": 2
   },
   "file_extension": ".py",
   "mimetype": "text/x-python",
   "name": "python",
   "nbconvert_exporter": "python",
   "pygments_lexer": "ipython2",
   "version": "2.7.11"
  }
 },
 "nbformat": 4,
 "nbformat_minor": 0
}
