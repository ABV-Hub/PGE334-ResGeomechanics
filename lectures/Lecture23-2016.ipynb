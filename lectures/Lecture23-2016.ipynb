{
 "cells": [
  {
   "cell_type": "markdown",
   "metadata": {
    "slideshow": {
     "slide_type": "slide"
    }
   },
   "source": [
    "# Effects of reservior depletion\n",
    "\n",
    "<table style=\"border: hidden; \" align=\"center\">\n",
    "<tr>\n",
    "    <td style=\"border: hidden; text-align: center\"><img src=\"images/deplete_cartoon.png\" width=400></td>\n",
    "  </tr>\n",
    "</table>\n",
    "\n",
    "&copy; Cambridge University Press [Zoback, *Reservoir Geomechanics*](http://www.amazon.com/Reservoir-Geomechanics-Paperback-Author-Zoback/dp/B00EFZ88EQ/ref=sr_1_2?ie=UTF8&qid=1422942834&sr=8-2&keywords=zoback+geomechanics) (Fig. 10.21, pp. 380)"
   ]
  },
  {
   "cell_type": "markdown",
   "metadata": {
    "slideshow": {
     "slide_type": "slide"
    }
   },
   "source": [
    "# Estimating stress changes in depleting reserviors\n",
    "\n",
    "$${}$$\n",
    "\n",
    "$$\n",
    "S_{Hor} = S_{Hmax} = S_{hmin} = \\frac{\\nu}{1-\\nu} S_v + \\alpha P_p \\left(1 - \\frac{\\nu}{1-\\nu}\\right)\n",
    "$$"
   ]
  },
  {
   "cell_type": "markdown",
   "metadata": {
    "slideshow": {
     "slide_type": "fragment"
    }
   },
   "source": [
    "$$\n",
    "\\frac{{\\rm d}S_{Hor}}{{\\rm d}P_p} = \\alpha \\frac{1 - 2 \\nu}{\\nu - 1} \\qquad \\mbox{during production}\n",
    "$$"
   ]
  },
  {
   "cell_type": "markdown",
   "metadata": {
    "slideshow": {
     "slide_type": "fragment"
    }
   },
   "source": [
    "$$\n",
    "\\Delta S_{Hor} = \\alpha \\frac{1 - 2 \\nu}{\\nu - 1} \\Delta P_p\n",
    "$$"
   ]
  },
  {
   "cell_type": "markdown",
   "metadata": {
    "slideshow": {
     "slide_type": "fragment"
    }
   },
   "source": [
    "Taking $\\nu = \\frac{1}{4}$ and $\\alpha = 1$\n",
    "\n",
    "$$\n",
    "\\Delta S_{Hor} \\sim \\frac{2}{3} \\Delta P_p\n",
    "$$"
   ]
  },
  {
   "cell_type": "markdown",
   "metadata": {
    "slideshow": {
     "slide_type": "slide"
    }
   },
   "source": [
    "# Comparison of theory and observation\n",
    "\n",
    "$${}$$\n",
    "\n",
    "\n",
    "<table style=\"border: hidden; \" align=\"center\">\n",
    "<tr>\n",
    "    <td style=\"border: hidden; text-align: center\"><img src=\"images/deplete_theory_compare.png\" width=450></td>\n",
    "  </tr>\n",
    "</table>\n",
    "\n",
    "&copy; Cambridge University Press [Zoback, *Reservoir Geomechanics*](http://www.amazon.com/Reservoir-Geomechanics-Paperback-Author-Zoback/dp/B00EFZ88EQ/ref=sr_1_2?ie=UTF8&qid=1422942834&sr=8-2&keywords=zoback+geomechanics) (Fig. 12.2, pp. 382)"
   ]
  },
  {
   "cell_type": "markdown",
   "metadata": {
    "slideshow": {
     "slide_type": "slide"
    }
   },
   "source": [
    "# Production induced faulting\n",
    "\n",
    "$${}$$\n",
    "\n",
    "$$\n",
    "\\frac{S_v - (Pp - \\Delta P_p)}{(S_{hmin}-\\Delta S_{hmin}) - (Pp - \\Delta P_p)} = (\\sqrt{\\mu^2+1}+\\mu)^2\n",
    "$$"
   ]
  },
  {
   "cell_type": "markdown",
   "metadata": {
    "slideshow": {
     "slide_type": "fragment"
    }
   },
   "source": [
    "Simplification leads to\n",
    "\n",
    "$$\n",
    "\\frac{\\Delta S_{Hmin}}{\\Delta P_p} = 1 - \\frac{1}{(\\sqrt{\\mu^2+1}+\\mu)^2}\n",
    "$$"
   ]
  },
  {
   "cell_type": "markdown",
   "metadata": {
    "slideshow": {
     "slide_type": "fragment"
    }
   },
   "source": [
    "For $\\mu = 0.6$\n",
    "\n",
    "$$\n",
    "\\frac{\\Delta S_{Hmin}}{\\Delta P_p} = 0.67\n",
    "$$"
   ]
  },
  {
   "cell_type": "markdown",
   "metadata": {
    "slideshow": {
     "slide_type": "slide"
    }
   },
   "source": [
    "# Reservoir space plot\n",
    "\n",
    "$${}$$\n",
    "\n",
    "\n",
    "<table style=\"border: hidden; \" align=\"center\">\n",
    "<tr>\n",
    "    <td style=\"border: hidden; text-align: center\"><img src=\"images/res_space_plot.png\" width=350></td>\n",
    "  </tr>\n",
    "</table>\n",
    "\n",
    "&copy; Cambridge University Press [Zoback, *Reservoir Geomechanics*](http://www.amazon.com/Reservoir-Geomechanics-Paperback-Author-Zoback/dp/B00EFZ88EQ/ref=sr_1_2?ie=UTF8&qid=1422942834&sr=8-2&keywords=zoback+geomechanics) (Fig. 12.4a, pp. 386)"
   ]
  },
  {
   "cell_type": "markdown",
   "metadata": {
    "slideshow": {
     "slide_type": "slide"
    }
   },
   "source": [
    "# GOM Field X\n",
    "\n",
    "$${}$$\n",
    "\n",
    "\n",
    "<table style=\"border: hidden; \" align=\"center\">\n",
    "<tr>\n",
    "    <td style=\"border: hidden; text-align: center\"><img src=\"images/field_x_1.png\" width=300></td>\n",
    "    <td style=\"border: hidden; text-align: center\"><img src=\"images/field_x_2.png\" width=450></td>\n",
    "  </tr>\n",
    "</table>\n",
    "\n",
    "&copy; Cambridge University Press [Zoback, *Reservoir Geomechanics*](http://www.amazon.com/Reservoir-Geomechanics-Paperback-Author-Zoback/dp/B00EFZ88EQ/ref=sr_1_2?ie=UTF8&qid=1422942834&sr=8-2&keywords=zoback+geomechanics) (Fig. 12.3ab, pp. 383)"
   ]
  },
  {
   "cell_type": "markdown",
   "metadata": {
    "slideshow": {
     "slide_type": "subslide"
    }
   },
   "source": [
    "$${}$$\n",
    "\n",
    "\n",
    "<table style=\"border: hidden; \" align=\"center\">\n",
    "<tr>\n",
    "    <td style=\"border: hidden; text-align: center\"><img src=\"images/field_x_3.png\" width=350></td>\n",
    "  </tr>\n",
    "</table>\n",
    "\n",
    "&copy; Cambridge University Press [Zoback, *Reservoir Geomechanics*](http://www.amazon.com/Reservoir-Geomechanics-Paperback-Author-Zoback/dp/B00EFZ88EQ/ref=sr_1_2?ie=UTF8&qid=1422942834&sr=8-2&keywords=zoback+geomechanics) (Fig. 12.4b, pp. 387)"
   ]
  },
  {
   "cell_type": "markdown",
   "metadata": {
    "slideshow": {
     "slide_type": "slide"
    }
   },
   "source": [
    "# Valhall field in North Sea\n",
    "\n",
    "$${}$$\n",
    "\n",
    "\n",
    "<table style=\"border: hidden; \" align=\"center\">\n",
    "<tr>\n",
    "    <td style=\"border: hidden; text-align: center\"><img src=\"images/valhall.png\" width=350></td>\n",
    "  </tr>\n",
    "</table>\n",
    "\n",
    "&copy; Cambridge University Press [Zoback, *Reservoir Geomechanics*](http://www.amazon.com/Reservoir-Geomechanics-Paperback-Author-Zoback/dp/B00EFZ88EQ/ref=sr_1_2?ie=UTF8&qid=1422942834&sr=8-2&keywords=zoback+geomechanics) (Fig. 12.5, pp. 388)"
   ]
  },
  {
   "cell_type": "markdown",
   "metadata": {
    "slideshow": {
     "slide_type": "slide"
    }
   },
   "source": [
    "# Stress rotations with depletion\n",
    "\n",
    "$${}$$\n",
    "\n",
    "\n",
    "<table style=\"border: hidden; \" align=\"center\">\n",
    "<tr>\n",
    "    <td style=\"border: hidden; text-align: center\"><img src=\"images/deplete_orig.png\" width=200>$\\qquad \\qquad$</td>\n",
    "    <td style=\"border: hidden; text-align: center\"><img src=\"images/deplete_rot.png\" width=202></td>\n",
    "  </tr>\n",
    "  <tr>\n",
    "    <td style=\"border: hidden; text-align: center\">Original</td>\n",
    "    <td style=\"border: hidden; text-align: center\">Depleted</td>\n",
    "  </tr>\n",
    "</table>\n",
    "\n",
    "&copy; Cambridge University Press [Zoback, *Reservoir Geomechanics*](http://www.amazon.com/Reservoir-Geomechanics-Paperback-Author-Zoback/dp/B00EFZ88EQ/ref=sr_1_2?ie=UTF8&qid=1422942834&sr=8-2&keywords=zoback+geomechanics) (Fig. 12.6ab, pp. 391)"
   ]
  },
  {
   "cell_type": "markdown",
   "metadata": {
    "slideshow": {
     "slide_type": "slide"
    }
   },
   "source": [
    "# Rotation angle, $\\gamma$ near the fault due to depletion\n",
    "\n",
    "\n",
    "$${}$$\n",
    "\n",
    "$$\n",
    "\\gamma = \\frac{1}{2} \\tan^{-1}\\left( \\frac{A q \\sin(2 \\theta)}{1+A q \\cos(2 \\theta)} \\right)\n",
    "$$\n",
    "\n",
    "\n",
    "with \n",
    "\n",
    "$$\n",
    "A = \\frac{\\Delta S_{hmin}}{\\Delta P_p}\n",
    "$$\n",
    "\n",
    "and \n",
    "\n",
    "$$\n",
    "q = \\frac{\\Delta P_p}{S_{Hmax} - S_{hmin}}\n",
    "$$"
   ]
  }
 ],
 "metadata": {
  "celltoolbar": "Slideshow",
  "kernelspec": {
   "display_name": "Python 3",
   "language": "python",
   "name": "python3"
  },
  "language_info": {
   "codemirror_mode": {
    "name": "ipython",
    "version": 3
   },
   "file_extension": ".py",
   "mimetype": "text/x-python",
   "name": "python",
   "nbconvert_exporter": "python",
   "pygments_lexer": "ipython3",
   "version": "3.5.1"
  }
 },
 "nbformat": 4,
 "nbformat_minor": 0
}
