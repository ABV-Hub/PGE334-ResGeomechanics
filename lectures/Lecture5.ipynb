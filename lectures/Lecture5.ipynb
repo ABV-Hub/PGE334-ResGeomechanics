{
 "cells": [
  {
   "cell_type": "markdown",
   "metadata": {
    "slideshow": {
     "slide_type": "slide"
    }
   },
   "source": [
    "#Mechanisms of overpressure"
   ]
  },
  {
   "cell_type": "markdown",
   "metadata": {
    "slideshow": {
     "slide_type": "subslide"
    }
   },
   "source": [
    "# Disequilibrium compaction\n",
    "\n",
    " * Ongoing sedimentation increases overburden (vertical stress) faster than fluid diffuses out of zone"
   ]
  },
  {
   "cell_type": "markdown",
   "metadata": {
    "slideshow": {
     "slide_type": "fragment"
    }
   },
   "source": [
    "##Characteristic time of diffusion in porous medium\n",
    "\n",
    "$${}$$\n",
    "\n",
    "$$\n",
    "\\tau = \\frac{(\\phi \\beta_f + \\beta_r) \\eta l^2}{k}\n",
    "$$"
   ]
  },
  {
   "cell_type": "markdown",
   "metadata": {
    "slideshow": {
     "slide_type": "fragment"
    }
   },
   "source": [
    " * low-permiability sand (~1 md) \n",
    "   - $\\tau$ on the order of years for $l=0.1$km"
   ]
  },
  {
   "cell_type": "markdown",
   "metadata": {
    "slideshow": {
     "slide_type": "fragment"
    }
   },
   "source": [
    " * low-permiability shale (~10 nd) \n",
    "   - $\\tau$ on the order of 100,000 years for $l=0.1$km"
   ]
  },
  {
   "cell_type": "code",
   "execution_count": 31,
   "metadata": {
    "collapsed": false,
    "scrolled": true,
    "slideshow": {
     "slide_type": "skip"
    }
   },
   "outputs": [],
   "source": [
    "#%matplotlib inline\n",
    "#import matplotlib.pyplot as plt\n",
    "#import numpy as np\n",
    "#from IPython.html.widgets import interact\n",
    "\n",
    "#def myfun(x, k, eta, bf, br, phi):\n",
    "    \n",
    "#    return (phi * bf + bf) * eta * x*x / k / 3.15569e7\n",
    "\n",
    "#@interact(k=(10, 150))\n",
    "#def myplot(k):\n",
    "    \n",
    "#    fig, ax = plt.subplots(figsize=(4, 3),\n",
    "#                           subplot_kw={'axisbg':'#EEEEEE',\n",
    "#                                       'axisbelow':True})\n",
    "#    ax.grid(color='w', linewidth=2, linestyle='solid')\n",
    "#    x = np.linspace(0., 0.1, 100)\n",
    "#    y =  myfun(x, k, 1.e-3, 0.3, 0.3, 0.3)\n",
    "#    ax.plot(x,y)\n",
    "#    return fig"
   ]
  },
  {
   "cell_type": "markdown",
   "metadata": {
    "slideshow": {
     "slide_type": "slide"
    }
   },
   "source": [
    "#Common in Gulf of Mexico\n",
    "\n",
    "${}$\n",
    "\n",
    "<img src=\"images/disequil_compaction.png\" width=500>\n",
    "\n",
    "&copy; John Wiley & Sons, Inc. [Gordon and Flemmings, 1998](http:dx.doi.org/0.1046/j.1365-2117.1998.00052.x)"
   ]
  },
  {
   "cell_type": "markdown",
   "metadata": {
    "slideshow": {
     "slide_type": "slide"
    }
   },
   "source": [
    "#Techtonic compaction\n",
    "\n",
    "${}$\n",
    "\n",
    " * Occurs in areas where large-scale tectonic stress changes occur over geolocgically short periods of time."
   ]
  },
  {
   "cell_type": "markdown",
   "metadata": {
    "slideshow": {
     "slide_type": "notes"
    }
   },
   "source": [
    "California"
   ]
  },
  {
   "cell_type": "markdown",
   "metadata": {
    "slideshow": {
     "slide_type": "slide"
    }
   },
   "source": [
    "#Hydrocarbon column heights\n",
    "\n",
    "${}$\n",
    "\n",
    "<img src=\"images/HCH.png\" width=500>\n",
    "\n",
    "[Image Source](http://petrowiki.org/File%3AVol5_Page_0004_Image_0001.png)"
   ]
  },
  {
   "cell_type": "markdown",
   "metadata": {
    "slideshow": {
     "slide_type": "subslide"
    }
   },
   "source": [
    "#Hydrocarbon column heights\n",
    "\n",
    "${}$\n",
    "\n",
    "<img src=\"images/HCH2.png\" width=400>\n",
    "\n",
    "&copy; Cambridge University Press [Zoback, *Reservoir Geomechanics*](http://www.amazon.com/Reservoir-Geomechanics-Paperback-Author-Zoback/dp/B00EFZ88EQ/ref=sr_1_2?ie=UTF8&qid=1422942834&sr=8-2&keywords=zoback+geomechanics) (Fig. 2.11, pp. 42)"
   ]
  },
  {
   "cell_type": "markdown",
   "metadata": {
    "slideshow": {
     "slide_type": "slide"
    }
   },
   "source": [
    "#Centroid effects\n",
    "\n",
    "${}$\n",
    "\n",
    "<img src=\"images/centroid.png\" width=600>\n",
    "\n",
    "&copy; Cambridge University Press [Zoback, *Reservoir Geomechanics*](http://www.amazon.com/Reservoir-Geomechanics-Paperback-Author-Zoback/dp/B00EFZ88EQ/ref=sr_1_2?ie=UTF8&qid=1422942834&sr=8-2&keywords=zoback+geomechanics) (Fig. 2.12, pp. 43)"
   ]
  },
  {
   "cell_type": "markdown",
   "metadata": {
    "slideshow": {
     "slide_type": "notes"
    }
   },
   "source": [
    "Can cause \"kicks\" in drilling, because pressure will exceed mud weight pressure and formation fluids will get into the wellbore.  If this increases in severity uncontrolled, it could lead to a blowout."
   ]
  },
  {
   "cell_type": "markdown",
   "metadata": {
    "slideshow": {
     "slide_type": "slide"
    }
   },
   "source": [
    "#Other  mechanisms\n",
    "\n",
    "${}$\n",
    "\n",
    "### Aquathermal pressurization\n",
    " \n",
    "   - Temperature increases due to radioactive decay and upward heat flow from mantle\n",
    "   \n",
    "### Hydrocarbon generation\n",
    " \n",
    "   - From thermal maturation of kerogen"
   ]
  },
  {
   "cell_type": "markdown",
   "metadata": {
    "slideshow": {
     "slide_type": "slide"
    }
   },
   "source": [
    "#Direct measurement of pore pressure\n",
    "\n",
    " * Via wireline samplers that isolate formation pressure from annular pressure in a small area at the wellbore wall.\n",
    " * Mud weight"
   ]
  },
  {
   "cell_type": "markdown",
   "metadata": {
    "slideshow": {
     "slide_type": "slide"
    }
   },
   "source": [
    "#Estimation of pore pressure at depth"
   ]
  },
  {
   "cell_type": "markdown",
   "metadata": {
    "slideshow": {
     "slide_type": "subslide"
    }
   },
   "source": [
    "#Confined compaction experiment\n",
    "\n",
    "${}$\n",
    "\n",
    "<img src=\"images/confined_compaction_exp.png\" width=500>\n",
    "\n",
    "&copy; Cambridge University Press [Zoback, *Reservoir Geomechanics*](http://www.amazon.com/Reservoir-Geomechanics-Paperback-Author-Zoback/dp/B00EFZ88EQ/ref=sr_1_2?ie=UTF8&qid=1422942834&sr=8-2&keywords=zoback+geomechanics) (Fig. 2.13, pp. 46)"
   ]
  },
  {
   "cell_type": "markdown",
   "metadata": {
    "slideshow": {
     "slide_type": "subslide"
    }
   },
   "source": [
    "#Shale compaction relation\n",
    "\n",
    "${}$\n",
    "\n",
    "$\\phi = \\phi_0 e^{-\\beta (S_v - P_p)}$"
   ]
  },
  {
   "cell_type": "markdown",
   "metadata": {
    "slideshow": {
     "slide_type": "subslide"
    }
   },
   "source": [
    "##Use with caution!\n",
    "\n",
    "${}$\n",
    "\n",
    "<img src=\"images/compation_deviation.png\" width=600>\n",
    "\n",
    "&copy; Cambridge University Press [Zoback, *Reservoir Geomechanics*](http://www.amazon.com/Reservoir-Geomechanics-Paperback-Author-Zoback/dp/B00EFZ88EQ/ref=sr_1_2?ie=UTF8&qid=1422942834&sr=8-2&keywords=zoback+geomechanics) (Fig. 2.14, pp. 48)"
   ]
  },
  {
   "cell_type": "markdown",
   "metadata": {
    "slideshow": {
     "slide_type": "subslide"
    }
   },
   "source": [
    "#Porosity inference from $P$-waves\n",
    "\n",
    "${}$\n",
    "\n",
    "$P_p = S_v + \\left(\\frac{1}{\\beta} \\ln\\left(\\frac{\\phi_0}{\\phi}\\right)\\right) \\quad \\quad \\phi = 1 - \\left(\\frac{\\Delta t_{ma}}{\\Delta t}\\right)^{\\frac{1}{f}}$\n",
    "\n",
    "\n",
    "<table style=\"border: hidden; \" align=\"center\">\n",
    "  <tr>\n",
    "    <td style=\"border: hidden\" style=\"text-align:center\"><img src=\"images/beta_est.png\" width=250></td>\n",
    "    <td style=\"border: hidden\" style=\"text-align:center\"><img src=\"images/f_est.png\" width=270></td> \n",
    "    <td style=\"border: hidden\" style=\"text-align:center\"><img src=\"images/pp_predict.png\" width=130></td> \n",
    "  </tr>\n",
    "  <tr>\n",
    "    <td style=\"border: hidden; text-align: center\">Compaction</td>\n",
    "    <td style=\"border: hidden; text-align: center\">$P$-wave</td>\n",
    "    <td style=\"border: hidden; text-align: center\">Pore pressures</td>\n",
    "  </tr>\n",
    "</table>\n",
    "\n",
    "&copy; Cambridge University Press [Zoback, *Reservoir Geomechanics*](http://www.amazon.com/Reservoir-Geomechanics-Paperback-Author-Zoback/dp/B00EFZ88EQ/ref=sr_1_2?ie=UTF8&qid=1422942834&sr=8-2&keywords=zoback+geomechanics) (Figs. 2.16a,b, pp. 48, Fig. 2.8b, pp. 36)"
   ]
  }
 ],
 "metadata": {
  "celltoolbar": "Slideshow",
  "kernelspec": {
   "display_name": "Python 3",
   "language": "python",
   "name": "python3"
  },
  "language_info": {
   "codemirror_mode": {
    "name": "ipython",
    "version": 3
   },
   "file_extension": ".py",
   "mimetype": "text/x-python",
   "name": "python",
   "nbconvert_exporter": "python",
   "pygments_lexer": "ipython3",
   "version": "3.4.2"
  }
 },
 "nbformat": 4,
 "nbformat_minor": 0
}
