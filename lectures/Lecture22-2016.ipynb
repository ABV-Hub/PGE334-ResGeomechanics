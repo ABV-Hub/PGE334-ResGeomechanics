{
 "cells": [
  {
   "cell_type": "markdown",
   "metadata": {
    "slideshow": {
     "slide_type": "slide"
    }
   },
   "source": [
    "# Step-rate test\n",
    "\n",
    "${}$\n",
    "\n",
    "<table style=\"border: hidden; \" align=\"center\">\n",
    "  <tr>\n",
    "    <td style=\"border: hidden; text-align: center\"><img src=\"images/step-rate.png\" width=500></td>\n",
    "  </tr>\n",
    "</table>\n",
    "\n",
    "&copy; Cambridge University Press [Zoback, *Reservoir Geomechanics*](http://www.amazon.com/Reservoir-Geomechanics-Paperback-Author-Zoback/dp/B00EFZ88EQ/ref=sr_1_2?ie=UTF8&qid=1422942834&sr=8-2&keywords=zoback+geomechanics) (Fig. 7.5, pp. 216)"
   ]
  },
  {
   "cell_type": "markdown",
   "metadata": {
    "slideshow": {
     "slide_type": "slide"
    }
   },
   "source": [
    "#  Be careful!\n",
    "\n",
    "### When $S_3 \\sim S_v$ integrate density logs\n",
    "\n",
    "${}$\n",
    "\n",
    "<table style=\"border: hidden; \" align=\"center\">\n",
    "  <tr>\n",
    "    <td style=\"border: hidden; text-align: center\"><img src=\"images/care-s3-sv.png\" width=300></td>\n",
    "  </tr>\n",
    "</table>\n",
    "\n",
    "&copy; Cambridge University Press [Zoback, *Reservoir Geomechanics*](http://www.amazon.com/Reservoir-Geomechanics-Paperback-Author-Zoback/dp/B00EFZ88EQ/ref=sr_1_2?ie=UTF8&qid=1422942834&sr=8-2&keywords=zoback+geomechanics) (Fig. 7.4, pp. 214)"
   ]
  },
  {
   "cell_type": "markdown",
   "metadata": {
    "slideshow": {
     "slide_type": "slide"
    }
   },
   "source": [
    "# What about $S_{Hmax}$?\n",
    "\n",
    "${}$\n",
    "\n",
    "$$\n",
    "\\Delta P = P_b - P_p\n",
    "$$\n",
    "\n",
    "so\n",
    "\n",
    "$$\n",
    "S_{Hmax} = 3 S_{hmin} - P_b - P_p + T_0\n",
    "$$\n",
    "\n",
    "or\n",
    "\n",
    "$$\n",
    "S_{Hmax} = 3 S_{hmin} - P_b(T=0) - P_p\n",
    "$$"
   ]
  },
  {
   "cell_type": "markdown",
   "metadata": {
    "slideshow": {
     "slide_type": "subslide"
    }
   },
   "source": [
    "# Does it work?\n",
    "\n",
    "Consider a system with compressibility $\\beta_s$\n",
    "\n",
    "$$\n",
    "\\beta_s = \\frac{\\Delta V_s}{V_s} \\frac{1}{\\Delta P}\n",
    "$$"
   ]
  },
  {
   "cell_type": "markdown",
   "metadata": {
    "slideshow": {
     "slide_type": "fragment"
    }
   },
   "source": [
    "$$\n",
    "\\Delta P = \\frac{1}{\\beta_s V_s} \\Delta V_s\n",
    "$$"
   ]
  },
  {
   "cell_type": "markdown",
   "metadata": {
    "slideshow": {
     "slide_type": "fragment"
    }
   },
   "source": [
    "$$\n",
    "\\frac{\\Delta P}{\\Delta t} = \\frac{1}{\\beta_s V_s} \\frac{\\Delta V_s}{\\Delta t}\n",
    "$$"
   ]
  },
  {
   "cell_type": "markdown",
   "metadata": {
    "slideshow": {
     "slide_type": "fragment"
    }
   },
   "source": [
    "### Answer: Not very well."
   ]
  },
  {
   "cell_type": "markdown",
   "metadata": {
    "slideshow": {
     "slide_type": "slide"
    }
   },
   "source": [
    "# Occurance of both drilling induced tensile fractures and breakouts\n",
    "\n",
    "### Allows for estimate of rock strength *in-situ*"
   ]
  },
  {
   "cell_type": "markdown",
   "metadata": {
    "slideshow": {
     "slide_type": "fragment"
    }
   },
   "source": [
    "**Recall: $S_{Hmax}$ from breakout data**\n",
    "\n",
    "$$\n",
    "S_{Hmax} = \\frac{(C_0 + 2 P_p + \\Delta P + \\Delta \\sigma^T) - S_{hmin}(1 + 2 \\cos(\\pi - w_{bo}))}{1 - 2 \\cos(\\pi - w_{bo})}\n",
    "$$"
   ]
  },
  {
   "cell_type": "markdown",
   "metadata": {
    "slideshow": {
     "slide_type": "fragment"
    }
   },
   "source": [
    "**Recall: From Kirsch solution**\n",
    "\n",
    "$$\n",
    "S_{Hmax} = 3 S_{hmin} - 2 P_p - \\Delta P - T_0 - \\sigma^{\\Delta T}\n",
    "$$"
   ]
  },
  {
   "cell_type": "markdown",
   "metadata": {
    "slideshow": {
     "slide_type": "slide"
    }
   },
   "source": [
    "## Geomechanical case study: Cook Inlet Alaska\n",
    "\n",
    "## To case or not to case?\n",
    "\n",
    "<table style=\"border: hidden; \" align=\"center\">\n",
    "<tr>\n",
    "    <td style=\"border: hidden; text-align: center\"><img src=\"images/cook_inlet1.png\" width=400> $\\quad \\quad$</td>\n",
    "    <td style=\"border: hidden; text-align: center\"><img src=\"images/cook_inlet2.png\" width=200></td>\n",
    "  </tr>\n",
    "</table>\n",
    "\n",
    "&copy; Cambridge University Press [Zoback, *Reservoir Geomechanics*](http://www.amazon.com/Reservoir-Geomechanics-Paperback-Author-Zoback/dp/B00EFZ88EQ/ref=sr_1_2?ie=UTF8&qid=1422942834&sr=8-2&keywords=zoback+geomechanics) (Fig. 10.21, pp. 334)"
   ]
  },
  {
   "cell_type": "markdown",
   "metadata": {
    "slideshow": {
     "slide_type": "slide"
    }
   },
   "source": [
    "## Emperical strength model from cores\n",
    "\n",
    "\n",
    "$${}$$\n",
    "\n",
    "$$\n",
    "C_0 = 1.745 \\times 10^{-9} \\rho V_p^2 -21\n",
    "$$\n",
    "\n",
    "$${}$$\n",
    "$${}$$\n",
    "\n",
    "&copy; Cambridge University Press [Zoback, *Reservoir Geomechanics*](http://www.amazon.com/Reservoir-Geomechanics-Paperback-Author-Zoback/dp/B00EFZ88EQ/ref=sr_1_2?ie=UTF8&qid=1422942834&sr=8-2&keywords=zoback+geomechanics) (Table 4.1, Eq. 5, pp. 113)"
   ]
  },
  {
   "cell_type": "markdown",
   "metadata": {
    "slideshow": {
     "slide_type": "slide"
    }
   },
   "source": [
    "## Pressure drawdown and sand production\n",
    "\n",
    "<table style=\"border: hidden; \" align=\"center\">\n",
    "<tr>\n",
    "    <td style=\"border: hidden; text-align: center\"><img src=\"images/cook_inlet_pd1.png\" width=150>$\\quad \\quad$</td>\n",
    "    <td style=\"border: hidden; text-align: center\"><img src=\"images/cook_inlet_pd2.png\" width=150></td>\n",
    "  </tr>\n",
    "  <tr>\n",
    "  <td style=\"border: hidden; text-align: center\">\n",
    "  500 psi slow drawdown\n",
    "  </td>\n",
    "  <td style=\"border: hidden; text-align: center\">\n",
    "  $\\sim 60^\\circ$ breakouts\n",
    "  </td>\n",
    "  </tr>\n",
    "  <tr>\n",
    "    <td style=\"border: hidden; text-align: center\"><img src=\"images/cook_inlet_pd3.png\" width=150>$\\quad \\quad$</td>\n",
    "    <td style=\"border: hidden; text-align: center\"><img src=\"images/cook_inlet_pd4.png\" width=150></td>\n",
    "  </tr>\n",
    "   <td style=\"border: hidden; text-align: center\">\n",
    "  1000 psi rapid drawdown\n",
    "  </td>\n",
    "  <td style=\"border: hidden; text-align: center\">\n",
    "  $> 90^\\circ$ breakouts\n",
    "  </td>\n",
    "</table>\n",
    "\n",
    "&copy; Cambridge University Press [Zoback, *Reservoir Geomechanics*](http://www.amazon.com/Reservoir-Geomechanics-Paperback-Author-Zoback/dp/B00EFZ88EQ/ref=sr_1_2?ie=UTF8&qid=1422942834&sr=8-2&keywords=zoback+geomechanics) (Fig. 10.22, pp. 335)"
   ]
  },
  {
   "cell_type": "markdown",
   "metadata": {
    "slideshow": {
     "slide_type": "slide"
    }
   },
   "source": [
    "# Preventing sand production by limiting production rate\n",
    "\n",
    "<table style=\"border: hidden; \" align=\"center\">\n",
    "<tr>\n",
    "    <td style=\"border: hidden; text-align: center\"><img src=\"images/sand_production1.png\" width=450>$\\quad \\quad$</td>\n",
    "  </tr>\n",
    "</table>\n",
    "\n",
    "&copy; Cambridge University Press [Zoback, *Reservoir Geomechanics*](http://www.amazon.com/Reservoir-Geomechanics-Paperback-Author-Zoback/dp/B00EFZ88EQ/ref=sr_1_2?ie=UTF8&qid=1422942834&sr=8-2&keywords=zoback+geomechanics) (Fig. 10.23, pp. 336)"
   ]
  },
  {
   "cell_type": "markdown",
   "metadata": {
    "slideshow": {
     "slide_type": "slide"
    }
   },
   "source": [
    "# Preventing sand production with perforation orientation\n",
    "\n",
    "<table style=\"border: hidden; \" align=\"center\">\n",
    "<tr>\n",
    "    <td style=\"border: hidden; text-align: center\"><img src=\"images/sand_perforation1.png\" width=450>$\\quad \\quad$</td>\n",
    "  </tr>\n",
    "</table>\n",
    "\n",
    "&copy; Cambridge University Press [Zoback, *Reservoir Geomechanics*](http://www.amazon.com/Reservoir-Geomechanics-Paperback-Author-Zoback/dp/B00EFZ88EQ/ref=sr_1_2?ie=UTF8&qid=1422942834&sr=8-2&keywords=zoback+geomechanics) (Fig. 10.24a, pp. 337)"
   ]
  },
  {
   "cell_type": "markdown",
   "metadata": {
    "slideshow": {
     "slide_type": "subslide"
    }
   },
   "source": [
    "\n",
    "\n",
    "<table style=\"border: hidden; \" align=\"center\">\n",
    "<tr>\n",
    "    <td style=\"border: hidden; text-align: center\"><img src=\"images/sand_perforation3.png\" width=450>$\\quad \\quad$</td>\n",
    "  </tr>\n",
    "</table>\n",
    "\n",
    "&copy; Cambridge University Press [Zoback, *Reservoir Geomechanics*](http://www.amazon.com/Reservoir-Geomechanics-Paperback-Author-Zoback/dp/B00EFZ88EQ/ref=sr_1_2?ie=UTF8&qid=1422942834&sr=8-2&keywords=zoback+geomechanics) (Fig. 10.25, pp. 338)"
   ]
  },
  {
   "cell_type": "markdown",
   "metadata": {
    "slideshow": {
     "slide_type": "slide"
    }
   },
   "source": [
    "# Preventing sand production with azimuth changes\n",
    "\n",
    "### Considering fixed horizontal perforations\n",
    "\n",
    "<table style=\"border: hidden; \" align=\"center\">\n",
    "<tr>\n",
    "    <td style=\"border: hidden; text-align: center\"><img src=\"images/sand_perforation2.png\" width=450>$\\quad \\quad$</td>\n",
    "  </tr>\n",
    "</table>\n",
    "\n",
    "&copy; Cambridge University Press [Zoback, *Reservoir Geomechanics*](http://www.amazon.com/Reservoir-Geomechanics-Paperback-Author-Zoback/dp/B00EFZ88EQ/ref=sr_1_2?ie=UTF8&qid=1422942834&sr=8-2&keywords=zoback+geomechanics) (Fig. 10.24b, pp. 337)"
   ]
  }
 ],
 "metadata": {
  "celltoolbar": "Slideshow",
  "kernelspec": {
   "display_name": "Python 3",
   "language": "python",
   "name": "python3"
  },
  "language_info": {
   "codemirror_mode": {
    "name": "ipython",
    "version": 3
   },
   "file_extension": ".py",
   "mimetype": "text/x-python",
   "name": "python",
   "nbconvert_exporter": "python",
   "pygments_lexer": "ipython3",
   "version": "3.5.1"
  }
 },
 "nbformat": 4,
 "nbformat_minor": 0
}
