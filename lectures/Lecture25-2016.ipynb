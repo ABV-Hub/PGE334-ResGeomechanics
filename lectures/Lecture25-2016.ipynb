{
 "cells": [
  {
   "cell_type": "markdown",
   "metadata": {
    "slideshow": {
     "slide_type": "slide"
    }
   },
   "source": [
    "# Deformation in depleting reservoirs"
   ]
  },
  {
   "cell_type": "markdown",
   "metadata": {
    "slideshow": {
     "slide_type": "slide"
    }
   },
   "source": [
    "# Subsidence\n",
    "$${}$$\n",
    "\n",
    "\n",
    "<table style=\"border: hidden; \" align=\"center\">\n",
    "<tr>\n",
    "    <td style=\"border: hidden; text-align: center\"><img src=\"images/subsidence_craters.png\" width=400></td>\n",
    "</tr>\n",
    "</table>\n",
    "\n",
    "Source: [Wikimedia Commons](https://commons.wikimedia.org/wiki/File:NTS_-_Subsidence_craters.jpg) -- Public Domain"
   ]
  },
  {
   "cell_type": "markdown",
   "metadata": {
    "slideshow": {
     "slide_type": "slide"
    }
   },
   "source": [
    "# Geertsma (1973) dispacement solution\n",
    "\n",
    "$${}$$\n",
    "\n",
    "\n",
    "<table style=\"border: hidden; \" align=\"center\">\n",
    "<tr>\n",
    "    <td style=\"border: hidden; text-align: center\">\n",
    "    $$\n",
    "    \\begin{align}\n",
    "    u_z(r,0) &= -\\frac{1}{\\pi} c_m(1-\\nu) \\frac{D}{\\left(r^2 + D^2\\right)^{3/2}} \\Delta P_p V \\\\\n",
    "    u_r(r,0) &= +\\frac{1}{\\pi} c_m(1-\\nu) \\frac{D}{\\left(r^2 + D^2\\right)^{3/2}} \\Delta P_p V\n",
    "    \\end{align}\n",
    "    $$\n",
    "    </td>\n",
    "    <td style=\"border: hidden; text-align: center\"><img src=\"images/subsidence_tree.png\" width=400></td>\n",
    "  </tr>\n",
    "</table>\n",
    "\n",
    "&copy; Cambridge University Press [Zoback, *Reservoir Geomechanics*](http://www.amazon.com/Reservoir-Geomechanics-Paperback-Author-Zoback/dp/B00EFZ88EQ/ref=sr_1_2?ie=UTF8&qid=1422942834&sr=8-2&keywords=zoback+geomechanics) (Fig. 12.17, pp. 414)"
   ]
  },
  {
   "cell_type": "markdown",
   "metadata": {
    "slideshow": {
     "slide_type": "subslide"
    }
   },
   "source": [
    "$$\n",
    "\\begin{align}\n",
    "\\frac{u_z(r,0)}{\\Delta H} = A(\\rho, \\eta) & \\qquad \\rho = r/R \\\\\n",
    "\\frac{u_r(r,0)}{\\Delta H} = B(\\rho, \\eta) & \\qquad \\eta = D/R\n",
    "\\end{align}\n",
    "$$\n",
    "\n",
    "where\n",
    "\n",
    "$$\n",
    "A = \\begin{cases}\n",
    "-\\frac{k\\eta}{4\\sqrt{\\rho}} F_0(m) - \\frac{1}{2} \\Lambda_0(p,k)+1 &\\quad \\mbox{for} \\quad (p < 1) \\\\\n",
    "-\\frac{k\\eta}{4} F_0(m) + \\frac{1}{2} &\\quad \\mbox{for} \\quad (p = 1) \\\\\n",
    "-\\frac{k\\eta}{4\\sqrt{\\rho}} F_0(m) + \\frac{1}{2} \\Lambda_0(p,k) &\\quad \\mbox{for} \\quad (p > 1) \\\\\n",
    "\\end{cases}\n",
    "$$\n",
    "\n",
    "$$\n",
    "B = \\frac{1}{k\\sqrt{\\rho}} \\left( \\left(1-\\frac{1}{2} k^2 \\right) F_0(m) - E_0(m) \\right)\n",
    "$$\n",
    "\n",
    "with\n",
    "\n",
    "$$\n",
    "m = k^2 = \\frac{\\rho}{\\left(1-\\rho\\right)^2 + \\eta^2}  \\quad \\mbox{and} \\quad p = \\frac{k^2\\left(\\left(1-\\rho\\right)^2 + \\eta^2\\right)}{\\left(1-\\rho\\right)^2 + k^2}\n",
    "$$"
   ]
  },
  {
   "cell_type": "markdown",
   "metadata": {
    "slideshow": {
     "slide_type": "subslide"
    }
   },
   "source": [
    "# Subsidence and horizontal dispacement\n",
    "\n",
    "$${}$$\n",
    "\n",
    "\n",
    "<table style=\"border: hidden; \" align=\"center\">\n",
    "<tr>\n",
    "    <td style=\"border: hidden; text-align: center\"><img src=\"images/subsidence.png\" width=400></td>\n",
    "    <td style=\"border: hidden; text-align: center\"><img src=\"images/horizontal_disp.png\" width=400></td>\n",
    "  </tr>\n",
    "</table>\n",
    "\n",
    "&copy; Cambridge University Press [Zoback, *Reservoir Geomechanics*](http://www.amazon.com/Reservoir-Geomechanics-Paperback-Author-Zoback/dp/B00EFZ88EQ/ref=sr_1_2?ie=UTF8&qid=1422942834&sr=8-2&keywords=zoback+geomechanics) (Fig. 12.17, pp. 414)"
   ]
  },
  {
   "cell_type": "markdown",
   "metadata": {
    "slideshow": {
     "slide_type": "slide"
    }
   },
   "source": [
    "# Leeville case study\n",
    "\n",
    "$${}$$\n",
    "\n",
    "\n",
    "<table style=\"border: hidden; \" align=\"center\">\n",
    "<tr>\n",
    "    <td style=\"border: hidden; text-align: center\"><img src=\"images/leeville1.png\" width=300></td>\n",
    "     <td style=\"border: hidden; text-align: center\">$$\\quad$$</td>\n",
    "    <td style=\"border: hidden; text-align: center\"><img src=\"images/leeville2.png\" width=300></td>\n",
    "  </tr>\n",
    "</table>\n",
    "\n",
    "&copy; Cambridge University Press [Zoback, *Reservoir Geomechanics*](http://www.amazon.com/Reservoir-Geomechanics-Paperback-Author-Zoback/dp/B00EFZ88EQ/ref=sr_1_2?ie=UTF8&qid=1422942834&sr=8-2&keywords=zoback+geomechanics) (Fig. 12.18, pp. 416)"
   ]
  }
 ],
 "metadata": {
  "celltoolbar": "Slideshow",
  "kernelspec": {
   "display_name": "Python 3",
   "language": "python",
   "name": "python3"
  },
  "language_info": {
   "codemirror_mode": {
    "name": "ipython",
    "version": 3
   },
   "file_extension": ".py",
   "mimetype": "text/x-python",
   "name": "python",
   "nbconvert_exporter": "python",
   "pygments_lexer": "ipython3",
   "version": "3.5.1"
  }
 },
 "nbformat": 4,
 "nbformat_minor": 0
}
