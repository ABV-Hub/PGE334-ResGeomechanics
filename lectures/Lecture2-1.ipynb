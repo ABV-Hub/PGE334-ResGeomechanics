{
 "cells": [
  {
   "cell_type": "markdown",
   "metadata": {
    "slideshow": {
     "slide_type": "slide"
    }
   },
   "source": [
    "# Linear Algebra Basics"
   ]
  },
  {
   "cell_type": "markdown",
   "metadata": {
    "slideshow": {
     "slide_type": "slide"
    }
   },
   "source": [
    "## Matrix-Vector multiplication\n",
    "\n",
    "${}$\n",
    "\n",
    "\\begin{equation}\n",
    "\\left\\{\\begin{matrix}\n",
    "c_1 \\\\\n",
    "c_2 \\\\\n",
    "c_3 \n",
    "\\end{matrix}\\right\\} = \n",
    "\\begin{bmatrix}\n",
    "a_{11} & a_{12} & a_{13} \\\\\n",
    "a_{21} & a_{22} & a_{23}  \\\\\n",
    "a_{31} & a_{32} & a_{33} \n",
    "\\end{bmatrix}\n",
    "\\left\\{\\begin{matrix}\n",
    "b_1 \\\\\n",
    "b_2 \\\\\n",
    "b_3 \n",
    "\\end{matrix}\\right\\}\n",
    "\\end{equation}"
   ]
  },
  {
   "cell_type": "markdown",
   "metadata": {
    "slideshow": {
     "slide_type": "fragment"
    }
   },
   "source": [
    "$$\n",
    "c_1 = a_{11} b_1 + a_{12} b_2 + a_{13} b_3\n",
    "$$"
   ]
  },
  {
   "cell_type": "markdown",
   "metadata": {
    "slideshow": {
     "slide_type": "fragment"
    }
   },
   "source": [
    "$$\n",
    "c_2 = a_{21} b_1 + a_{22} b_2 + a_{23} b_3\n",
    "$$"
   ]
  },
  {
   "cell_type": "markdown",
   "metadata": {
    "slideshow": {
     "slide_type": "fragment"
    }
   },
   "source": [
    "$$\n",
    "c_3 = a_{31} b_1 + a_{32} b_2 + a_{33} b_3\n",
    "$$"
   ]
  },
  {
   "cell_type": "markdown",
   "metadata": {
    "slideshow": {
     "slide_type": "fragment"
    }
   },
   "source": [
    "**In words:** $c_i$ is the dot product of the $i^{\\mbox{th}}$ row of $\\mathbf{a}$ with $\\vec{b}$..."
   ]
  },
  {
   "cell_type": "markdown",
   "metadata": {
    "slideshow": {
     "slide_type": "slide"
    }
   },
   "source": [
    "## Matrix-Matrix multiplication\n",
    "\n",
    "${}$\n",
    "\n",
    "\\begin{equation}\n",
    "\\begin{bmatrix}\n",
    "c_{11} & c_{12} & c_{13} \\\\\n",
    "c_{21} & c_{22} & c_{23}  \\\\\n",
    "c_{31} & c_{32} & c_{33} \n",
    "\\end{bmatrix} = \n",
    "\\begin{bmatrix}\n",
    "a_{11} & a_{12} & a_{13} \\\\\n",
    "a_{21} & a_{22} & a_{23}  \\\\\n",
    "a_{31} & a_{32} & a_{33} \n",
    "\\end{bmatrix}\n",
    "\\begin{bmatrix}\n",
    "b_{11} & b_{12} & b_{13} \\\\\n",
    "b_{21} & b_{22} & b_{23}  \\\\\n",
    "b_{31} & b_{32} & b_{33} \n",
    "\\end{bmatrix}\n",
    "\\end{equation}"
   ]
  },
  {
   "cell_type": "markdown",
   "metadata": {
    "slideshow": {
     "slide_type": "fragment"
    }
   },
   "source": [
    "$$\n",
    "c_{11} = a_{11} b_{11} + a_{12} b_{21} + a_{13} b_{31}\n",
    "$$"
   ]
  },
  {
   "cell_type": "markdown",
   "metadata": {
    "slideshow": {
     "slide_type": "fragment"
    }
   },
   "source": [
    "\\begin{align}\n",
    "c_{12} &= a_{11} b_{12} + a_{12} b_{22} + a_{13} b_{32} \\\\\n",
    "       & \\vdots\n",
    "\\end{align}"
   ]
  },
  {
   "cell_type": "markdown",
   "metadata": {
    "slideshow": {
     "slide_type": "fragment"
    }
   },
   "source": [
    "**In words:** $c_{ij}$ is the dot product of the $i^{\\mbox{th}}$ row of $\\mathbf{a}$ with the $j^{\\mbox{th}}$ column of $\\mathbf{b}$"
   ]
  },
  {
   "cell_type": "markdown",
   "metadata": {
    "slideshow": {
     "slide_type": "slide"
    }
   },
   "source": [
    "# Examples"
   ]
  },
  {
   "cell_type": "markdown",
   "metadata": {
    "slideshow": {
     "slide_type": "fragment"
    }
   },
   "source": [
    "\\begin{equation}\n",
    "\\begin{bmatrix}\n",
    "2 & 1 \\\\\n",
    "3 & 2\n",
    "\\end{bmatrix}\n",
    "\\left\\{\n",
    "\\begin{matrix}\n",
    "1 \\\\\n",
    "2\n",
    "\\end{matrix}\\right\\} = \n",
    "\\left\\{\\begin{matrix}\n",
    "4 \\\\\n",
    "7\n",
    "\\end{matrix}\\right\\}\n",
    "\\end{equation}"
   ]
  },
  {
   "cell_type": "markdown",
   "metadata": {
    "slideshow": {
     "slide_type": "fragment"
    }
   },
   "source": [
    "\\begin{equation}\n",
    "\\begin{bmatrix}\n",
    "2 & 1 \\\\\n",
    "3 & 2\n",
    "\\end{bmatrix}\n",
    "\\begin{bmatrix}\n",
    "1 & 3 \\\\\n",
    "1 & 2\n",
    "\\end{bmatrix} = \n",
    "\\begin{bmatrix}\n",
    "3 & 8 \\\\\n",
    "5 & 13\n",
    "\\end{bmatrix}\n",
    "\\end{equation}"
   ]
  },
  {
   "cell_type": "markdown",
   "metadata": {
    "slideshow": {
     "slide_type": "slide"
    }
   },
   "source": [
    "# The determinant of a 2 x 2 matrix\n",
    "\n",
    "${}$\n",
    "\n",
    "$$\n",
    "\\mathbf{A} = \n",
    "\\begin{bmatrix}\n",
    "a & b \\\\\n",
    "c & d\n",
    "\\end{bmatrix}\n",
    "$$"
   ]
  },
  {
   "cell_type": "markdown",
   "metadata": {
    "slideshow": {
     "slide_type": "fragment"
    }
   },
   "source": [
    "$$\n",
    "\\det(\\mathbf{A}) = a \\cdot d - b \\cdot c\n",
    "$$"
   ]
  },
  {
   "cell_type": "markdown",
   "metadata": {
    "slideshow": {
     "slide_type": "slide"
    }
   },
   "source": [
    "# The determinant of a 3 x 3 matrix\n",
    "\n",
    "${}$\n",
    "\n",
    "$$\n",
    "\\mathbf{A} = \n",
    "\\begin{bmatrix}\n",
    "a & b & c\\\\\n",
    "d & e & f\\\\\n",
    "g & h & i\n",
    "\\end{bmatrix}\n",
    "$$"
   ]
  },
  {
   "cell_type": "markdown",
   "metadata": {
    "slideshow": {
     "slide_type": "fragment"
    }
   },
   "source": [
    "$$\n",
    "\\det(\\mathbf{A}) = a \\cdot ( e \\cdot i - f \\cdot h ) - b \\cdot ( d \\cdot i - f \\cdot g ) + c \\cdot ( d \\cdot h - e \\cdot g) \n",
    "$$"
   ]
  },
  {
   "cell_type": "markdown",
   "metadata": {
    "slideshow": {
     "slide_type": "slide"
    }
   },
   "source": [
    "# Matrix row operations\n",
    "\n",
    "Used in solving matrix equations, i.e.\n",
    "\n",
    "\n",
    "\\begin{equation}\n",
    "\\begin{bmatrix}\n",
    "a_{11} & a_{12} & a_{13} \\\\\n",
    "a_{21} & a_{22} & a_{23} \\\\\n",
    "a_{31} & a_{32} & a_{33}\n",
    "\\end{bmatrix}\n",
    "\\left\\{\n",
    "\\begin{matrix}\n",
    "x_1 \\\\\n",
    "x_2 \\\\\n",
    "x_3\n",
    "\\end{matrix}\n",
    "\\right\\} =\n",
    "\\left\\{\\begin{matrix}\n",
    "b_1 \\\\\n",
    "b_2 \\\\\n",
    "b_3\n",
    "\\end{matrix}\n",
    "\\right\\}\n",
    "\\end{equation}"
   ]
  },
  {
   "cell_type": "markdown",
   "metadata": {
    "slideshow": {
     "slide_type": "fragment"
    }
   },
   "source": [
    "$$\\mathbf{A}\\vec{x} = \\vec{b}$$"
   ]
  },
  {
   "cell_type": "markdown",
   "metadata": {
    "slideshow": {
     "slide_type": "fragment"
    }
   },
   "source": [
    " * Swaping rows doesn't change solution"
   ]
  },
  {
   "cell_type": "markdown",
   "metadata": {
    "slideshow": {
     "slide_type": "fragment"
    }
   },
   "source": [
    " * Adding rows together doesn't change solution"
   ]
  },
  {
   "cell_type": "markdown",
   "metadata": {
    "slideshow": {
     "slide_type": "fragment"
    }
   },
   "source": [
    " * Multiplying row by a scalar doesn't change solution"
   ]
  },
  {
   "cell_type": "markdown",
   "metadata": {
    "slideshow": {
     "slide_type": "slide"
    }
   },
   "source": [
    "# Example\n",
    "\n",
    "Solve for $\\vec{x}$\n",
    "\n",
    "\\begin{equation}\n",
    "\\begin{bmatrix}\n",
    "2 & 3 & -2 \\\\\n",
    "0 & 0 & 3 \\\\\n",
    "1 & 0 & 2 \\\\\n",
    "\\end{bmatrix}\n",
    "\\left\\{\n",
    "\\begin{matrix}\n",
    "x_1 \\\\\n",
    "x_2 \\\\\n",
    "x_3\n",
    "\\end{matrix}\\right\\} =\n",
    "\\left\\{\n",
    "\\begin{matrix}\n",
    "6 \\\\\n",
    "-6 \\\\\n",
    "3\n",
    "\\end{matrix}\\right\\}\n",
    "\\end{equation}"
   ]
  },
  {
   "cell_type": "markdown",
   "metadata": {
    "slideshow": {
     "slide_type": "slide"
    }
   },
   "source": [
    "# Eigenvalue problem\n",
    "\n",
    "${}$\n",
    "\n",
    "$$\n",
    "\\mathbf{A} \\vec{v} = \\lambda \\vec{v}\n",
    "$$"
   ]
  },
  {
   "cell_type": "markdown",
   "metadata": {
    "slideshow": {
     "slide_type": "notes"
    }
   },
   "source": [
    "A vector $\\vec{v}$ is said to be an eigenvector of $\\mathbf{A}$ if when multiplied by $\\mathbf{A}$ on the right, it becomes a scalar multple of itself."
   ]
  },
  {
   "cell_type": "markdown",
   "metadata": {
    "slideshow": {
     "slide_type": "fragment"
    }
   },
   "source": [
    "$$\n",
    "\\mathbf{A}\\vec{v} - \\lambda \\vec{v} = 0\n",
    "$$"
   ]
  },
  {
   "cell_type": "markdown",
   "metadata": {
    "slideshow": {
     "slide_type": "fragment"
    }
   },
   "source": [
    "$$\n",
    "(\\mathbf{A} - \\lambda \\mathbf{I})\\vec{v} = 0\n",
    "$$"
   ]
  },
  {
   "cell_type": "markdown",
   "metadata": {
    "slideshow": {
     "slide_type": "fragment"
    }
   },
   "source": [
    "A non-trivial solution for $\\vec{v}$ exists, if and only if\n",
    "\n",
    "$$\n",
    "\\det(\\mathbf{A} - \\lambda \\mathbf{I}) = 0\n",
    "$$"
   ]
  },
  {
   "cell_type": "markdown",
   "metadata": {},
   "source": [
    "The $\\lambda$'s are called the **eigenvalues**.  Examples to follow in the context of stress."
   ]
  },
  {
   "cell_type": "markdown",
   "metadata": {
    "slideshow": {
     "slide_type": "slide"
    }
   },
   "source": [
    "# Vector transformation\n",
    "\n",
    "${}$\n",
    "\n",
    "$$\n",
    "\\vec{v}' = \\mathbf{Q} \\vec{v}\n",
    "$$\n",
    "\n"
   ]
  },
  {
   "cell_type": "markdown",
   "metadata": {
    "slideshow": {
     "slide_type": "fragment"
    }
   },
   "source": [
    "$$\n",
    "\\mathbf{Q} =\n",
    "\\begin{bmatrix}\n",
    "\\cos(\\theta) & \\sin(\\theta) \\\\\n",
    "-\\sin(\\theta) & \\cos(\\theta)\n",
    "\\end{bmatrix}\n",
    "$$"
   ]
  },
  {
   "cell_type": "markdown",
   "metadata": {
    "slideshow": {
     "slide_type": "slide"
    }
   },
   "source": [
    "# Matrix transformation\n",
    "\n",
    "${}$\n",
    "\n",
    "$$\n",
    "\\mathbf{S}' = \\mathbf{Q}^{-1} \\mathbf{S} \\mathbf{Q}\n",
    "$$"
   ]
  },
  {
   "cell_type": "markdown",
   "metadata": {
    "slideshow": {
     "slide_type": "fragment"
    }
   },
   "source": [
    "If $\\mathbf{Q}$ is chosen such that its columns are eigenvectors of $\\mathbf{S}$, then $\\mathbf{S}'$ will be *diagonal* with its entries cooresponding to the eigenvalues $\\mathbf{S}$ (and $\\mathbf{S}'$)."
   ]
  }
 ],
 "metadata": {
  "celltoolbar": "Slideshow",
  "kernelspec": {
   "display_name": "Python 3",
   "language": "python",
   "name": "python3"
  },
  "language_info": {
   "codemirror_mode": {
    "name": "ipython",
    "version": 3
   },
   "file_extension": ".py",
   "mimetype": "text/x-python",
   "name": "python",
   "nbconvert_exporter": "python",
   "pygments_lexer": "ipython3",
   "version": "3.5.1"
  }
 },
 "nbformat": 4,
 "nbformat_minor": 0
}
