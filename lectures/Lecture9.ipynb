{
 "cells": [
  {
   "cell_type": "markdown",
   "metadata": {
    "slideshow": {
     "slide_type": "slide"
    }
   },
   "source": [
    "#Poroelasticity"
   ]
  },
  {
   "cell_type": "markdown",
   "metadata": {
    "slideshow": {
     "slide_type": "subslide"
    }
   },
   "source": [
    "#Poroelasticity Assumptions\n",
    "\n",
    " 1. There is an interconnected pore system uniformly saturated with fluid.\n",
    " 2. The total volume of the pore system is small compared to the volume of the rock.\n",
    " 3. The pore pressure, the total stress acting on the rock externally, and the stresses acting on the grains are statistically defined."
   ]
  },
  {
   "cell_type": "markdown",
   "metadata": {
    "collapsed": false,
    "slideshow": {
     "slide_type": "slide"
    }
   },
   "source": [
    "#Effective stress\n",
    "\n",
    "**Terzaghi definition**\n",
    "\n",
    "$$\n",
    "\\boldsymbol{\\sigma} = \\mathbf{S} - P_p \\mathbf{I}\n",
    "$$\n",
    "\n",
    "**\"Exact\" effective stress**\n",
    "\n",
    "$$\n",
    "\\boldsymbol{\\sigma} = \\mathbf{S} - \\alpha P_p \\mathbf{I}\n",
    "$$\n",
    "\n",
    "$\\alpha$ is called Biot's coefficient"
   ]
  },
  {
   "cell_type": "markdown",
   "metadata": {
    "slideshow": {
     "slide_type": "slide"
    }
   },
   "source": [
    "#Biot's coefficeint\n",
    "\n",
    "${}$\n",
    "\n",
    "$$\n",
    "\\alpha = 1 - \\dfrac{K_T}{K_S}\n",
    "$$\n",
    "\n",
    "For sand\n",
    "\n",
    "$$\n",
    "K_{S} >> K_T \\quad \\quad \\alpha \\approx 1 \\\\\n",
    "$$\n",
    "\n",
    "For rocks\n",
    "\n",
    "$$\n",
    "\\alpha \\approx \\frac{2}{3}\n",
    "$$"
   ]
  },
  {
   "cell_type": "markdown",
   "metadata": {
    "slideshow": {
     "slide_type": "subslide"
    }
   },
   "source": [
    "#Biot's coefficient (cont.)\n",
    "\n",
    "<img src=\"images/biots_coef.png\" width=400>\n",
    "\n",
    "&copy; Cambridge University Press [Zoback, *Reservoir Geomechanics*](http://www.amazon.com/Reservoir-Geomechanics-Paperback-Author-Zoback/dp/B00EFZ88EQ/ref=sr_1_2?ie=UTF8&qid=1422942834&sr=8-2&keywords=zoback+geomechanics) (Fig. 3.5c, pp. 69)"
   ]
  },
  {
   "cell_type": "markdown",
   "metadata": {
    "slideshow": {
     "slide_type": "slide"
    }
   },
   "source": [
    "#Poroelasticity = viscoelasticty\n",
    "\n",
    "<table style=\"border: hidden; \" align=\"center\">\n",
    "  <tr>\n",
    "    <td style=\"border: hidden; text-align: center\"><img src=\"images/visco1.png\" width=300></td>\n",
    "    <td style=\"border: hidden; text-align: center\"><img src=\"images/visco2.png\" width=300></td>\n",
    "  </tr>\n",
    "</table>\n",
    "\n",
    "&copy; Cambridge University Press [Zoback, *Reservoir Geomechanics*](http://www.amazon.com/Reservoir-Geomechanics-Paperback-Author-Zoback/dp/B00EFZ88EQ/ref=sr_1_2?ie=UTF8&qid=1422942834&sr=8-2&keywords=zoback+geomechanics) (Fig. 3.10c,d, pp. 75)"
   ]
  },
  {
   "cell_type": "markdown",
   "metadata": {
    "slideshow": {
     "slide_type": "subslide"
    }
   },
   "source": [
    "#Frequency dependence (load frame - ultrasonic)\n",
    "\n",
    "Elastic moduli measured from sonic logs will be frequency dependent in poroelastic rocks.\n",
    "\n",
    "<img src=\"images/freq_dep.png\" width=400>\n",
    "\n",
    "&copy; Cambridge University Press [Zoback, *Reservoir Geomechanics*](http://www.amazon.com/Reservoir-Geomechanics-Paperback-Author-Zoback/dp/B00EFZ88EQ/ref=sr_1_2?ie=UTF8&qid=1422942834&sr=8-2&keywords=zoback+geomechanics) (Fig. 3.7a, pp. 71)"
   ]
  },
  {
   "cell_type": "markdown",
   "metadata": {
    "slideshow": {
     "slide_type": "subslide"
    }
   },
   "source": [
    "#Frequency dependence (sonic - ultrasonic)\n",
    "\n",
    "Elastic moduli measured from sonic logs will be frequency dependent in poroelastic rocks.\n",
    "\n",
    "<img src=\"images/freq_dep2.png\" width=400>\n",
    "\n",
    "&copy; Cambridge University Press [Zoback, *Reservoir Geomechanics*](http://www.amazon.com/Reservoir-Geomechanics-Paperback-Author-Zoback/dp/B00EFZ88EQ/ref=sr_1_2?ie=UTF8&qid=1422942834&sr=8-2&keywords=zoback+geomechanics) (Fig. 3.6b, pp. 70)"
   ]
  },
  {
   "cell_type": "markdown",
   "metadata": {
    "slideshow": {
     "slide_type": "subslide"
    }
   },
   "source": [
    "##SQRT Theory\n",
    "\n",
    "Transistion from *drained* to *undrained* behavior\n",
    "\n",
    " * Drained limit\n",
    "    * Slow loading on very permeable media\n",
    " * Undrained limit\n",
    "    * Fast loading on impermeable media"
   ]
  },
  {
   "cell_type": "markdown",
   "metadata": {
    "slideshow": {
     "slide_type": "slide"
    }
   },
   "source": [
    "#Other viscous effects\n",
    "\n",
    "<table style=\"border: hidden; \" align=\"center\">\n",
    "  <tr>\n",
    "    <td style=\"border: hidden; text-align: center\"><img src=\"images/visco3.png\" width=300></td>\n",
    "    <td style=\"border: hidden; text-align: center\"><img src=\"images/visco4.png\" width=300></td>\n",
    "  </tr>\n",
    "</table>\n",
    "\n",
    "&copy; Cambridge University Press [Zoback, *Reservoir Geomechanics*](http://www.amazon.com/Reservoir-Geomechanics-Paperback-Author-Zoback/dp/B00EFZ88EQ/ref=sr_1_2?ie=UTF8&qid=1422942834&sr=8-2&keywords=zoback+geomechanics) (Fig. 3.10c,d, pp. 75)"
   ]
  },
  {
   "cell_type": "markdown",
   "metadata": {
    "slideshow": {
     "slide_type": "subslide"
    }
   },
   "source": [
    "#Creep\n",
    "\n",
    "<img src=\"images/creep1.png\" width=300>\n",
    "\n",
    "&copy; Cambridge University Press [Zoback, *Reservoir Geomechanics*](http://www.amazon.com/Reservoir-Geomechanics-Paperback-Author-Zoback/dp/B00EFZ88EQ/ref=sr_1_2?ie=UTF8&qid=1422942834&sr=8-2&keywords=zoback+geomechanics) (Fig. 3.8, pp. 73a)"
   ]
  },
  {
   "cell_type": "markdown",
   "metadata": {
    "slideshow": {
     "slide_type": "subslide"
    }
   },
   "source": [
    "#Constitutive model for creep\n",
    "\n",
    "Power law\n",
    "\n",
    "$$\n",
    "\\varepsilon(t) = \\varepsilon_0 + c t^n\n",
    "$$"
   ]
  },
  {
   "cell_type": "markdown",
   "metadata": {
    "slideshow": {
     "slide_type": "subslide"
    }
   },
   "source": [
    "#Stress relaxation\n",
    "\n",
    "<img src=\"images/stress_relax.png\" width=600>\n",
    "\n",
    "&copy; Cambridge University Press [Zoback, *Reservoir Geomechanics*](http://www.amazon.com/Reservoir-Geomechanics-Paperback-Author-Zoback/dp/B00EFZ88EQ/ref=sr_1_2?ie=UTF8&qid=1422942834&sr=8-2&keywords=zoback+geomechanics) (Fig. 3.11b, pp. 77)"
   ]
  },
  {
   "cell_type": "markdown",
   "metadata": {
    "slideshow": {
     "slide_type": "slide"
    }
   },
   "source": [
    "#Thermoporoelasticity\n",
    "\n",
    "$$\n",
    "\\boldsymbol{\\sigma} = \\mathbf{S} - \\alpha P_p \\mathbf{I} - K \\alpha_T \\Delta T \\mathbf{I}\n",
    "$$\n",
    "\n",
    "$\\alpha$ is called Biot's coefficient"
   ]
  }
 ],
 "metadata": {
  "celltoolbar": "Slideshow",
  "kernelspec": {
   "display_name": "Python 3",
   "language": "python",
   "name": "python3"
  },
  "language_info": {
   "codemirror_mode": {
    "name": "ipython",
    "version": 3
   },
   "file_extension": ".py",
   "mimetype": "text/x-python",
   "name": "python",
   "nbconvert_exporter": "python",
   "pygments_lexer": "ipython3",
   "version": "3.4.3"
  }
 },
 "nbformat": 4,
 "nbformat_minor": 0
}
