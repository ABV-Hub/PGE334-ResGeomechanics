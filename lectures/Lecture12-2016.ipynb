{
 "cells": [
  {
   "cell_type": "markdown",
   "metadata": {
    "slideshow": {
     "slide_type": "slide"
    }
   },
   "source": [
    "# Generalized Hooke's law\n",
    "\n",
    "$${}$$\n",
    "\n",
    "$$\\vec{\\sigma} = \\boldsymbol{C}  \\, \\vec{\\varepsilon}$$"
   ]
  },
  {
   "cell_type": "markdown",
   "metadata": {
    "slideshow": {
     "slide_type": "subslide"
    }
   },
   "source": [
    "### For isotropic materials\n",
    "\n",
    "\\begin{equation}\n",
    "\\small\n",
    "\\left\\lbrace\\begin{matrix} \\sigma_{11} \\\\ \\sigma_{22} \\\\ \\sigma_{33} \\\\ \\sigma_{12} \\\\ \\sigma_{13} \\\\ \\sigma_{23} \\end{matrix}\\right\\rbrace = \\frac{E}{(1+\\nu)(1-2\\nu)}\n",
    "\\begin{bmatrix}\n",
    "1 - \\nu & \\nu & \\nu & 0 & 0 & 0 \\\\\n",
    "\\nu & 1 - \\nu & \\nu & 0 & 0 & 0 \\\\\n",
    "\\nu & \\nu & 1 - \\nu & 0 & 0 & 0 \\\\\n",
    "0 & 0 & 0 & \\frac{1}{2}(1 - 2 \\nu) & 0 & 0 \\\\\n",
    "0 & 0 & 0 & 0 & \\frac{1}{2}(1 - 2 \\nu) & 0 \\\\\n",
    "0 & 0 & 0 & 0 & 0 & \\frac{1}{2}(1 - 2 \\nu)\n",
    "\\end{bmatrix}\n",
    "\\left\\lbrace\\begin{matrix} \\varepsilon_{11} \\\\ \\varepsilon_{22} \\\\ \\varepsilon_{33} \\\\ 2\\varepsilon_{12} \\\\ 2\\varepsilon_{13} \\\\ 2\\varepsilon_{23} \\end{matrix}\\right\\rbrace\n",
    "\\end{equation}"
   ]
  },
  {
   "cell_type": "markdown",
   "metadata": {
    "slideshow": {
     "slide_type": "slide"
    }
   },
   "source": [
    "# Poroelasticity"
   ]
  },
  {
   "cell_type": "markdown",
   "metadata": {
    "slideshow": {
     "slide_type": "subslide"
    }
   },
   "source": [
    "# Poroelasticity Assumptions\n",
    "\n",
    " 1. There is an interconnected pore system uniformly saturated with fluid.\n",
    " 2. The total volume of the pore system is small compared to the volume of the rock.\n",
    " 3. The pore pressure, the total stress acting on the rock externally, and the stresses acting on the grains are statistically defined."
   ]
  },
  {
   "cell_type": "markdown",
   "metadata": {
    "slideshow": {
     "slide_type": "subslide"
    }
   },
   "source": [
    "# Effective stress\n",
    "\n",
    "**Terzaghi definition**\n",
    "\n",
    "$$\n",
    "\\boldsymbol{\\sigma}^{\\prime} = \\mathbf{S} - P_p \\mathbf{I}\n",
    "$$\n",
    "\n",
    "**\"Exact\" effective stress**\n",
    "\n",
    "$$\n",
    "\\boldsymbol{\\sigma}^{\\prime\\prime} = \\mathbf{S} - \\alpha P_p \\mathbf{I}\n",
    "$$\n",
    "\n",
    "$\\alpha$ is called Biot's coefficient"
   ]
  },
  {
   "cell_type": "markdown",
   "metadata": {
    "slideshow": {
     "slide_type": "subslide"
    }
   },
   "source": [
    "# Biot's coefficeint\n",
    "\n",
    "${}$\n",
    "\n",
    "$$\n",
    "\\alpha = 1 - \\dfrac{K_T}{K_S}\n",
    "$$\n",
    "\n",
    "For sand\n",
    "\n",
    "$$\n",
    "K_{S} >> K_T \\quad \\quad \\alpha \\approx 1\n",
    "$$\n",
    "\n",
    "For rocks\n",
    "\n",
    "$$\n",
    "\\alpha \\approx \\frac{2}{3}\n",
    "$$"
   ]
  },
  {
   "cell_type": "markdown",
   "metadata": {
    "slideshow": {
     "slide_type": "subslide"
    }
   },
   "source": [
    "# Biot's coefficient (cont.)\n",
    "\n",
    "<img src=\"images/biots_coef.png\" width=400>\n",
    "\n",
    "&copy; Cambridge University Press [Zoback, *Reservoir Geomechanics*](http://www.amazon.com/Reservoir-Geomechanics-Paperback-Author-Zoback/dp/B00EFZ88EQ/ref=sr_1_2?ie=UTF8&qid=1422942834&sr=8-2&keywords=zoback+geomechanics) (Fig. 3.5c, pp. 69)"
   ]
  }
 ],
 "metadata": {
  "celltoolbar": "Slideshow",
  "kernelspec": {
   "display_name": "Python 3",
   "language": "python",
   "name": "python3"
  },
  "language_info": {
   "codemirror_mode": {
    "name": "ipython",
    "version": 3
   },
   "file_extension": ".py",
   "mimetype": "text/x-python",
   "name": "python",
   "nbconvert_exporter": "python",
   "pygments_lexer": "ipython3",
   "version": "3.5.1"
  }
 },
 "nbformat": 4,
 "nbformat_minor": 0
}
