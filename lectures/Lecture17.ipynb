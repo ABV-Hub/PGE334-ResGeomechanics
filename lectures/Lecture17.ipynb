{
 "cells": [
  {
   "cell_type": "markdown",
   "metadata": {
    "slideshow": {
     "slide_type": "slide"
    }
   },
   "source": [
    "# Occurance of both drilling induced tensile fractures and breakouts\n",
    "\n",
    "### Allows for estimate of rock strength *in-situ*"
   ]
  },
  {
   "cell_type": "markdown",
   "metadata": {
    "slideshow": {
     "slide_type": "fragment"
    }
   },
   "source": [
    "**Recall: $S_{Hmax}$ from breakout data**\n",
    "\n",
    "$$\n",
    "S_{Hmax} = \\frac{(C_0 + 2 P_p + \\Delta P + \\Delta \\sigma^T) - S_{hmin}(1 + 2 \\cos(\\pi - w_{bo}))}{1 - 2 \\cos(\\pi - w_{bo})}\n",
    "$$"
   ]
  },
  {
   "cell_type": "markdown",
   "metadata": {
    "slideshow": {
     "slide_type": "fragment"
    }
   },
   "source": [
    "**Recall: From Kirsch solution**\n",
    "\n",
    "$$\n",
    "S_{Hmax} = 3 S_{hmin} - 2 P_p - \\Delta P - T_0 - \\sigma^{\\Delta T}\n",
    "$$"
   ]
  }
 ],
 "metadata": {
  "celltoolbar": "Slideshow",
  "kernelspec": {
   "display_name": "Python 3",
   "language": "python",
   "name": "python3"
  },
  "language_info": {
   "codemirror_mode": {
    "name": "ipython",
    "version": 3
   },
   "file_extension": ".py",
   "mimetype": "text/x-python",
   "name": "python",
   "nbconvert_exporter": "python",
   "pygments_lexer": "ipython3",
   "version": "3.5.1"
  }
 },
 "nbformat": 4,
 "nbformat_minor": 0
}
