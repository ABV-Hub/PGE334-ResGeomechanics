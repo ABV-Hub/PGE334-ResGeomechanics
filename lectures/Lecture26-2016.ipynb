{
 "cells": [
  {
   "cell_type": "markdown",
   "metadata": {
    "slideshow": {
     "slide_type": "slide"
    }
   },
   "source": [
    "# Hydraulic fracturing and its impact"
   ]
  },
  {
   "cell_type": "markdown",
   "metadata": {
    "slideshow": {
     "slide_type": "slide"
    }
   },
   "source": [
    "<table style=\"border: hidden; \" align=\"center\">\n",
    "<tr>\n",
    "    <td style=\"border: hidden; text-align: center\"><img src=\"images/nasa.png\" width=450></td>\n",
    "  </tr>\n",
    "</table>\n",
    "\n",
    "&copy; NASA"
   ]
  },
  {
   "cell_type": "markdown",
   "metadata": {
    "slideshow": {
     "slide_type": "slide"
    }
   },
   "source": [
    "# US Total Oil Production\n",
    "\n",
    "$${}$$\n",
    "\n",
    "\n",
    "<table style=\"border: hidden; \" align=\"center\">\n",
    "<tr>\n",
    "    <td style=\"border: hidden; text-align: center\"><img src=\"images/eia_production.png\" width=450></td>\n",
    "  </tr>\n",
    "</table>"
   ]
  },
  {
   "cell_type": "markdown",
   "metadata": {
    "slideshow": {
     "slide_type": "slide"
    }
   },
   "source": [
    "# Production by state\n",
    "\n",
    "$${}$$\n",
    "\n",
    "\n",
    "<table style=\"border: hidden; \" align=\"center\">\n",
    "<tr>\n",
    "    <td style=\"border: hidden; text-align: center\"><img src=\"images/texas_production.png\" width=450></td>\n",
    "  </tr>\n",
    "</table>"
   ]
  },
  {
   "cell_type": "markdown",
   "metadata": {
    "slideshow": {
     "slide_type": "slide"
    }
   },
   "source": [
    "# Production by play\n",
    "\n",
    "$${}$$\n",
    "\n",
    "\n",
    "<table style=\"border: hidden; \" align=\"center\">\n",
    "<tr>\n",
    "    <td style=\"border: hidden; text-align: center\"><img src=\"images/play_production.png\" width=450></td>\n",
    "  </tr>\n",
    "</table>\n",
    "\n",
    "Source: EIA"
   ]
  },
  {
   "cell_type": "markdown",
   "metadata": {
    "slideshow": {
     "slide_type": "slide"
    }
   },
   "source": [
    "# Eagle-Ford Shale\n",
    "\n",
    "$${}$$\n",
    "\n",
    "\n",
    "<table style=\"border: hidden; \" align=\"center\">\n",
    "<tr>\n",
    "    <td style=\"border: hidden; text-align: center\"><img src=\"images/efs.png\" width=450></td>\n",
    "  </tr>\n",
    "</table>"
   ]
  },
  {
   "cell_type": "markdown",
   "metadata": {
    "slideshow": {
     "slide_type": "slide"
    }
   },
   "source": [
    "# US, Russia, Saudia Arabia equivalent oil production\n",
    "\n",
    "$${}$$\n",
    "\n",
    "\n",
    "<table style=\"border: hidden; \" align=\"center\">\n",
    "<tr>\n",
    "    <td style=\"border: hidden; text-align: center\"><img src=\"images/us_vs_russia_vs_sa.png\" width=450></td>\n",
    "  </tr>\n",
    "</table>\n",
    "\n",
    "Source: EIA"
   ]
  },
  {
   "cell_type": "markdown",
   "metadata": {
    "slideshow": {
     "slide_type": "slide"
    }
   },
   "source": [
    "# Total energy use projection\n",
    "\n",
    "\n",
    "$${}$$\n",
    "\n",
    "\n",
    "<table style=\"border: hidden; \" align=\"center\">\n",
    "<tr>\n",
    "    <td style=\"border: hidden; text-align: center\"><img src=\"images/energy_projection.png\" width=450></td>\n",
    "  </tr>\n",
    "</table>\n",
    "\n",
    "Source: EIA"
   ]
  },
  {
   "cell_type": "markdown",
   "metadata": {
    "slideshow": {
     "slide_type": "slide"
    }
   },
   "source": [
    "# Natural gas by source\n",
    "\n",
    "\n",
    "$${}$$\n",
    "\n",
    "\n",
    "<table style=\"border: hidden; \" align=\"center\">\n",
    "<tr>\n",
    "    <td style=\"border: hidden; text-align: center\"><img src=\"images/natural_gas_projection.png\" width=450></td>\n",
    "  </tr>\n",
    "</table>\n",
    "\n",
    "Source: EIA"
   ]
  },
  {
   "cell_type": "markdown",
   "metadata": {
    "slideshow": {
     "slide_type": "slide"
    }
   },
   "source": [
    "# Shale\n",
    "\n",
    "\n",
    "$${}$$\n",
    "\n",
    "\n",
    "<table style=\"border: hidden; \" align=\"center\">\n",
    "<tr>\n",
    "    <td style=\"border: hidden; text-align: center\"><img src=\"images/shale_rock.png\" width=450></td>\n",
    "  </tr>\n",
    "</table>\n",
    "\n",
    "Source: George King, [Hydraulic Fracturing 101](http://fracfocus.org/sites/default/files/publications/hydraulic_fracturing_101.pdf)"
   ]
  },
  {
   "cell_type": "markdown",
   "metadata": {
    "slideshow": {
     "slide_type": "slide"
    }
   },
   "source": [
    "# Hydraulic fracturing\n",
    "\n",
    "\n",
    "$${}$$\n",
    "\n",
    "\n",
    "<table style=\"border: hidden; \" align=\"center\">\n",
    "<tr>\n",
    "    <td style=\"border: hidden; text-align: center\"><img src=\"images/hydrofrac_cartoon.png\" width=450></td>\n",
    "  </tr>\n",
    "</table>\n",
    "\n",
    "Source: George King, [Hydraulic Fracturing 101](http://fracfocus.org/sites/default/files/publications/hydraulic_fracturing_101.pdf)"
   ]
  },
  {
   "cell_type": "markdown",
   "metadata": {
    "slideshow": {
     "slide_type": "slide"
    }
   },
   "source": [
    "# Frac pump trucks\n",
    "\n",
    "\n",
    "$${}$$\n",
    "\n",
    "\n",
    "<table style=\"border: hidden; \" align=\"center\">\n",
    "<tr>\n",
    "    <td style=\"border: hidden; text-align: center\"><img src=\"images/frac_pump_truck.png\" width=450></td>\n",
    "  </tr>\n",
    "</table>\n",
    "\n",
    "Source: Jon Olson"
   ]
  },
  {
   "cell_type": "markdown",
   "metadata": {
    "slideshow": {
     "slide_type": "slide"
    }
   },
   "source": [
    "# Barnett frac job in progress\n",
    "\n",
    "\n",
    "$${}$$\n",
    "\n",
    "\n",
    "<table style=\"border: hidden; \" align=\"center\">\n",
    "<tr>\n",
    "    <td style=\"border: hidden; text-align: center\"><img src=\"images/barnett_job.png\" width=450></td>\n",
    "  </tr>\n",
    "</table>\n",
    "\n",
    "Source: Jon Olson"
   ]
  },
  {
   "cell_type": "markdown",
   "metadata": {
    "slideshow": {
     "slide_type": "slide"
    }
   },
   "source": [
    "# Is it safe?"
   ]
  },
  {
   "cell_type": "markdown",
   "metadata": {
    "slideshow": {
     "slide_type": "fragment"
    }
   },
   "source": [
    "* Groundwater contamination"
   ]
  },
  {
   "cell_type": "markdown",
   "metadata": {
    "collapsed": true,
    "slideshow": {
     "slide_type": "fragment"
    }
   },
   "source": [
    "* Earthquakes (induced siesmicity)"
   ]
  },
  {
   "cell_type": "markdown",
   "metadata": {
    "slideshow": {
     "slide_type": "slide"
    }
   },
   "source": [
    "# Fracturing fluids\n",
    "\n",
    "\n",
    "$${}$$\n",
    "\n",
    "\n",
    "<table style=\"border: hidden; \" align=\"center\">\n",
    "<tr>\n",
    "    <td style=\"border: hidden; text-align: center\"><img src=\"images/chemicals.png\" width=450></td>\n",
    "  </tr>\n",
    "</table>\n",
    "\n",
    "Source: DOE, GWPC: Modern Gas Shale Development in the United States: A Primer (2009)."
   ]
  },
  {
   "cell_type": "markdown",
   "metadata": {
    "slideshow": {
     "slide_type": "slide"
    }
   },
   "source": [
    "# Groundwater separation\n",
    "\n",
    "\n",
    "$${}$$\n",
    "\n",
    "\n",
    "<table style=\"border: hidden; \" align=\"center\">\n",
    "<tr>\n",
    "    <td style=\"border: hidden; text-align: center\"><img src=\"images/groundwater_sep.png\" width=450></td>\n",
    "  </tr>\n",
    "</table>\n",
    "\n",
    "Source: George King, [Hydraulic Fracturing 101](http://fracfocus.org/sites/default/files/publications/hydraulic_fracturing_101.pdf)"
   ]
  },
  {
   "cell_type": "markdown",
   "metadata": {
    "slideshow": {
     "slide_type": "slide"
    }
   },
   "source": [
    "# Marcellus mapped fracture treatments\n",
    "\n",
    "\n",
    "$${}$$\n",
    "\n",
    "\n",
    "<table style=\"border: hidden; \" align=\"center\">\n",
    "<tr>\n",
    "    <td style=\"border: hidden; text-align: center\"><img src=\"images/marcellus_mapped_fracs.png\" width=450></td>\n",
    "  </tr>\n",
    "</table>\n",
    "\n",
    "Source: Fisher, K.  Data Confirm Safety of Well Fracturing.  The American Oil and Gas Reporter.  July 2010"
   ]
  },
  {
   "cell_type": "markdown",
   "metadata": {
    "slideshow": {
     "slide_type": "slide"
    }
   },
   "source": [
    "# Does hydraulic fracturing produce earthquakes?\n",
    "\n",
    "\n",
    "$${}$$\n",
    "\n",
    "\n",
    "<table style=\"border: hidden; \" align=\"center\">\n",
    "<tr>\n",
    "    <td style=\"border: hidden; text-align: center\"><img src=\"images/newspaper_earthquake.png\" width=450></td>\n",
    "  </tr>\n",
    "</table>"
   ]
  },
  {
   "cell_type": "markdown",
   "metadata": {
    "slideshow": {
     "slide_type": "slide"
    }
   },
   "source": [
    "# Eagle-Ford moment magnitude\n",
    "\n",
    "\n",
    "$${}$$\n",
    "\n",
    "\n",
    "<table style=\"border: hidden; \" align=\"center\">\n",
    "<tr>\n",
    "    <td style=\"border: hidden; text-align: center\"><img src=\"images/eagle_ford_moment_mag.png\" width=450></td>\n",
    "  </tr>\n",
    "</table>\n",
    "\n",
    "Source: Warpinski, N.R., Du, J. Zimmer, U. Measurements of Hydraulic-Fracture-Induced Seismicity in Gas Shales.  SPE Conference on Hydraulic Fracturing Technology.  SPE 151597. February 2012."
   ]
  }
 ],
 "metadata": {
  "celltoolbar": "Slideshow",
  "kernelspec": {
   "display_name": "Python 3",
   "language": "python",
   "name": "python3"
  },
  "language_info": {
   "codemirror_mode": {
    "name": "ipython",
    "version": 3
   },
   "file_extension": ".py",
   "mimetype": "text/x-python",
   "name": "python",
   "nbconvert_exporter": "python",
   "pygments_lexer": "ipython3",
   "version": "3.5.1"
  }
 },
 "nbformat": 4,
 "nbformat_minor": 0
}
