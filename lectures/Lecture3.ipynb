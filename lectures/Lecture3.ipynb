{
 "cells": [
  {
   "cell_type": "markdown",
   "metadata": {
    "slideshow": {
     "slide_type": "subslide"
    }
   },
   "source": [
    "#Principle stresses and directions\n",
    "\n",
    "\n",
    "$$\\mathbf{S}' = \\mathbf{Q}^{T} \\mathbf{S Q}$$"
   ]
  },
  {
   "cell_type": "markdown",
   "metadata": {
    "slideshow": {
     "slide_type": "fragment"
    }
   },
   "source": [
    "$$\n",
    "\\mathbf{S}' = \n",
    "\\begin{bmatrix}\n",
    "S_1 & 0 & 0 \\\\\n",
    "0 & S_2 & 0 \\\\\n",
    "0 & 0 & S_3\n",
    "\\end{bmatrix}\n",
    "$$\n",
    "\n",
    "with $S_1 \\gt S_2 \\gt S_3$ where the $S_i$'s are the eigenvalues of $\\mathbf{S}$ "
   ]
  },
  {
   "cell_type": "markdown",
   "metadata": {
    "slideshow": {
     "slide_type": "fragment"
    }
   },
   "source": [
    "$$\n",
    "\\mathbf{Q} = [ \\vec{v}_1 \\; \\vert \\; \\vec{v}_2 \\; \\vert \\; \\vec{v}_3 ]\n",
    "$$\n",
    "\n",
    "where $\\vec{v}_1$ is the eigenvector corresponding to $S_1$, $\\vec{v}_2$ is the eigenvector corresponding to $S_2$, and $\\vec{v}_3$ is the eigenvector corresponding to $S_3$."
   ]
  },
  {
   "cell_type": "markdown",
   "metadata": {
    "slideshow": {
     "slide_type": "subslide"
    }
   },
   "source": [
    "#Example\n",
    "\n",
    "Determine the principle stresses and directions given:\n",
    "\n",
    "$$\n",
    "\\mathbf{S} = \n",
    "\\begin{bmatrix}\n",
    "1 & 0 & 0 \\\\\n",
    "0 & 3 & -1 \\\\\n",
    "0 & -1 & 3\n",
    "\\end{bmatrix}\n",
    "$$"
   ]
  },
  {
   "cell_type": "markdown",
   "metadata": {
    "slideshow": {
     "slide_type": "fragment"
    }
   },
   "source": [
    "$$\n",
    "S_1 = 4, \\quad S_2 = 2, \\quad S_3 = 1\n",
    "$$"
   ]
  },
  {
   "cell_type": "markdown",
   "metadata": {
    "slideshow": {
     "slide_type": "fragment"
    }
   },
   "source": [
    "$$\n",
    "\\mathbf{Q} = [ \\vec{v}_1 \\; \\vert \\; \\vec{v}_2 \\; \\vert \\; \\vec{v}_3 ] =\n",
    "\\begin{bmatrix}\n",
    "0 & 0 & 1 \\\\\n",
    "-1 & 1 & 0 \\\\\n",
    "1 & 1 & 0\n",
    "\\end{bmatrix}\n",
    "$$"
   ]
  }
 ],
 "metadata": {
  "celltoolbar": "Slideshow",
  "kernelspec": {
   "display_name": "Python 3",
   "name": "python3"
  },
  "language_info": {
   "codemirror_mode": {
    "name": "ipython",
    "version": 3
   },
   "file_extension": ".py",
   "mimetype": "text/x-python",
   "name": "python",
   "nbconvert_exporter": "python",
   "pygments_lexer": "ipython3",
   "version": "3.4.2"
  }
 },
 "nbformat": 4,
 "nbformat_minor": 0
}