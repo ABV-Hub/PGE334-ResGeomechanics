{
 "cells": [
  {
   "cell_type": "markdown",
   "metadata": {
    "slideshow": {
     "slide_type": "slide"
    }
   },
   "source": [
    "# Stress"
   ]
  },
  {
   "cell_type": "markdown",
   "metadata": {
    "slideshow": {
     "slide_type": "slide"
    }
   },
   "source": [
    "# Recall: stress tensor\n",
    "\n",
    "${}$\n",
    "\n",
    "$$\n",
    "\\mathbf{S} =\n",
    "\\begin{bmatrix}\n",
    "S_{11} & S_{12} & S_{13} \\\\\n",
    "S_{21} & S_{22} & S_{23} \\\\\n",
    "S_{31} & S_{32} & S_{33}\n",
    "\\end{bmatrix}\n",
    "$$"
   ]
  },
  {
   "cell_type": "markdown",
   "metadata": {
    "slideshow": {
     "slide_type": "fragment"
    }
   },
   "source": [
    "Due to **conservation of angular momentum**: $S_{12} = S_{21}, S_{13} = S_{31}$k and $S_{32} = S_{23}$ ."
   ]
  },
  {
   "cell_type": "markdown",
   "metadata": {
    "slideshow": {
     "slide_type": "fragment"
    }
   },
   "source": [
    "$$\n",
    "\\mathbf{S} =\n",
    "\\begin{bmatrix}\n",
    "S_{11} & S_{12} & S_{13} \\\\\n",
    "S_{12} & S_{22} & S_{23} \\\\\n",
    "S_{13} & S_{23} & S_{33}\n",
    "\\end{bmatrix}\n",
    "$$"
   ]
  },
  {
   "cell_type": "markdown",
   "metadata": {
    "slideshow": {
     "slide_type": "slide"
    }
   },
   "source": [
    "#Principle stresses and directions\n",
    "\n",
    "${}$\n",
    "\n",
    "$$\\mathbf{S}' = \\mathbf{Q}^{-1} \\mathbf{S Q}$$"
   ]
  },
  {
   "cell_type": "markdown",
   "metadata": {
    "slideshow": {
     "slide_type": "fragment"
    }
   },
   "source": [
    "$$\n",
    "\\mathbf{S}' = \n",
    "\\begin{bmatrix}\n",
    "S_1 & 0 & 0 \\\\\n",
    "0 & S_2 & 0 \\\\\n",
    "0 & 0 & S_3\n",
    "\\end{bmatrix}\n",
    "$$\n",
    "\n",
    "with $S_1 \\gt S_2 \\gt S_3$ where the $S_i$'s are the eigenvalues of $\\mathbf{S}$ "
   ]
  },
  {
   "cell_type": "markdown",
   "metadata": {
    "slideshow": {
     "slide_type": "fragment"
    }
   },
   "source": [
    "$$\n",
    "\\mathbf{Q} = [ \\vec{v}_1 \\; \\vert \\; \\vec{v}_2 \\; \\vert \\; \\vec{v}_3 ]\n",
    "$$\n",
    "\n",
    "where $\\vec{v}_1$ is the eigenvector corresponding to $S_1$, $\\vec{v}_2$ is the eigenvector corresponding to $S_2$, and $\\vec{v}_3$ is the eigenvector corresponding to $S_3$."
   ]
  },
  {
   "cell_type": "markdown",
   "metadata": {
    "slideshow": {
     "slide_type": "subslide"
    }
   },
   "source": [
    "# Example\n",
    "\n",
    "Determine the principle stresses and directions given:\n",
    "\n",
    "$$\n",
    "\\mathbf{S} = \n",
    "\\begin{bmatrix}\n",
    "1 & 0 & 0 \\\\\n",
    "0 & 3 & -1 \\\\\n",
    "0 & -1 & 3\n",
    "\\end{bmatrix}\n",
    "$$"
   ]
  },
  {
   "cell_type": "markdown",
   "metadata": {
    "slideshow": {
     "slide_type": "fragment"
    }
   },
   "source": [
    "$$\n",
    "S_1 = 4, \\quad S_2 = 2, \\quad S_3 = 1\n",
    "$$"
   ]
  },
  {
   "cell_type": "markdown",
   "metadata": {
    "slideshow": {
     "slide_type": "fragment"
    }
   },
   "source": [
    "$$\n",
    "\\mathbf{Q} = [ \\vec{v}_1 \\; \\vert \\; \\vec{v}_2 \\; \\vert \\; \\vec{v}_3 ] =\n",
    "\\begin{bmatrix}\n",
    "0 & 0 & 1 \\\\\n",
    "-1 & 1 & 0 \\\\\n",
    "1 & 1 & 0\n",
    "\\end{bmatrix}\n",
    "$$"
   ]
  },
  {
   "cell_type": "markdown",
   "metadata": {
    "slideshow": {
     "slide_type": "slide"
    }
   },
   "source": [
    "# Conservation of linear momentum"
   ]
  },
  {
   "cell_type": "markdown",
   "metadata": {
    "slideshow": {
     "slide_type": "fragment"
    }
   },
   "source": [
    "\\begin{align}\n",
    "\\rho \\frac{\\partial^2 u_1}{\\partial t^2} &= \\frac{\\partial S_{11}}{\\partial x_1} + \\frac{\\partial S_{12}}{\\partial x_2} + \\frac{\\partial S_{13}}{\\partial x_3} + \\rho b_1 \\\\\n",
    "\\rho \\frac{\\partial^2 u_2}{\\partial t^2} &= \\frac{\\partial S_{12}}{\\partial x_1} + \\frac{\\partial S_{22}}{\\partial x_2} + \\frac{\\partial S_{23}}{\\partial x_3} + \\rho b_2 \\\\\n",
    "\\rho \\frac{\\partial^2 u_1}{\\partial t^2} &= \\frac{\\partial S_{13}}{\\partial x_1} + \\frac{\\partial S_{23}}{\\partial x_2} + \\frac{\\partial S_{33}}{\\partial x_3} + \\rho b_3\n",
    "\\end{align}"
   ]
  }
 ],
 "metadata": {
  "celltoolbar": "Slideshow",
  "kernelspec": {
   "display_name": "Python 3",
   "language": "python",
   "name": "python3"
  },
  "language_info": {
   "codemirror_mode": {
    "name": "ipython",
    "version": 3
   },
   "file_extension": ".py",
   "mimetype": "text/x-python",
   "name": "python",
   "nbconvert_exporter": "python",
   "pygments_lexer": "ipython3",
   "version": "3.5.1"
  }
 },
 "nbformat": 4,
 "nbformat_minor": 0
}
