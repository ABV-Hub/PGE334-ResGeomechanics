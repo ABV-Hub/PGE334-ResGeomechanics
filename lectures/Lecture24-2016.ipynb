{
 "cells": [
  {
   "cell_type": "markdown",
   "metadata": {
    "slideshow": {
     "slide_type": "slide"
    }
   },
   "source": [
    "# Effects of reservior depletion\n",
    "\n",
    "<table style=\"border: hidden; \" align=\"center\">\n",
    "<tr>\n",
    "    <td style=\"border: hidden; text-align: center\"><img src=\"images/deplete_cartoon.png\" width=400></td>\n",
    "  </tr>\n",
    "</table>\n",
    "\n",
    "&copy; Cambridge University Press [Zoback, *Reservoir Geomechanics*](http://www.amazon.com/Reservoir-Geomechanics-Paperback-Author-Zoback/dp/B00EFZ88EQ/ref=sr_1_2?ie=UTF8&qid=1422942834&sr=8-2&keywords=zoback+geomechanics) (Fig. 10.21, pp. 380)"
   ]
  },
  {
   "cell_type": "markdown",
   "metadata": {
    "slideshow": {
     "slide_type": "slide"
    }
   },
   "source": [
    "# Stress rotations with depletion\n",
    "\n",
    "$${}$$\n",
    "\n",
    "\n",
    "<table style=\"border: hidden; \" align=\"center\">\n",
    "<tr>\n",
    "    <td style=\"border: hidden; text-align: center\"><img src=\"images/deplete_orig.png\" width=200>$\\qquad \\qquad$</td>\n",
    "    <td style=\"border: hidden; text-align: center\"><img src=\"images/deplete_rot.png\" width=202></td>\n",
    "  </tr>\n",
    "  <tr>\n",
    "    <td style=\"border: hidden; text-align: center\">Original</td>\n",
    "    <td style=\"border: hidden; text-align: center\">Depleted</td>\n",
    "  </tr>\n",
    "</table>\n",
    "\n",
    "&copy; Cambridge University Press [Zoback, *Reservoir Geomechanics*](http://www.amazon.com/Reservoir-Geomechanics-Paperback-Author-Zoback/dp/B00EFZ88EQ/ref=sr_1_2?ie=UTF8&qid=1422942834&sr=8-2&keywords=zoback+geomechanics) (Fig. 12.6ab, pp. 391)"
   ]
  },
  {
   "cell_type": "markdown",
   "metadata": {
    "slideshow": {
     "slide_type": "subslide"
    }
   },
   "source": [
    "# Rotation angle, $\\gamma$ near the fault due to depletion\n",
    "\n",
    "\n",
    "$${}$$\n",
    "\n",
    "$$\n",
    "\\gamma = \\frac{1}{2} \\tan^{-1}\\left( \\frac{A q \\sin(2 \\theta)}{1+A q \\cos(2 \\theta)} \\right)\n",
    "$$\n",
    "\n",
    "\n",
    "with \n",
    "\n",
    "$$\n",
    "A = \\frac{\\Delta S_{hmin}}{\\Delta P_p}\n",
    "$$\n",
    "\n",
    "and \n",
    "\n",
    "$$\n",
    "q = \\frac{\\Delta P_p}{S_{Hmax} - S_{hmin}}\n",
    "$$"
   ]
  },
  {
   "cell_type": "markdown",
   "metadata": {
    "slideshow": {
     "slide_type": "slide"
    }
   },
   "source": [
    "# Deformation in depleting reservoirs"
   ]
  },
  {
   "cell_type": "markdown",
   "metadata": {
    "slideshow": {
     "slide_type": "slide"
    }
   },
   "source": [
    "# Recall: Compaction curves\n",
    "\n",
    "$${}$$\n",
    "\n",
    "\n",
    "<table style=\"border: hidden; \" align=\"center\">\n",
    "<tr>\n",
    "    <td style=\"border: hidden; text-align: center\"><img src=\"images/compaction_yale_curve.png\" width=450></td>\n",
    "  </tr>\n",
    "</table>\n",
    "\n",
    "&copy; Cambridge University Press [Zoback, *Reservoir Geomechanics*](http://www.amazon.com/Reservoir-Geomechanics-Paperback-Author-Zoback/dp/B00EFZ88EQ/ref=sr_1_2?ie=UTF8&qid=1422942834&sr=8-2&keywords=zoback+geomechanics) (Fig. 12.11, pp. 399)"
   ]
  },
  {
   "cell_type": "markdown",
   "metadata": {
    "slideshow": {
     "slide_type": "slide"
    }
   },
   "source": [
    "# Recall: End-cap models\n",
    "\n",
    "$${}$$\n",
    "\n",
    "\n",
    "<table style=\"border: hidden; \" align=\"center\">\n",
    "<tr>\n",
    "    <td style=\"border: hidden; text-align: center\"><img src=\"images/cam_clay.png\" width=450></td>\n",
    "  </tr>\n",
    "</table>\n",
    "\n",
    "&copy; Cambridge University Press [Zoback, *Reservoir Geomechanics*](http://www.amazon.com/Reservoir-Geomechanics-Paperback-Author-Zoback/dp/B00EFZ88EQ/ref=sr_1_2?ie=UTF8&qid=1422942834&sr=8-2&keywords=zoback+geomechanics) (Fig. 4.19, pp. 119)"
   ]
  },
  {
   "cell_type": "markdown",
   "metadata": {
    "slideshow": {
     "slide_type": "subslide"
    }
   },
   "source": [
    "$$\n",
    "p = \\frac{1}{3}(S_1 + S_2 + S_3) - P_p\n",
    "$$\n",
    "\n",
    "$${}$$\n",
    "\n",
    "$$\n",
    "q^2 = \\frac{1}{2}\\left( (S_1 - S_2)^2 + (S_2-S_3)^2 + (S_1-S_3)^2) \\right)\n",
    "$$\n",
    "\n",
    "$${}$$\n",
    "\n",
    "$$\n",
    "M^2 p^2 - M^2 p_0 p + q^2 = 0\n",
    "$$"
   ]
  },
  {
   "cell_type": "markdown",
   "metadata": {
    "slideshow": {
     "slide_type": "subslide"
    }
   },
   "source": [
    "\\begin{align}\n",
    "9 P_p^2 &+ \\left(1+ \\frac{9}{M^2}\\right)(S_v^2+S_{Hmax}^2+S_{hmin}^2) \\\\\n",
    "        &+ \\left(2 - \\frac{9}{M^2}\\right)(S_v S_{Hmax} + S_v S_{hmin} + S_{Hmax} S_{hmin} ) \\\\\n",
    "        &+ 9 P_p p_0 - 3(2 P_p+p_0)(S_v + S_{Hmax} + S_{hmin}) = 0\n",
    "\\end{align}\n",
    "\n",
    "$${}$$\n",
    "\n",
    "$$\n",
    "M = \\frac{6 \\mu}{3 \\sqrt{\\mu^2+1}-\\mu} \\qquad \\mbox{From Mohr-Coulomb assuming $C_0$ is negligible}\n",
    "$$"
   ]
  },
  {
   "cell_type": "markdown",
   "metadata": {
    "slideshow": {
     "slide_type": "slide"
    }
   },
   "source": [
    "# Deformation Analysis in Reservoir Space (DARS) model of GOM Field X\n",
    "\n",
    "$${}$$\n",
    "\n",
    "\n",
    "<table style=\"border: hidden; \" align=\"center\">\n",
    "<tr>\n",
    "    <td style=\"border: hidden; text-align: center\"><img src=\"images/dars_field_x.png\" width=450></td>\n",
    "  </tr>\n",
    "</table>\n",
    "\n",
    "&copy; Cambridge University Press [Zoback, *Reservoir Geomechanics*](http://www.amazon.com/Reservoir-Geomechanics-Paperback-Author-Zoback/dp/B00EFZ88EQ/ref=sr_1_2?ie=UTF8&qid=1422942834&sr=8-2&keywords=zoback+geomechanics) (Fig. 12.12, pp. 402)"
   ]
  },
  {
   "cell_type": "markdown",
   "metadata": {
    "slideshow": {
     "slide_type": "slide"
    }
   },
   "source": [
    "# Permeability change as a function of porosity change\n",
    "\n",
    "$${}$$\n",
    "\n",
    "\n",
    "<table style=\"border: hidden; \" align=\"center\">\n",
    "<tr>\n",
    "    <td style=\"border: hidden; text-align: center\"><img src=\"images/perm_por.png\" width=400></td>\n",
    "  </tr>\n",
    "</table>\n",
    "\n",
    "&copy; Cambridge University Press [Zoback, *Reservoir Geomechanics*](http://www.amazon.com/Reservoir-Geomechanics-Paperback-Author-Zoback/dp/B00EFZ88EQ/ref=sr_1_2?ie=UTF8&qid=1422942834&sr=8-2&keywords=zoback+geomechanics) (Fig. 12.13a, pp. 404)"
   ]
  },
  {
   "cell_type": "markdown",
   "metadata": {
    "slideshow": {
     "slide_type": "subslide"
    }
   },
   "source": [
    "Modified Kozeny-Carman relationship\n",
    "\n",
    "$$\n",
    "\\kappa = B \\frac{(\\phi - \\phi_c)^3}{(1+\\phi_c-\\phi)^2} d^2\n",
    "$$\n",
    "\n",
    "For change in permeability\n",
    "\n",
    "$$\n",
    "\\frac{\\kappa}{\\kappa_i} = \\left( \\frac{\\phi - \\phi_c}{\\phi_i - \\phi_c} \\right)^3 \\left( \\frac{1+ \\phi_c - \\phi_i}{1 + \\phi_c - \\phi} \\right)^2\n",
    "$$\n",
    "\n",
    "Including a factor for grain size reduction\n",
    "\n",
    "$$\\Gamma = \\frac{1-d/d_i}{1-\\phi/\\phi_i}$$\n",
    "\n",
    "$$\n",
    "\\frac{\\kappa}{\\kappa_i} = \\left( \\frac{\\phi - \\phi_c}{\\phi_i - \\phi_c} \\right)^3 \\left( \\frac{1+ \\phi_c - \\phi_i}{1 + \\phi_c - \\phi} \\right)^2  \\left(1-\\Gamma\\left(1-\\frac{\\phi}{\\phi_i}\\right) \\right)\n",
    "$$"
   ]
  },
  {
   "cell_type": "markdown",
   "metadata": {
    "slideshow": {
     "slide_type": "slide"
    }
   },
   "source": [
    "# Permeability loss with depletion in GOM Field Z\n",
    "\n",
    "$${}$$\n",
    "\n",
    "\n",
    "<table style=\"border: hidden; \" align=\"center\">\n",
    "<tr>\n",
    "    <td style=\"border: hidden; text-align: center\"><img src=\"images/perm_loss_w_deplete.png\" width=400></td>\n",
    "  </tr>\n",
    "</table>\n",
    "\n",
    "&copy; Cambridge University Press [Zoback, *Reservoir Geomechanics*](http://www.amazon.com/Reservoir-Geomechanics-Paperback-Author-Zoback/dp/B00EFZ88EQ/ref=sr_1_2?ie=UTF8&qid=1422942834&sr=8-2&keywords=zoback+geomechanics) (Fig. 12.14, pp. 408)"
   ]
  },
  {
   "cell_type": "markdown",
   "metadata": {
    "slideshow": {
     "slide_type": "slide"
    }
   },
   "source": [
    "# Idealized resevoir study\n",
    "\n",
    "$${}$$\n",
    "\n",
    "\n",
    "<table style=\"border: hidden; \" align=\"center\">\n",
    "<tr>\n",
    "    <td style=\"border: hidden; text-align: center\"><img src=\"images/ideal_res_test.png\" width=400></td>\n",
    "  </tr>\n",
    "</table>\n",
    "\n",
    "&copy; Cambridge University Press [Zoback, *Reservoir Geomechanics*](http://www.amazon.com/Reservoir-Geomechanics-Paperback-Author-Zoback/dp/B00EFZ88EQ/ref=sr_1_2?ie=UTF8&qid=1422942834&sr=8-2&keywords=zoback+geomechanics) (Fig. 12.15, pp. 410)"
   ]
  }
 ],
 "metadata": {
  "celltoolbar": "Slideshow",
  "kernelspec": {
   "display_name": "Python 3",
   "language": "python",
   "name": "python3"
  },
  "language_info": {
   "codemirror_mode": {
    "name": "ipython",
    "version": 3
   },
   "file_extension": ".py",
   "mimetype": "text/x-python",
   "name": "python",
   "nbconvert_exporter": "python",
   "pygments_lexer": "ipython3",
   "version": "3.5.1"
  }
 },
 "nbformat": 4,
 "nbformat_minor": 0
}
