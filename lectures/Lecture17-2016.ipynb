{
 "cells": [
  {
   "cell_type": "markdown",
   "metadata": {
    "slideshow": {
     "slide_type": "slide"
    }
   },
   "source": [
    "# Compressive and tensile failure in vertical wells"
   ]
  },
  {
   "cell_type": "markdown",
   "metadata": {
    "slideshow": {
     "slide_type": "slide"
    }
   },
   "source": [
    "# Stress around circular cavity\n",
    "\n",
    "$${}$$\n",
    "\n",
    "<img src=\"images/kirsch.png\" width=400>\n",
    "\n",
    "&copy; Cambridge University Press [Zoback, *Reservoir Geomechanics*](http://www.amazon.com/Reservoir-Geomechanics-Paperback-Author-Zoback/dp/B00EFZ88EQ/ref=sr_1_2?ie=UTF8&qid=1422942834&sr=8-2&keywords=zoback+geomechanics) (Fig. 6.1, pp. 169)"
   ]
  },
  {
   "cell_type": "markdown",
   "metadata": {
    "slideshow": {
     "slide_type": "slide"
    }
   },
   "source": [
    "# Kirsch solution\n",
    "\n",
    "\n",
    "${}$\n",
    "\n",
    "\n",
    "\\begin{align}\n",
    "\\sigma_{rr} &= \\frac{ \\sigma_{Hmax} + \\sigma_{hmin} }{2}\\left( 1 - \\frac{a^2}{r^2} \\right) + \\frac{ \\sigma_{Hmax} - \\sigma_{hmin} }{2}\\left( 1 - 4 \\frac{a^2}{r^2} + 3 \\frac{a^4}{r^4}\\right)\\cos 2\\theta + (P_w-P_p)\\left(\\frac{a^2}{r^2}\\right) \\\\\n",
    "\\sigma_{\\theta\\theta} &= \\frac{ \\sigma_{Hmax} + \\sigma_{hmin} }{2}\\left( 1 + \\frac{a^2}{r^2} \\right) - \\frac{ \\sigma_{Hmax} - \\sigma_{hmin} }{2}\\left( 1 + 3 \\frac{a^4}{r^4}\\right)\\cos 2\\theta - (P_w-P_p)\\left(\\frac{a^2}{r^2}\\right) \\\\\n",
    "\\sigma_{r\\theta} &= \\frac{ \\sigma_{Hmax} - \\sigma_{hmin} }{2}\\left( 1 + 2\\frac{a^2}{r^2} - 3 \\frac{a^4}{r^4} \\right) - \\sin 2\\theta \\\\\n",
    "\\sigma_{zz} &= \\sigma_v - 2 \\nu (\\sigma_{Hmax} -\\sigma_{hmin})\\left(\\frac{a^2}{r^2}\\right)\\cos 2 \\theta\n",
    "\\end{align}"
   ]
  },
  {
   "cell_type": "markdown",
   "metadata": {
    "slideshow": {
     "slide_type": "subslide"
    }
   },
   "source": [
    "# Principle stresses\n",
    "\n",
    "${}$\n",
    "\n",
    "$$\n",
    "\\sigma_"
   ]
  },
  {
   "cell_type": "markdown",
   "metadata": {
    "slideshow": {
     "slide_type": "slide"
    }
   },
   "source": [
    "# Example\n",
    "\n",
    "\n",
    "<table style=\"border: hidden; \" align=\"center\">\n",
    "  <tr>\n",
    "    <td style=\"border: hidden; text-align: center\"><img src=\"images/wellbore_ex1.png\" width=400></td>\n",
    "    <td style=\"border: hidden; text-align: center\">$$\\quad \\quad \\quad \\quad$$</td>\n",
    "    <td style=\"border: hidden; text-align: center\">\n",
    "    \\begin{align}\n",
    "    S_{Hmax} &= 90 \\mbox{MPa} \\\\\n",
    "    S_{v} &= 88.2 \\mbox{MPa} \\\\\n",
    "    S_{hmin} &= 51.5 \\mbox{MPa} \\\\\n",
    "    P_{p} &= 31.5 \\mbox{MPa} \\\\\n",
    "    P_{w} &= 31.5 \\mbox{MPa}\n",
    "    \\end{align}\n",
    "    </td>\n",
    "  </tr>\n",
    "</table>\n",
    "\n",
    "&copy; Cambridge University Press [Zoback, *Reservoir Geomechanics*](http://www.amazon.com/Reservoir-Geomechanics-Paperback-Author-Zoback/dp/B00EFZ88EQ/ref=sr_1_2?ie=UTF8&qid=1422942834&sr=8-2&keywords=zoback+geomechanics) (Fig. 6.2a, pp. 171)"
   ]
  },
  {
   "cell_type": "markdown",
   "metadata": {
    "slideshow": {
     "slide_type": "subslide"
    }
   },
   "source": [
    "${}$\n",
    "\n",
    "<table style=\"border: hidden; \" align=\"center\">\n",
    "  <tr>\n",
    "    <td style=\"border: hidden; text-align: center\"><img src=\"images/wellbore_ex2.png\" width=400></td>\n",
    "    <td style=\"border: hidden; text-align: center\">$$\\quad$$</td>\n",
    "    <td style=\"border: hidden; text-align: center\"><img src=\"images/wellbore_ex3.png\" width=400></td>\n",
    "  </tr>\n",
    "  <tr>\n",
    "    <td style=\"border: hidden; text-align: center\">Along azimuth of $S_{Hmax}$</td>\n",
    "    <td style=\"border: hidden; text-align: center\">$$\\quad$$</td>\n",
    "    <td style=\"border: hidden; text-align: center\">Along azimuth of $S_{hmin}$</td>\n",
    "  </tr>\n",
    "</table>\n",
    "\n",
    "&copy; Cambridge University Press [Zoback, *Reservoir Geomechanics*](http://www.amazon.com/Reservoir-Geomechanics-Paperback-Author-Zoback/dp/B00EFZ88EQ/ref=sr_1_2?ie=UTF8&qid=1422942834&sr=8-2&keywords=zoback+geomechanics) (Fig. 6.2b,c, pp. 171)"
   ]
  },
  {
   "cell_type": "markdown",
   "metadata": {
    "slideshow": {
     "slide_type": "subslide"
    }
   },
   "source": [
    "# Variation of wellbore stresses\n",
    "\n",
    "${}$\n",
    "\n",
    "<img src=\"images/wellbore_variation.png\" width=500>\n",
    "\n",
    "\n",
    "&copy; Cambridge University Press [Zoback, *Reservoir Geomechanics*](http://www.amazon.com/Reservoir-Geomechanics-Paperback-Author-Zoback/dp/B00EFZ88EQ/ref=sr_1_2?ie=UTF8&qid=1422942834&sr=8-2&keywords=zoback+geomechanics) (Fig. 6.3a, pp. 173)"
   ]
  },
  {
   "cell_type": "markdown",
   "metadata": {
    "slideshow": {
     "slide_type": "slide"
    }
   },
   "source": [
    "# Wellbore breakout region\n",
    "\n",
    "${}$\n",
    "\n",
    "<table style=\"border: hidden; \" align=\"center\">\n",
    "  <tr>\n",
    "    <td style=\"border: hidden; text-align: center\"><img src=\"images/wellbore_breakout1.png\" width=400></td>\n",
    "    <td style=\"border: hidden; text-align: center\">$$\\quad$$</td>\n",
    "    <td style=\"border: hidden; text-align: center\"><img src=\"images/wellbore_breakout2.png\" width=300></td>\n",
    "  </tr>\n",
    "</table>\n",
    "\n",
    "&copy; Cambridge University Press [Zoback, *Reservoir Geomechanics*](http://www.amazon.com/Reservoir-Geomechanics-Paperback-Author-Zoback/dp/B00EFZ88EQ/ref=sr_1_2?ie=UTF8&qid=1422942834&sr=8-2&keywords=zoback+geomechanics) (Fig. 6.3b,c, pp. 173)\n",
    "\n"
   ]
  },
  {
   "cell_type": "markdown",
   "metadata": {
    "slideshow": {
     "slide_type": "slide"
    }
   },
   "source": [
    "## Mudweight stabilization\n",
    "\n",
    "As $\\Delta P$ increases, $\\sigma_{\\theta\\theta}$ decreases and $\\sigma_{rr}$ increases.\n",
    "\n",
    "<table style=\"border: hidden; \" align=\"center\">\n",
    "  <tr>\n",
    "<td style=\"border: hidden; text-align: center\"><img src=\"images/wellbore_breakout1.png\" width=400></td>\n",
    "    <td style=\"border: hidden; text-align: center\">$$\\quad$$</td>\n",
    "<td style=\"border: hidden; text-align: center\"><img src=\"images/tensile_induced2.png\" width=300></td>\n",
    " </tr>\n",
    "</table>\n",
    "\n",
    "&copy; Cambridge University Press [Zoback, *Reservoir Geomechanics*](http://www.amazon.com/Reservoir-Geomechanics-Paperback-Author-Zoback/dp/B00EFZ88EQ/ref=sr_1_2?ie=UTF8&qid=1422942834&sr=8-2&keywords=zoback+geomechanics) (Fig. 6.3b, pp. 173 and Fig. 6.5a, pp. 177)"
   ]
  },
  {
   "cell_type": "markdown",
   "metadata": {
    "slideshow": {
     "slide_type": "slide"
    }
   },
   "source": [
    "# Breakouts as indicators of far-field stresses\n",
    "\n",
    "Simplify Kirsch equations at wellbore wall $a = r$, so\n",
    "\n",
    "\\begin{align}\n",
    "\\sigma_{rr} &=  (P_w-P_p) = \\Delta P \\\\\n",
    "\\sigma_{\\theta\\theta} &=  \\sigma_{Hmax} + \\sigma_{hmin} - 2 (\\sigma_{Hmax} - \\sigma_{hmin} ) \\cos 2 \\theta - \\Delta P \\\\\n",
    "\\sigma_{zz} &= \\sigma_v - 2 \\nu (\\sigma_{Hmax} -\\sigma_{hmin})\\cos 2 \\theta\n",
    "\\end{align}"
   ]
  },
  {
   "cell_type": "markdown",
   "metadata": {
    "slideshow": {
     "slide_type": "fragment"
    }
   },
   "source": [
    "\n",
    "\n",
    "$\\sigma_{\\theta\\theta}$ has min at 0$^\\circ$ and 180$^\\circ$\n",
    "\n",
    "\\begin{align}\n",
    "\\sigma_{\\theta\\theta}^{min} &=  3\\sigma_{Hmin} - \\sigma_{Hmax} - \\Delta P \\\\\n",
    "\\end{align}"
   ]
  },
  {
   "cell_type": "markdown",
   "metadata": {
    "slideshow": {
     "slide_type": "fragment"
    }
   },
   "source": [
    "\n",
    "\n",
    "$\\sigma_{\\theta\\theta}$ has min at 90$^\\circ$ and 270$^\\circ$, so\n",
    "\n",
    "\\begin{align}\n",
    "\\sigma_{\\theta\\theta}^{max} &=  3\\sigma_{Hmax} - \\sigma_{hmin} - \\Delta P \\\\\n",
    "\\end{align}"
   ]
  },
  {
   "cell_type": "markdown",
   "metadata": {
    "slideshow": {
     "slide_type": "fragment"
    }
   },
   "source": [
    "so\n",
    "\n",
    "\\begin{align}\n",
    "\\sigma_{\\theta\\theta}^{max} - \\sigma_{\\theta\\theta}^{min} &=  4(\\sigma_{Hmax} - \\sigma_{hmin})\n",
    "\\end{align}"
   ]
  },
  {
   "cell_type": "markdown",
   "metadata": {
    "slideshow": {
     "slide_type": "slide"
    }
   },
   "source": [
    "## Tensile induced fractures\n",
    "\n",
    "<img src=\"images/tensile_induced1.png\" width=400>\n",
    "\n",
    "&copy; Cambridge University Press [Zoback, *Reservoir Geomechanics*](http://www.amazon.com/Reservoir-Geomechanics-Paperback-Author-Zoback/dp/B00EFZ88EQ/ref=sr_1_2?ie=UTF8&qid=1422942834&sr=8-2&keywords=zoback+geomechanics) (Fig. 6.5a, pp. 177)"
   ]
  },
  {
   "cell_type": "markdown",
   "metadata": {
    "slideshow": {
     "slide_type": "slide"
    }
   },
   "source": [
    "## Safe drilling mud window\n",
    "\n",
    "* **Mud weight too low**\n",
    "\n",
    "  * Breakouts\n",
    "  \n",
    "* **Mud weight too high**\n",
    "\n",
    "  * Tensile induced fractures leading to lost circulation"
   ]
  },
  {
   "cell_type": "markdown",
   "metadata": {
    "slideshow": {
     "slide_type": "slide"
    }
   },
   "source": [
    "# Imaging breakouts\n",
    "\n",
    "${}$\n",
    "\n",
    "<table style=\"border: hidden; \" align=\"center\">\n",
    "  <tr>\n",
    "    <td style=\"border: hidden; text-align: center\"><img src=\"images/ultrasonic_pwave_breakout.png\" width=200></td>\n",
    "    <td style=\"border: hidden; text-align: center\">$$\\quad$$</td>\n",
    "    <td style=\"border: hidden; text-align: center\"><img src=\"images/electrical_resistivity.png\" width=200></td>\n",
    "    <td style=\"border: hidden; text-align: center\">$$\\quad$$</td>\n",
    "    <td style=\"border: hidden; text-align: center\"><img src=\"images/breakout_log_image.png\" width=300></td>\n",
    "  </tr>\n",
    "  <tr>\n",
    "    <td style=\"border: hidden; text-align: center\">Ultrasonic $P$-wave</td>\n",
    "    <td style=\"border: hidden; text-align: center\">$$\\quad$$</td>\n",
    "    <td style=\"border: hidden; text-align: center\">Electrical resistivity</td>\n",
    "    <td style=\"border: hidden; text-align: center\">$$\\quad$$</td>\n",
    "    <td style=\"border: hidden; text-align: center\">Breakout cross-section</td>\n",
    "  </tr>\n",
    "</table>\n",
    "\n",
    "&copy; Cambridge University Press [Zoback, *Reservoir Geomechanics*](http://www.amazon.com/Reservoir-Geomechanics-Paperback-Author-Zoback/dp/B00EFZ88EQ/ref=sr_1_2?ie=UTF8&qid=1422942834&sr=8-2&keywords=zoback+geomechanics) (Fig. 6.4a,b,c, pp. 176)\n"
   ]
  },
  {
   "cell_type": "markdown",
   "metadata": {
    "slideshow": {
     "slide_type": "slide"
    }
   },
   "source": [
    "# Four-arm caliper data\n",
    "\n",
    "${}$\n",
    "\n",
    "<table style=\"border: hidden; \" align=\"center\">\n",
    "  <tr>\n",
    "    <td style=\"border: hidden; text-align: center\"><img src=\"images/caliper1.png\" width=250></td>\n",
    "    <td style=\"border: hidden; text-align: center\">$$\\quad$$</td>\n",
    "    <td style=\"border: hidden; text-align: center\"><img src=\"images/caliper2.png\" width=165></td>\n",
    "    <td style=\"border: hidden; text-align: center\">$$\\quad$$</td>\n",
    "    <td style=\"border: hidden; text-align: center\"><img src=\"images/caliper3.png\" width=150></td>\n",
    "  </tr>\n",
    "  <tr>\n",
    "    <td style=\"border: hidden; text-align: center\">Caliper data</td>\n",
    "    <td style=\"border: hidden; text-align: center\">$$\\quad$$</td>\n",
    "    <td style=\"border: hidden; text-align: center\">Breakout indication</td>\n",
    "    <td style=\"border: hidden; text-align: center\">$$\\quad$$</td>\n",
    "    <td style=\"border: hidden; text-align: center\">Examples of variations</td>\n",
    "  </tr>\n",
    "</table>\n",
    "\n",
    "&copy; Cambridge University Press [Zoback, *Reservoir Geomechanics*](http://www.amazon.com/Reservoir-Geomechanics-Paperback-Author-Zoback/dp/B00EFZ88EQ/ref=sr_1_2?ie=UTF8&qid=1422942834&sr=8-2&keywords=zoback+geomechanics) (Fig. 6.9a,b,c, pp. 183)\n"
   ]
  }
 ],
 "metadata": {
  "celltoolbar": "Slideshow",
  "kernelspec": {
   "display_name": "Python 2",
   "language": "python",
   "name": "python2"
  },
  "language_info": {
   "codemirror_mode": {
    "name": "ipython",
    "version": 2
   },
   "file_extension": ".py",
   "mimetype": "text/x-python",
   "name": "python",
   "nbconvert_exporter": "python",
   "pygments_lexer": "ipython2",
   "version": "2.7.11"
  }
 },
 "nbformat": 4,
 "nbformat_minor": 0
}
