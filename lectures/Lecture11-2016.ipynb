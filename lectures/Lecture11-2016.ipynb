{
 "cells": [
  {
   "cell_type": "markdown",
   "metadata": {
    "slideshow": {
     "slide_type": "slide"
    }
   },
   "source": [
    "# Strain tensor\n",
    "\n",
    "${}$\n",
    "\n",
    "$$\n",
    "\\boldsymbol{\\varepsilon} = \\begin{bmatrix}\n",
    "      \\varepsilon_{11} & \\varepsilon_{12} & \\varepsilon_{13} \\\\\n",
    "      \\varepsilon_{21} & \\varepsilon_{22} & \\varepsilon_{23} \\\\\n",
    "      \\varepsilon_{31} & \\varepsilon_{32} & \\varepsilon_{33}\n",
    "      \\end{bmatrix}\n",
    "$$"
   ]
  },
  {
   "cell_type": "markdown",
   "metadata": {
    "slideshow": {
     "slide_type": "fragment"
    }
   },
   "source": [
    "$$\\varepsilon_{ij} = \\frac{1}{2}\\left( \\frac{\\partial u_i}{\\partial x_j} +  \\frac{\\partial u_j}{\\partial x_i}\\right) \\quad \\mbox{for} \\quad i=1,2,3 \\quad j=1,2,3$$"
   ]
  },
  {
   "cell_type": "markdown",
   "metadata": {
    "slideshow": {
     "slide_type": "fragment"
    }
   },
   "source": [
    "## Volumetric strain\n",
    "\n",
    "$$\n",
    "\\varepsilon_{vol} = \\mbox{tr}(\\boldsymbol{\\varepsilon}) = \\varepsilon_{11} + \\varepsilon_{22} + \\varepsilon_{33}\n",
    "$$"
   ]
  },
  {
   "cell_type": "markdown",
   "metadata": {
    "slideshow": {
     "slide_type": "subslide"
    }
   },
   "source": [
    "# Material constants for isotropic materials\n",
    "\n",
    "\n",
    "### Young's modulus\n",
    "\n",
    "$$E  = \\frac{S_{11}}{\\varepsilon_{11}}$$\n",
    "\n",
    "### Bulk modulus\n",
    "\n",
    "$$K = \\frac{S_{11}+S_{22}+S_{33}}{3\\varepsilon_{vol}}$$\n",
    "\n",
    "### Shear Modulus\n",
    "\n",
    "$$G = \\frac{1}{2} \\frac{S_{13}}{\\varepsilon_{13}}$$\n",
    "\n",
    "\n",
    "### Poisson's ratio\n",
    "\n",
    "$$\\nu = \\frac{\\varepsilon_{33}}{\\varepsilon_{11}}$$"
   ]
  },
  {
   "cell_type": "markdown",
   "metadata": {
    "slideshow": {
     "slide_type": "subslide"
    }
   },
   "source": [
    "# Typical Young's modulus values\n",
    "\n",
    "${}$\n",
    "\n",
    "<table style=\"border: hidden; \" align=\"center\">\n",
    "  <tr>\n",
    "    <td style=\"border: hidden; text-align: center\"><img src=\"images/E_sandstone.png\" width=300></td>\n",
    "    <td style=\"border: hidden; text-align: center\"><img src=\"images/E_limestone.png\" width=300></td>\n",
    "    <td style=\"border: hidden; text-align: center\"><img src=\"images/E_shale.png\" width=300></td>\n",
    "  </tr>\n",
    "</table>\n",
    "\n",
    "&copy; Lama, R. D., and V. S. Vutukuri. [HANDBOOK ON MECHANICAL PROPERTIES OF ROCKS-TESTING TECHNIQUES AND RESULTS. VOLUME 2](http://trid.trb.org/view.aspx?id=157142). Monograph. 1978.)"
   ]
  },
  {
   "cell_type": "markdown",
   "metadata": {
    "slideshow": {
     "slide_type": "subslide"
    }
   },
   "source": [
    "# Typical Poissons' modulus values\n",
    "\n",
    "${}$\n",
    "\n",
    "<table style=\"border: hidden; \" align=\"center\">\n",
    "  <tr>\n",
    "    <td style=\"border: hidden; text-align: center\"><img src=\"images/nu_sandstone.png\" width=300></td>\n",
    "    <td style=\"border: hidden; text-align: center\"><img src=\"images/nu_limestone.png\" width=300></td>\n",
    "    <td style=\"border: hidden; text-align: center\"><img src=\"images/nu_shale.png\" width=300></td>\n",
    "  </tr>\n",
    "</table>\n",
    "\n",
    "&copy; Lama, R. D., and V. S. Vutukuri. [HANDBOOK ON MECHANICAL PROPERTIES OF ROCKS-TESTING TECHNIQUES AND RESULTS. VOLUME 2](http://trid.trb.org/view.aspx?id=157142). Monograph. 1978.)"
   ]
  },
  {
   "cell_type": "markdown",
   "metadata": {
    "slideshow": {
     "slide_type": "subslide"
    }
   },
   "source": [
    "# Generalized Hooke's law\n",
    "\n",
    "$${}$$\n",
    "\n",
    "$$\\vec{\\sigma} = \\boldsymbol{C}  \\, \\vec{\\varepsilon}$$"
   ]
  },
  {
   "cell_type": "markdown",
   "metadata": {
    "slideshow": {
     "slide_type": "subslide"
    }
   },
   "source": [
    "### For isotropic materials\n",
    "\n",
    "\\begin{equation}\n",
    "\\small\n",
    "\\left\\lbrace\\begin{matrix} \\sigma_{11} \\\\ \\sigma_{22} \\\\ \\sigma_{33} \\\\ \\sigma_{12} \\\\ \\sigma_{13} \\\\ \\sigma_{23} \\end{matrix}\\right\\rbrace = \\frac{E}{(1+\\nu)(1-2\\nu)}\n",
    "\\begin{bmatrix}\n",
    "1 - \\nu & \\nu & \\nu & 0 & 0 & 0 \\\\\n",
    "\\nu & 1 - \\nu & \\nu & 0 & 0 & 0 \\\\\n",
    "\\nu & \\nu & 1 - \\nu & 0 & 0 & 0 \\\\\n",
    "0 & 0 & 0 & \\frac{1}{2}(1 - 2 \\nu) & 0 & 0 \\\\\n",
    "0 & 0 & 0 & 0 & \\frac{1}{2}(1 - 2 \\nu) & 0 \\\\\n",
    "0 & 0 & 0 & 0 & 0 & \\frac{1}{2}(1 - 2 \\nu)\n",
    "\\end{bmatrix}\n",
    "\\left\\lbrace\\begin{matrix} \\varepsilon_{11} \\\\ \\varepsilon_{22} \\\\ \\varepsilon_{33} \\\\ 2\\varepsilon_{12} \\\\ 2\\varepsilon_{13} \\\\ 2\\varepsilon_{23} \\end{matrix}\\right\\rbrace\n",
    "\\end{equation}"
   ]
  },
  {
   "cell_type": "markdown",
   "metadata": {
    "slideshow": {
     "slide_type": "fragment"
    }
   },
   "source": [
    "$$\\mathbf{S} = K \\varepsilon_{vol} \\mathbf{I} + 2 G \\left(\\boldsymbol{\\varepsilon} - \\frac{1}{3} \\varepsilon_{vol}\\mathbf{I}\\right), \\qquad G = \\frac{E}{2(1+\\nu)} \\Rightarrow \\mbox{shear modulus}$$ "
   ]
  },
  {
   "cell_type": "markdown",
   "metadata": {
    "slideshow": {
     "slide_type": "fragment"
    }
   },
   "source": [
    "$$\\mathbf{S} = \\lambda \\varepsilon_{vol} \\mathbf{I} + 2 G \\boldsymbol{\\varepsilon}, \\qquad \\lambda = K - \\frac{2}{3} G \\Rightarrow \\text{Lamé's constant}$$"
   ]
  },
  {
   "cell_type": "markdown",
   "metadata": {
    "slideshow": {
     "slide_type": "slide"
    }
   },
   "source": [
    "# Relationships between constants\n",
    "\n",
    "<table style=\"\" align=\"center\">\n",
    "<tbody>\n",
    "<tr>\n",
    "<td></td>\n",
    "<td style=\"text-align:center;\">$K=\\,$</td>\n",
    "<td style=\"text-align:center;\">$E=\\,$</td>\n",
    "<td style=\"text-align:center;\">$\\lambda=\\,$</td>\n",
    "<td style=\"text-align:center;\">$G=\\,$</td>\n",
    "<td style=\"text-align:center;\">$\\nu=\\,$</td>\n",
    "<td style=\"text-align:center;\">$M=\\,$</td>\n",
    "</tr>\n",
    "<tr>\n",
    "<td style=\"text-align:center;\">$(K,\\,E)$</td>\n",
    "<td style=\"text-align:center;\">$K$</td>\n",
    "<td style=\"text-align:center;\">$E$</td>\n",
    "<td style=\"text-align:center;\">$\\tfrac{3K(3K-E)}{9K-E}$</td>\n",
    "<td style=\"text-align:center;\">$\\tfrac{3KE}{9K-E}$</td>\n",
    "<td style=\"text-align:center;\">$\\tfrac{3K-E}{6K}$</td>\n",
    "<td style=\"text-align:center;\">$\\tfrac{3K(3K+E)}{9K-E}$</td>\n",
    "</tr>\n",
    "<tr>\n",
    "<td style=\"text-align:center;\">$(K,\\,\\lambda)$</td>\n",
    "<td style=\"text-align:center;\">$K$</td>\n",
    "<td style=\"text-align:center;\">$\\tfrac{9K(K-\\lambda)}{3K-\\lambda}$</td>\n",
    "<td style=\"text-align:center;\">$\\lambda$</td>\n",
    "<td style=\"text-align:center;\">$\\tfrac{3(K-\\lambda)}{2}$</td>\n",
    "<td style=\"text-align:center;\">$\\tfrac{\\lambda}{3K-\\lambda}$</td>\n",
    "<td style=\"text-align:center;\">$3K-2\\lambda\\,$</td>\n",
    "</tr>\n",
    "<tr>\n",
    "<td style=\"text-align:center;\">$(K,\\,G)$</td>\n",
    "<td style=\"text-align:center;\">$K$</td>\n",
    "<td style=\"text-align:center;\">$\\tfrac{9KG}{3K+G}$</td>\n",
    "<td style=\"text-align:center;\">$K-\\tfrac{2G}{3}$</td>\n",
    "<td style=\"text-align:center;\">$G$</td>\n",
    "<td style=\"text-align:center;\">$\\tfrac{3K-2G}{2(3K+G)}$</td>\n",
    "<td style=\"text-align:center;\">$K+\\tfrac{4G}{3}$</td>\n",
    "</tr>\n",
    "<tr>\n",
    "<td style=\"text-align:center;\">$(K,\\,\\nu)$</td>\n",
    "<td style=\"text-align:center;\">$K$</td>\n",
    "<td style=\"text-align:center;\">$3K(1-2\\nu)\\,$</td>\n",
    "<td style=\"text-align:center;\">$\\tfrac{3K\\nu}{1+\\nu}$</td>\n",
    "<td style=\"text-align:center;\">$\\tfrac{3K(1-2\\nu)}{2(1+\\nu)}$</td>\n",
    "<td style=\"text-align:center;\">$\\nu$</td>\n",
    "<td style=\"text-align:center;\">$\\tfrac{3K(1-\\nu)}{1+\\nu}$</td>\n",
    "</tr>\n",
    "<tr>\n",
    "<td style=\"text-align:center;\">$(K,\\,M)$</td>\n",
    "<td style=\"text-align:center;\">$K$</td>\n",
    "<td style=\"text-align:center;\">$\\tfrac{9K(M-K)}{3K+M}$</td>\n",
    "<td style=\"text-align:center;\">$\\tfrac{3K-M}{2}$</td>\n",
    "<td style=\"text-align:center;\">$\\tfrac{3(M-K)}{4}$</td>\n",
    "<td style=\"text-align:center;\">$\\tfrac{3K-M}{3K+M}$</td>\n",
    "<td style=\"text-align:center;\">$M$</td>\n",
    "</tr>\n",
    "<tr>\n",
    "<td style=\"text-align:center;\">$(E,\\,\\lambda)$</td>\n",
    "<td style=\"text-align:center;\">$\\tfrac{E + 3\\lambda + R}{6}$</td>\n",
    "<td style=\"text-align:center;\">$E$</td>\n",
    "<td style=\"text-align:center;\">$\\lambda$</td>\n",
    "<td style=\"text-align:center;\">$\\tfrac{E-3\\lambda+R}{4}$</td>\n",
    "<td style=\"text-align:center;\">$\\tfrac{2\\lambda}{E+\\lambda+R}$</td>\n",
    "<td style=\"text-align:center;\">$\\tfrac{E-\\lambda+R}{2}$</td>\n",
    "</tr>\n",
    "<tr>\n",
    "<td style=\"text-align:center;\">$(E,\\,G)$</td>\n",
    "<td style=\"text-align:center;\">$\\tfrac{EG}{3(3G-E)}$</td>\n",
    "<td style=\"text-align:center;\">$E$</td>\n",
    "<td style=\"text-align:center;\">$\\tfrac{G(E-2G)}{3G-E}$</td>\n",
    "<td style=\"text-align:center;\">$G$</td>\n",
    "<td style=\"text-align:center;\">$\\tfrac{E}{2G}-1$</td>\n",
    "<td style=\"text-align:center;\">$\\tfrac{G(4G-E)}{3G-E}$</td>\n",
    "</tr>\n",
    "<tr>\n",
    "<td style=\"text-align:center;\">$(E,\\,\\nu)$</td>\n",
    "<td style=\"text-align:center;\">$\\tfrac{E}{3(1-2\\nu)}$</td>\n",
    "<td style=\"text-align:center;\">$E$</td>\n",
    "<td style=\"text-align:center;\">$\\tfrac{E\\nu}{(1+\\nu)(1-2\\nu)}$</td>\n",
    "<td style=\"text-align:center;\">$\\tfrac{E}{2(1+\\nu)}$</td>\n",
    "<td style=\"text-align:center;\">$\\nu$</td>\n",
    "<td style=\"text-align:center;\">$\\tfrac{E(1-\\nu)}{(1+\\nu)(1-2\\nu)}$</td>\n",
    "</tr>\n",
    "</tbody></table>"
   ]
  },
  {
   "cell_type": "markdown",
   "metadata": {
    "slideshow": {
     "slide_type": "subslide"
    }
   },
   "source": [
    "# Relationships between constants (contd.)\n",
    "\n",
    "\n",
    "<table style=\"\" align=\"center\">\n",
    "<tbody>\n",
    "<tr>\n",
    "<td></td>\n",
    "<td style=\"text-align:center;\">$K=\\,$</td>\n",
    "<td style=\"text-align:center;\">$E=\\,$</td>\n",
    "<td style=\"text-align:center;\">$\\lambda=\\,$</td>\n",
    "<td style=\"text-align:center;\">$G=\\,$</td>\n",
    "<td style=\"text-align:center;\">$\\nu=\\,$</td>\n",
    "<td style=\"text-align:center;\">$M=\\,$</td>\n",
    "</tr>\n",
    "<tr>\n",
    "<td style=\"text-align:center;\">$(E,\\,M)$</td>\n",
    "<td style=\"text-align:center;\">$\\tfrac{3M-E+S}{6}$</td>\n",
    "<td style=\"text-align:center;\">$E$</td>\n",
    "<td style=\"text-align:center;\">$\\tfrac{M-E+S}{4}$</td>\n",
    "<td style=\"text-align:center;\">$\\tfrac{3M+E-S}{8}$</td>\n",
    "<td style=\"text-align:center;\">$\\tfrac{E-M+S}{4M}$</td>\n",
    "<td style=\"text-align:center;\">$M$</td>\n",
    "</tr>\n",
    "<tr>\n",
    "<td style=\"text-align:center;\">$(\\lambda,\\,G)$</td>\n",
    "<td style=\"text-align:center;\">$\\lambda+ \\tfrac{2G}{3}$</td>\n",
    "<td style=\"text-align:center;\">$\\tfrac{G(3\\lambda + 2G)}{\\lambda + G}$</td>\n",
    "<td style=\"text-align:center;\">$\\lambda$</td>\n",
    "<td style=\"text-align:center;\">$G$</td>\n",
    "<td style=\"text-align:center;\">$\\tfrac{\\lambda}{2(\\lambda + G)}$</td>\n",
    "<td style=\"text-align:center;\">$\\lambda+2G\\,$</td>\n",
    "</tr>\n",
    "<tr>\n",
    "<td style=\"text-align:center;\">$(\\lambda,\\,\\nu)$</td>\n",
    "<td style=\"text-align:center;\">$\\tfrac{\\lambda(1+\\nu)}{3\\nu}$</td>\n",
    "<td style=\"text-align:center;\">$\\tfrac{\\lambda(1+\\nu)(1-2\\nu)}{\\nu}$</td>\n",
    "<td style=\"text-align:center;\">$\\lambda$</td>\n",
    "<td style=\"text-align:center;\">$\\tfrac{\\lambda(1-2\\nu)}{2\\nu}$</td>\n",
    "<td style=\"text-align:center;\">$\\nu$</td>\n",
    "<td style=\"text-align:center;\">$\\tfrac{\\lambda(1-\\nu)}{\\nu}$</td>\n",
    "<tr>\n",
    "<td style=\"text-align:center;\">$(\\lambda,\\,M)$</td>\n",
    "<td style=\"text-align:center;\">$\\tfrac{M + 2\\lambda}{3}$</td>\n",
    "<td style=\"text-align:center;\">$\\tfrac{(M-\\lambda)(M+2\\lambda)}{M+\\lambda}$</td>\n",
    "<td style=\"text-align:center;\">$\\lambda$</td>\n",
    "<td style=\"text-align:center;\">$\\tfrac{M-\\lambda}{2}$</td>\n",
    "<td style=\"text-align:center;\">$\\tfrac{\\lambda}{M+\\lambda}$</td>\n",
    "<td style=\"text-align:center;\">$M$</td>\n",
    "</tr>\n",
    "<tr>\n",
    "<td style=\"text-align:center;\">$(G,\\,\\nu)$</td>\n",
    "<td style=\"text-align:center;\">$\\tfrac{2G(1+\\nu)}{3(1-2\\nu)}$</td>\n",
    "<td style=\"text-align:center;\">$2G(1+\\nu)\\,$</td>\n",
    "<td style=\"text-align:center;\">$\\tfrac{2 G \\nu}{1-2\\nu}$</td>\n",
    "<td style=\"text-align:center;\">$G$</td>\n",
    "<td style=\"text-align:center;\">$\\nu$</td>\n",
    "<td style=\"text-align:center;\">$\\tfrac{2G(1-\\nu)}{1-2\\nu}$</td>\n",
    "</tr>\n",
    "<tr>\n",
    "<td style=\"text-align:center;\">$(G,\\,M)$</td>\n",
    "<td style=\"text-align:center;\">$M - \\tfrac{4G}{3}$</td>\n",
    "<td style=\"text-align:center;\">$\\tfrac{G(3M-4G)}{M-G}$</td>\n",
    "<td style=\"text-align:center;\">$M - 2G\\,$</td>\n",
    "<td style=\"text-align:center;\">$G$</td>\n",
    "<td style=\"text-align:center;\">$\\tfrac{M - 2G}{2M - 2G}$</td>\n",
    "<td style=\"text-align:center;\">$M$</td>\n",
    "</tr>\n",
    "<tr>\n",
    "<td style=\"text-align:center;\">$(\\nu,\\,M)$</td>\n",
    "<td style=\"text-align:center;\">$\\tfrac{M(1+\\nu)}{3(1-\\nu)}$</td>\n",
    "<td style=\"text-align:center;\">$\\tfrac{M(1+\\nu)(1-2\\nu)}{1-\\nu}$</td>\n",
    "<td style=\"text-align:center;\">$\\tfrac{M \\nu}{1-\\nu}$</td>\n",
    "<td style=\"text-align:center;\">$\\tfrac{M(1-2\\nu)}{2(1-\\nu)}$</td>\n",
    "<td style=\"text-align:center;\">$\\nu$</td>\n",
    "<td style=\"text-align:center;\">$M$</td>\n",
    "</tr>\n",
    "</tbody></table>"
   ]
  },
  {
   "cell_type": "markdown",
   "metadata": {
    "slideshow": {
     "slide_type": "subslide"
    }
   },
   "source": [
    "# Siesmic wave velocity\n",
    "\n",
    "$${}$$\n",
    "\n",
    "$$V_p = \\sqrt{\\frac{M}{\\rho}}, \\quad \\quad V_s = \\sqrt{\\frac{G}{\\rho}}$$"
   ]
  },
  {
   "cell_type": "markdown",
   "metadata": {
    "slideshow": {
     "slide_type": "slide"
    }
   },
   "source": [
    "# Poroelasticity"
   ]
  },
  {
   "cell_type": "markdown",
   "metadata": {
    "slideshow": {
     "slide_type": "subslide"
    }
   },
   "source": [
    "# Poroelasticity Assumptions\n",
    "\n",
    " 1. There is an interconnected pore system uniformly saturated with fluid.\n",
    " 2. The total volume of the pore system is small compared to the volume of the rock.\n",
    " 3. The pore pressure, the total stress acting on the rock externally, and the stresses acting on the grains are statistically defined."
   ]
  },
  {
   "cell_type": "markdown",
   "metadata": {
    "slideshow": {
     "slide_type": "subslide"
    }
   },
   "source": [
    "# Effective stress\n",
    "\n",
    "**Terzaghi definition**\n",
    "\n",
    "$$\n",
    "\\boldsymbol{\\sigma}^{\\prime} = \\mathbf{S} - P_p \\mathbf{I}\n",
    "$$\n",
    "\n",
    "**\"Exact\" effective stress**\n",
    "\n",
    "$$\n",
    "\\boldsymbol{\\sigma}^{\\prime\\prime} = \\mathbf{S} - \\alpha P_p \\mathbf{I}\n",
    "$$\n",
    "\n",
    "$\\alpha$ is called Biot's coefficient"
   ]
  },
  {
   "cell_type": "markdown",
   "metadata": {
    "slideshow": {
     "slide_type": "subslide"
    }
   },
   "source": [
    "# Biot's coefficeint\n",
    "\n",
    "${}$\n",
    "\n",
    "$$\n",
    "\\alpha = 1 - \\dfrac{K_T}{K_S}\n",
    "$$\n",
    "\n",
    "For sand\n",
    "\n",
    "$$\n",
    "K_{S} >> K_T \\quad \\quad \\alpha \\approx 1\n",
    "$$\n",
    "\n",
    "For rocks\n",
    "\n",
    "$$\n",
    "\\alpha \\approx \\frac{2}{3}\n",
    "$$"
   ]
  },
  {
   "cell_type": "markdown",
   "metadata": {
    "slideshow": {
     "slide_type": "subslide"
    }
   },
   "source": [
    "# Biot's coefficient (cont.)\n",
    "\n",
    "<img src=\"images/biots_coef.png\" width=400>\n",
    "\n",
    "&copy; Cambridge University Press [Zoback, *Reservoir Geomechanics*](http://www.amazon.com/Reservoir-Geomechanics-Paperback-Author-Zoback/dp/B00EFZ88EQ/ref=sr_1_2?ie=UTF8&qid=1422942834&sr=8-2&keywords=zoback+geomechanics) (Fig. 3.5c, pp. 69)"
   ]
  }
 ],
 "metadata": {
  "celltoolbar": "Slideshow",
  "kernelspec": {
   "display_name": "Python 3",
   "language": "python",
   "name": "python3"
  },
  "language_info": {
   "codemirror_mode": {
    "name": "ipython",
    "version": 3
   },
   "file_extension": ".py",
   "mimetype": "text/x-python",
   "name": "python",
   "nbconvert_exporter": "python",
   "pygments_lexer": "ipython3",
   "version": "3.5.1"
  }
 },
 "nbformat": 4,
 "nbformat_minor": 0
}
