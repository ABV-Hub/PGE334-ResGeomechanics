{
 "cells": [
  {
   "cell_type": "markdown",
   "metadata": {
    "slideshow": {
     "slide_type": "slide"
    }
   },
   "source": [
    "# Conservation of linear momentum"
   ]
  },
  {
   "cell_type": "markdown",
   "metadata": {
    "slideshow": {
     "slide_type": "fragment"
    }
   },
   "source": [
    "\\begin{align}\n",
    "\\rho \\frac{\\partial^2 u_1}{\\partial t^2} &= \\frac{\\partial S_{11}}{\\partial x_1} + \\frac{\\partial S_{12}}{\\partial x_2} + \\frac{\\partial S_{13}}{\\partial x_3} + \\rho b_1 \\\\\n",
    "\\rho \\frac{\\partial^2 u_2}{\\partial t^2} &= \\frac{\\partial S_{12}}{\\partial x_1} + \\frac{\\partial S_{22}}{\\partial x_2} + \\frac{\\partial S_{23}}{\\partial x_3} + \\rho b_2 \\\\\n",
    "\\rho \\frac{\\partial^2 u_1}{\\partial t^2} &= \\frac{\\partial S_{13}}{\\partial x_1} + \\frac{\\partial S_{23}}{\\partial x_2} + \\frac{\\partial S_{33}}{\\partial x_3} + \\rho b_3\n",
    "\\end{align}"
   ]
  }
 ],
 "metadata": {
  "celltoolbar": "Slideshow",
  "kernelspec": {
   "display_name": "Python 3",
   "language": "python",
   "name": "python3"
  },
  "language_info": {
   "codemirror_mode": {
    "name": "ipython",
    "version": 3
   },
   "file_extension": ".py",
   "mimetype": "text/x-python",
   "name": "python",
   "nbconvert_exporter": "python",
   "pygments_lexer": "ipython3",
   "version": "3.5.2"
  }
 },
 "nbformat": 4,
 "nbformat_minor": 0
}
