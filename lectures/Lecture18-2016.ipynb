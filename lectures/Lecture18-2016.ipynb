{
 "cells": [
  {
   "cell_type": "markdown",
   "metadata": {
    "slideshow": {
     "slide_type": "slide"
    }
   },
   "source": [
    "# Thermal effects on wellbore stress\n",
    "\n",
    "\n",
    "${}$\n",
    "\n",
    "Strongly time dependent\n",
    "\n",
    "$$\n",
    "\\frac{\\partial T}{\\partial t} = \\alpha_T \\nabla^2 T\n",
    "$$\n",
    "\n",
    "$\\alpha \\to$ strongly depenendent of the silica content of the rock.\n",
    "\n",
    "Under steady-state conditions,\n",
    "\n",
    "$$\n",
    "\\Delta \\sigma_{\\theta\\theta}^T = \\frac{\\alpha_T E \\Delta T}{1-\\nu}\n",
    "$$"
   ]
  },
  {
   "cell_type": "markdown",
   "metadata": {
    "slideshow": {
     "slide_type": "subslide"
    }
   },
   "source": [
    "# Time-temperature effects\n",
    "\n",
    "\n",
    "<table style=\"border: hidden; \" align=\"center\">\n",
    "  <tr>\n",
    "    <td style=\"border: hidden; text-align: center\"><img src=\"images/hoop_temp.png\" width=450></td>\n",
    "    <td style=\"border: hidden; text-align: center\">\\begin{align}\\Delta T =& 25^{\\circ} \\mbox{ C} \\\\ \\Delta P =& 6 \\mbox{ MPa}\\end{align}</td>\n",
    "  </tr>\n",
    "  <tr>\n",
    "  <td style=\"border: hidden; text-align: center\"><img src=\"images/rr_temp.png\" width=450></td>\n",
    "  <td style=\"border: hidden; text-align: center\"></td>\n",
    "  </tr>\n",
    "</table>\n",
    "\n",
    "&copy; Cambridge University Press [Zoback, *Reservoir Geomechanics*](http://www.amazon.com/Reservoir-Geomechanics-Paperback-Author-Zoback/dp/B00EFZ88EQ/ref=sr_1_2?ie=UTF8&qid=1422942834&sr=8-2&keywords=zoback+geomechanics) (Fig. 6.14a,b pp. 194)"
   ]
  },
  {
   "cell_type": "markdown",
   "metadata": {
    "slideshow": {
     "slide_type": "subslide"
    }
   },
   "source": [
    "# Stability through cooling?\n",
    "\n",
    "\n",
    "<table style=\"border: hidden; \" align=\"center\">\n",
    "  <tr>\n",
    "    <td style=\"border: hidden; text-align: center\"><img src=\"images/cooling.png\" width=320></td>\n",
    "    <td style=\"border: hidden; text-align: center\"><img src=\"images/no_cooling.png\" width=320></td>\n",
    "  </tr>\n",
    "  <tr>\n",
    "  <td style=\"border: hidden; text-align: center\">Cooling</td>\n",
    "  <td style=\"border: hidden; text-align: center\">Reference</td>\n",
    "  </tr>\n",
    "</table>\n",
    "\n",
    "&copy; Cambridge University Press [Zoback, *Reservoir Geomechanics*](http://www.amazon.com/Reservoir-Geomechanics-Paperback-Author-Zoback/dp/B00EFZ88EQ/ref=sr_1_2?ie=UTF8&qid=1422942834&sr=8-2&keywords=zoback+geomechanics) (Fig. 6.14c pp. 194 and Fig. 6.3 pp. 173)"
   ]
  },
  {
   "cell_type": "markdown",
   "metadata": {
    "slideshow": {
     "slide_type": "slide"
    }
   },
   "source": [
    "# Rock strength anisotropy\n",
    "\n",
    "<table style=\"border: hidden; \" align=\"center\">\n",
    "  <tr>\n",
    "    <td style=\"border: hidden; text-align: left\">\n",
    "    \n",
    "        <img src=\"images/bedding.png\" width=100>\n",
    "   \n",
    "  </td>\n",
    "  <td style=\"border: hidden; text-align: center\">\n",
    " \n",
    "      <img src=\"images/two_strengths.png\" width=350>\n",
    "  \n",
    "  <td style=\"border: hidden; text-align: center\">\n",
    "      <img src=\"images/beta_effect.png\" width=290>\n",
    "  </td>\n",
    "  </tr>\n",
    "</table>\n",
    "\n",
    "$$\n",
    "\\sigma_1 = \\sigma_3 \\frac{2 (S_w + \\mu_w \\sigma_3)}{(1-\\mu_w \\cot\\beta_w)\\sin 2\\beta}\n",
    "$$\n",
    "\n",
    "&copy; Cambridge University Press [Zoback, *Reservoir Geomechanics*](http://www.amazon.com/Reservoir-Geomechanics-Paperback-Author-Zoback/dp/B00EFZ88EQ/ref=sr_1_2?ie=UTF8&qid=1422942834&sr=8-2&keywords=zoback+geomechanics) (Fig. 4.12, pp. 106)"
   ]
  },
  {
   "cell_type": "markdown",
   "metadata": {
    "slideshow": {
     "slide_type": "subslide"
    }
   },
   "source": [
    "# Rock strength anisotropy effects on breakouts\n",
    "\n",
    "\n",
    "<table style=\"border: hidden; \" align=\"center\">\n",
    "  <tr>\n",
    "    <td style=\"border: hidden; text-align: center\"><img src=\"images/aniso_fail1.png\" width=350></td>  \n",
    "    <td style=\"border: hidden; text-align: center\"><img src=\"images/aniso_fail2.png\" width=300></td>\n",
    "  </tr>\n",
    "</table>\n",
    "\n",
    "&copy; Cambridge University Press [Zoback, *Reservoir Geomechanics*](http://www.amazon.com/Reservoir-Geomechanics-Paperback-Author-Zoback/dp/B00EFZ88EQ/ref=sr_1_2?ie=UTF8&qid=1422942834&sr=8-2&keywords=zoback+geomechanics) (Fig. 6.16a,b pp. 199)"
   ]
  },
  {
   "cell_type": "markdown",
   "metadata": {
    "slideshow": {
     "slide_type": "subslide"
    }
   },
   "source": [
    "# Two mechanisms\n",
    "\n",
    " * Stresses exceed intact rock strength\n",
    " \n",
    " * Stresses activate slip on weak bedding planes\n",
    "\n",
    "\n",
    "<table style=\"border: hidden; \" align=\"center\">\n",
    "  <tr>\n",
    "    <td style=\"border: hidden; text-align: center\"><img src=\"images/aniso_fail3.png\" width=350></td>  \n",
    "  </tr>\n",
    "</table>\n",
    "\n",
    "&copy; Cambridge University Press [Zoback, *Reservoir Geomechanics*](http://www.amazon.com/Reservoir-Geomechanics-Paperback-Author-Zoback/dp/B00EFZ88EQ/ref=sr_1_2?ie=UTF8&qid=1422942834&sr=8-2&keywords=zoback+geomechanics) (Fig. 6.16c pp. 199)"
   ]
  },
  {
   "cell_type": "markdown",
   "metadata": {
    "slideshow": {
     "slide_type": "slide"
    }
   },
   "source": [
    "#Chemical effects\n",
    "\n",
    "  * Water Activity ($A_w \\sim \\frac{1}{\\mbox{salinity}}$) can to increased pore pressure"
   ]
  },
  {
   "cell_type": "markdown",
   "metadata": {
    "slideshow": {
     "slide_type": "slide"
    }
   },
   "source": [
    "# $S_{Hmax}$ from breakout data\n",
    "\n",
    "${}$\n",
    "\n",
    "$$\n",
    "S_{Hmax} = \\frac{(C_0 + 2 P_p + \\Delta P + \\Delta \\sigma^T) - S_{hmin}(1 + 2 \\cos(\\pi - w_{bo}))}{1 - 2 \\cos(\\pi - w_{bo})}\n",
    "$$"
   ]
  },
  {
   "cell_type": "markdown",
   "metadata": {
    "slideshow": {
     "slide_type": "subslide"
    }
   },
   "source": [
    "# Example\n",
    "\n",
    "\n",
    "<table style=\"border: hidden; \" align=\"center\">\n",
    "  <tr>\n",
    "    <td style=\"border: hidden; text-align: center\"><img src=\"images/shmax_from_breakout.png\" width=350></td>  \n",
    "  </tr>\n",
    "</table>\n",
    "\n",
    "&copy; Cambridge University Press [Zoback, *Reservoir Geomechanics*](http://www.amazon.com/Reservoir-Geomechanics-Paperback-Author-Zoback/dp/B00EFZ88EQ/ref=sr_1_2?ie=UTF8&qid=1422942834&sr=8-2&keywords=zoback+geomechanics) (Fig. 7.7 pp. 223)"
   ]
  },
  {
   "cell_type": "markdown",
   "metadata": {
    "slideshow": {
     "slide_type": "slide"
    }
   },
   "source": [
    "# Wellbore stability"
   ]
  },
  {
   "cell_type": "markdown",
   "metadata": {
    "slideshow": {
     "slide_type": "subslide"
    }
   },
   "source": [
    "# Defining a \"stable\" wellbore\n",
    "\n",
    "<table style=\"border: hidden; \" align=\"center\">\n",
    "  <tr>\n",
    "    <td style=\"border: hidden; text-align: center\"><img src=\"images/stable_well.png\" width=450></td>\n",
    "    </tr>\n",
    "    <tr>\n",
    "    <td style=\"border: hidden; text-align: center\"><img src=\"images/unstable_well.png\" width=450></td>\n",
    "  </tr>\n",
    "</table>\n",
    "\n",
    "&copy; Cambridge University Press [Zoback, *Reservoir Geomechanics*](http://www.amazon.com/Reservoir-Geomechanics-Paperback-Author-Zoback/dp/B00EFZ88EQ/ref=sr_1_2?ie=UTF8&qid=1422942834&sr=8-2&keywords=zoback+geomechanics) (Fig. 10.1a,b pp. 304)"
   ]
  },
  {
   "cell_type": "markdown",
   "metadata": {
    "slideshow": {
     "slide_type": "subslide"
    }
   },
   "source": [
    "# Emperical model:  Maximum 90$^{\\circ}$ breakouts\n",
    "\n",
    "<table style=\"border: hidden; \" align=\"center\">\n",
    "  <tr>\n",
    "    <td style=\"border: hidden; text-align: center\"><img src=\"images/90_break1.png\" width=150></td>\n",
    "    <td style=\"border: hidden; text-align: center\">$\\quad \\quad \\quad \\quad$</td>\n",
    "    <td style=\"border: hidden; text-align: center\"><img src=\"images/90_break2.png\" width=350></td>  \n",
    "  </tr>\n",
    "</table>\n",
    "\n",
    "&copy; Cambridge University Press [Zoback, *Reservoir Geomechanics*](http://www.amazon.com/Reservoir-Geomechanics-Paperback-Author-Zoback/dp/B00EFZ88EQ/ref=sr_1_2?ie=UTF8&qid=1422942834&sr=8-2&keywords=zoback+geomechanics) (Fig. 10.2a,b pp. 305)"
   ]
  },
  {
   "cell_type": "markdown",
   "metadata": {
    "slideshow": {
     "slide_type": "subslide"
    }
   },
   "source": [
    "# Comprehensive model\n",
    "\n",
    "<table style=\"border: hidden; \" align=\"center\">\n",
    "  <tr>\n",
    "    <td style=\"border: hidden; text-align: center\"><img src=\"images/well_design1.png\" width=220></td>\n",
    "    <td style=\"border: hidden; text-align: center\"><img src=\"images/well_design2.png\" width=110></td>  \n",
    "    <td style=\"border: hidden; text-align: center\"><img src=\"images/well_design3.png\" width=173></td>\n",
    "  </tr>\n",
    "  <tr>\n",
    "    <td style=\"border: hidden; text-align: center\">Design based on pore <br> pressure and frac gradient</td>\n",
    "    <td style=\"border: hidden; text-align: center\">Model considering <br> collapse pressure</td>  \n",
    "    <td style=\"border: hidden; text-align: center\">Final design</td>\n",
    "  </tr>\n",
    "</table>\n",
    "\n",
    "&copy; Cambridge University Press [Zoback, *Reservoir Geomechanics*](http://www.amazon.com/Reservoir-Geomechanics-Paperback-Author-Zoback/dp/B00EFZ88EQ/ref=sr_1_2?ie=UTF8&qid=1422942834&sr=8-2&keywords=zoback+geomechanics) (Fig. 10.3a,b,c pp. 307)"
   ]
  }
 ],
 "metadata": {
  "celltoolbar": "Slideshow",
  "kernelspec": {
   "display_name": "Python 2",
   "language": "python",
   "name": "python2"
  },
  "language_info": {
   "codemirror_mode": {
    "name": "ipython",
    "version": 2
   },
   "file_extension": ".py",
   "mimetype": "text/x-python",
   "name": "python",
   "nbconvert_exporter": "python",
   "pygments_lexer": "ipython2",
   "version": "2.7.11"
  }
 },
 "nbformat": 4,
 "nbformat_minor": 0
}
