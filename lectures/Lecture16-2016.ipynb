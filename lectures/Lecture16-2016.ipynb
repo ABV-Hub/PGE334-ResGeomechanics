{
 "cells": [
  {
   "cell_type": "markdown",
   "metadata": {
    "slideshow": {
     "slide_type": "slide"
    }
   },
   "source": [
    "# Compressive strength of rocks"
   ]
  },
  {
   "cell_type": "markdown",
   "metadata": {
    "slideshow": {
     "slide_type": "slide"
    }
   },
   "source": [
    "# Recall: Mohr Envelope for Sandstone\n",
    "\n",
    "${}$\n",
    "\n",
    "<img src=\"images/mohr_lab_data.png\" width=500>\n",
    "\n",
    "&copy; Cambridge University Press [Zoback, *Reservoir Geomechanics*](http://www.amazon.com/Reservoir-Geomechanics-Paperback-Author-Zoback/dp/B00EFZ88EQ/ref=sr_1_2?ie=UTF8&qid=1422942834&sr=8-2&keywords=zoback+geomechanics) (Fig. 4.3a, pp. 88)"
   ]
  },
  {
   "cell_type": "markdown",
   "metadata": {
    "slideshow": {
     "slide_type": "subslide"
    }
   },
   "source": [
    "# Hoek-Brown criterion (parabolic fitting)\n",
    "\n",
    "${}$\n",
    "\n",
    "$$\n",
    "\\sigma_1 = \\sigma_3 + C_0 \\sqrt{m \\dfrac{\\sigma_3}{C_0} + s}\n",
    "$$\n",
    "\n",
    "$m$ and $s$ are fitting parameters that depend on rock properties and the degress of fracturing.  Typical values\n",
    "\n",
    "|Typical Range of $ m $|Types of rocks|\n",
    "|:----------|:-------------|\n",
    "|$5 < m < 8$| carbonate rocks (dolomite, limestone, marble)|\n",
    "|$4 < m < 10$| lithified argillaceous rocks (sandstones, quartizite)|\n",
    "|$15 < m < 24$| arenaceous rocks (andesite, dolerite, diabase, rhyolite)|\n",
    "|$22 < m < 33$| course-grained polyminerallic gineous and metamorphic (amphibolite, gabbro, gneiss, norite, quartz-diorite)|\n",
    "\n",
    "Intact Rocks -- $s \\to 1$\n",
    "\n",
    "Completely Granualated -- $s \\to 0$"
   ]
  },
  {
   "cell_type": "markdown",
   "metadata": {
    "slideshow": {
     "slide_type": "slide"
    }
   },
   "source": [
    "# Lade Criterion\n",
    "\n",
    "${}$\n",
    "\n",
    "$$\n",
    "\\left( \\frac{I_1^3}{I_3} - 27 \\right) \\left( \\frac{I_1}{p_a} \\right)^{m'} =  \\eta_1\n",
    "$$\n",
    "\n",
    "with \n",
    "\n",
    "$I_1 = S_{ii} = S_1 + S_2 + S_3$ (first invariant of $\\mathbf{S}$)\n",
    "\n",
    "$I_3 = \\det(\\mathbf{S}) = S_1  S_2  S_3$ (third invariant of $\\mathbf{S}$)\n",
    "\n",
    "$p_a$ is atmospheric pressure, $m'$ and $n_1$ are material constants"
   ]
  },
  {
   "cell_type": "markdown",
   "metadata": {
    "slideshow": {
     "slide_type": "subslide"
    }
   },
   "source": [
    "# Modified Lade Criterion (dependece on $\\sigma_2$)\n",
    "\n",
    "${}$\n",
    "\n",
    "$$\n",
    "\\left( \\frac{(I_1')^3}{I_3'} \\right) =  27 + \\eta\n",
    "$$\n",
    "\n",
    "with \n",
    "\n",
    "$I_1' = (\\sigma_1 + S) + (\\sigma_2 + S) + (\\sigma_3 + S)$\n",
    "\n",
    "$I_3' = (\\sigma_1 + S) (\\sigma_2 + S) (\\sigma_3 + S)$\n",
    "\n",
    "$S = \\dfrac{S_0}{\\tan\\phi}$\n",
    "\n",
    "$\\eta = \\dfrac{4 (\\tan\\phi)^2 (9- 7 \\sin\\phi)}{1 - \\sin \\phi)}$\n",
    "\n",
    "$\\tan\\phi = \\mu_i$ and $S_0$ from Mohr-Coulomb criterion"
   ]
  },
  {
   "cell_type": "markdown",
   "metadata": {
    "slideshow": {
     "slide_type": "subslide"
    }
   },
   "source": [
    "# Comparison\n",
    "\n",
    "<table style=\"border: hidden; \" align=\"center\">\n",
    "  <tr>\n",
    "    <td style=\"border: hidden; text-align: center\"><img src=\"images/mc_limestone.png\" width=300></td>\n",
    "    <td style=\"border: hidden; text-align: center\"><img src=\"images/ml_limestone.png\" width=300></td>\n",
    "  </tr>\n",
    "  <tr>\n",
    "    <td style=\"border: hidden; text-align: center\">Mohr-Coulomb</td>\n",
    "    <td style=\"border: hidden; text-align: center\">modified Lade</td>\n",
    "  </tr>\n",
    "</table>\n",
    "\n",
    "&copy; Cambridge University Press [Zoback, *Reservoir Geomechanics*](http://www.amazon.com/Reservoir-Geomechanics-Paperback-Author-Zoback/dp/B00EFZ88EQ/ref=sr_1_2?ie=UTF8&qid=1422942834&sr=8-2&keywords=zoback+geomechanics) (Fig. 4.8b and 4.9b, pp. 96-97)"
   ]
  },
  {
   "cell_type": "markdown",
   "metadata": {
    "slideshow": {
     "slide_type": "slide"
    }
   },
   "source": [
    "# Recall: Yield surface\n",
    "\n",
    "<img src=\"images/mohr_yield_surface.png\" width=500>\n",
    "\n",
    "[Mohr Coulomb Yield Surface 3Da](http://en.wikipedia.org/wiki/File:Mohr_Coulomb_Yield_Surface_3Da.png#mediaviewer/File:Mohr_Coulomb_Yield_Surface_3Da.png). Licensed under CC BY-SA 3.0 via Wikipedia"
   ]
  },
  {
   "cell_type": "markdown",
   "metadata": {
    "slideshow": {
     "slide_type": "slide"
    }
   },
   "source": [
    "# Shear enhanced compaction\n",
    "\n",
    "\n",
    "\n",
    "<table style=\"border: hidden; \" align=\"center\">\n",
    "  <tr>\n",
    "    <td style=\"border: hidden; text-align: center\"><img src=\"images/cap_data.png\" width=450></td>\n",
    "  </tr>\n",
    "  <tr>\n",
    "  <td style=\"border: hidden; text-align: center\">Porosity loss in sandstone</td>\n",
    "  </tr>\n",
    "</table>\n",
    "\n",
    "&copy; Cambridge University Press [Zoback, *Reservoir Geomechanics*](http://www.amazon.com/Reservoir-Geomechanics-Paperback-Author-Zoback/dp/B00EFZ88EQ/ref=sr_1_2?ie=UTF8&qid=1422942834&sr=8-2&keywords=zoback+geomechanics) (Fig. 4.20, pp. 120)"
   ]
  },
  {
   "cell_type": "markdown",
   "metadata": {
    "slideshow": {
     "slide_type": "subslide"
    }
   },
   "source": [
    "# Cam-Clay model\n",
    "\n",
    "${}$\n",
    "\n",
    "$$\n",
    "M^2 p^2 - M^2 p_0 p + q^2 = 0\n",
    "$$\n",
    "\n",
    "with\n",
    "\n",
    "$$\n",
    "p = \\dfrac{1}{3}\\left(\\sigma_1 + \\sigma_2 + \\sigma_3\\right)\n",
    "$$\n",
    "\n",
    "$$\n",
    "q^2 = \\dfrac{1}{2} \\left((S_1 - S_2)^2 + (S_2 - S_3)^2 + (S_1 - S_3)^2 \\right)\n",
    "$$\n",
    "\n",
    "$$\n",
    "M = \\dfrac{q}{p}\n",
    "$$"
   ]
  },
  {
   "cell_type": "markdown",
   "metadata": {
    "slideshow": {
     "slide_type": "subslide"
    }
   },
   "source": [
    "# Cam-Clay model\n",
    "\n",
    "${}$\n",
    "\n",
    "<img src=\"images/cam_clay.png\" width=500>"
   ]
  },
  {
   "cell_type": "markdown",
   "metadata": {
    "slideshow": {
     "slide_type": "slide"
    }
   },
   "source": [
    "# Sandia geomodel (Kayenta)\n",
    "\n",
    "${}$\n",
    "\n",
    "<img src=\"images/geomodel.png\" width=700>\n",
    "\n",
    "R.M. Brannon, A.F. Fossum, and O.E. Strack: [Kayenta: Theory and User’s Guide.](http://www.mech.utah.edu/~brannon/public/GeoModel8.pdf)\n",
    "Tech. rep. Sandia National Laboratories, 2009."
   ]
  },
  {
   "cell_type": "markdown",
   "metadata": {
    "slideshow": {
     "slide_type": "slide"
    }
   },
   "source": [
    "# Tensile strength of rocks\n",
    "\n"
   ]
  },
  {
   "cell_type": "markdown",
   "metadata": {
    "slideshow": {
     "slide_type": "fragment"
    }
   },
   "source": [
    " * Relatively unimportant!"
   ]
  },
  {
   "cell_type": "markdown",
   "metadata": {
    "slideshow": {
     "slide_type": "fragment"
    }
   },
   "source": [
    " * Reasons:\n",
    "   \n",
    "   * Tensile strength is low compared to compressive strength.\n",
    "   \n",
    "   * When a large enough volume of rock is considered, flaws are bound to exist making the tensile strength near zero.\n",
    "   \n",
    "   * *In situ* stress at depth is never tensile."
   ]
  },
  {
   "cell_type": "markdown",
   "metadata": {
    "slideshow": {
     "slide_type": "slide"
    }
   },
   "source": [
    "# Opening mode fracture (Mode I)\n",
    "\n",
    "${}$\n",
    "\n",
    "$$\n",
    "K_{Ic} \\ge K_I = (P_f - S_3) \\pi \\sqrt{L}\n",
    "$$\n",
    "\n",
    "\n",
    "<img src=\"images/toughness.png\" width=600>\n",
    "\n",
    "&copy; Cambridge University Press [Zoback, *Reservoir Geomechanics*](http://www.amazon.com/Reservoir-Geomechanics-Paperback-Author-Zoback/dp/B00EFZ88EQ/ref=sr_1_2?ie=UTF8&qid=1422942834&sr=8-2&keywords=zoback+geomechanics) (Fig. 4.21, pp. 122)"
   ]
  },
  {
   "cell_type": "markdown",
   "metadata": {
    "slideshow": {
     "slide_type": "slide"
    }
   },
   "source": [
    "# Recall: Slip on faults\n",
    "\n",
    "${}$\n",
    "\n",
    "$$\n",
    "\\dfrac{\\tau}{\\sigma_n} = \\mu\n",
    "$$\n",
    "\n",
    "Coulomb failure function\n",
    "\n",
    "$$\n",
    "f = \\tau - \\mu \\sigma_n \\le 0\n",
    "$$"
   ]
  },
  {
   "cell_type": "markdown",
   "metadata": {
    "slideshow": {
     "slide_type": "slide"
    }
   },
   "source": [
    "# Critically stressed crust\n",
    "\n",
    "${}$\n",
    "\n",
    "<img src=\"images/crit_stress_crust.png\" width=600>\n",
    "\n",
    "&copy; Cambridge University Press [Zoback, *Reservoir Geomechanics*](http://www.amazon.com/Reservoir-Geomechanics-Paperback-Author-Zoback/dp/B00EFZ88EQ/ref=sr_1_2?ie=UTF8&qid=1422942834&sr=8-2&keywords=zoback+geomechanics) (Fig. 4.25, pp. 129)"
   ]
  },
  {
   "cell_type": "markdown",
   "metadata": {
    "slideshow": {
     "slide_type": "slide"
    }
   },
   "source": [
    "# Stress magnitudes controlled by frictional strength\n",
    "\n",
    "${}$\n",
    "\n",
    "<img src=\"images/stress_control_friction.png\" width=300>\n",
    "\n",
    "&copy; Cambridge University Press [Zoback, *Reservoir Geomechanics*](http://www.amazon.com/Reservoir-Geomechanics-Paperback-Author-Zoback/dp/B00EFZ88EQ/ref=sr_1_2?ie=UTF8&qid=1422942834&sr=8-2&keywords=zoback+geomechanics) (Fig. 4.26, pp. 129)"
   ]
  },
  {
   "cell_type": "markdown",
   "metadata": {
    "slideshow": {
     "slide_type": "slide"
    }
   },
   "source": [
    "# Limits on *in situ* stress\n",
    "\n",
    "<table style=\"border: hidden; \" align=\"center\">\n",
    "  <tr>\n",
    "    <td style=\"border: hidden; text-align: center\"><img src=\"images/arbitrary_faults.png\" width=400></td>\n",
    "    <td style=\"border: hidden; text-align: center\"><img src=\"images/mohr_crit_fault.png\" width=400></td>\n",
    "  </tr>\n",
    "</table>\n",
    "\n",
    "Optimal angle for frictional sliding:\n",
    "\n",
    "$$\n",
    "\\beta = \\frac{\\pi}{4} + \\frac{1}{2} \\tan^{-1}\\mu\n",
    "$$\n",
    "\n",
    "&copy; Cambridge University Press [Zoback, *Reservoir Geomechanics*](http://www.amazon.com/Reservoir-Geomechanics-Paperback-Author-Zoback/dp/B00EFZ88EQ/ref=sr_1_2?ie=UTF8&qid=1422942834&sr=8-2&keywords=zoback+geomechanics) (Fig. 4.27b,c, pp. 131)"
   ]
  },
  {
   "cell_type": "markdown",
   "metadata": {
    "slideshow": {
     "slide_type": "subslide"
    }
   },
   "source": [
    "# Principle stress ratio\n",
    "\n",
    "${}$\n",
    "\n",
    "$$\n",
    "\\frac{\\sigma_1}{\\sigma_3} = \\frac{S_1 - P_p}{S_3 - P_p} = \\left(\\sqrt{\\mu^2 + 1}+\\mu^2\\right)^2\n",
    "$$\n",
    "\n",
    "Asuming $\\mu = 0.6$\n",
    "\n",
    "$$\n",
    "\\frac{\\sigma_1}{\\sigma_3} = 3.1\n",
    "$$"
   ]
  },
  {
   "cell_type": "markdown",
   "metadata": {
    "slideshow": {
     "slide_type": "subslide"
    }
   },
   "source": [
    "# Stress bounds\n",
    "\n",
    "<table style=\"border: hidden; \" align=\"center\">\n",
    "  <tr>\n",
    "    <td style=\"border: hidden; text-align: center\"><img src=\"images/stress_bound_1.png\" width=250></td>\n",
    "    <td style=\"border: hidden; text-align: center\"><img src=\"images/stress_bound_2.png\" width=250></td>\n",
    "    <td style=\"border: hidden; text-align: center\"><img src=\"images/stress_bound_3.png\" width=250></td>\n",
    "  </tr>\n",
    "    <tr>\n",
    "    <td style=\"border: hidden; text-align: center\">$\\dfrac{S_v - P_p}{S_{hmin} - P_p} \\le \\left(\\sqrt{\\mu^2 + 1}+\\mu^2\\right)$</td>\n",
    "    <td style=\"border: hidden; text-align: center\">$\\dfrac{S_{Hmax} - P_p}{S_{hmin} - P_p} \\le \\left(\\sqrt{\\mu^2 + 1}+\\mu^2\\right)$</td>\n",
    "    <td style=\"border: hidden; text-align: center\">$\\dfrac{S_{Hmax} - P_p}{S_v - P_p} \\le \\left(\\sqrt{\\mu^2 + 1}+\\mu^2\\right)$</td>\n",
    "  </tr>\n",
    "</table>"
   ]
  },
  {
   "cell_type": "markdown",
   "metadata": {
    "slideshow": {
     "slide_type": "slide"
    }
   },
   "source": [
    "# Pore pressure, stress difference, and fault slip\n",
    "\n",
    "${}$\n",
    "\n",
    "<img src=\"images/pp_sd.png\" width=550>\n",
    "\n",
    "&copy; Cambridge University Press [Zoback, *Reservoir Geomechanics*](http://www.amazon.com/Reservoir-Geomechanics-Paperback-Author-Zoback/dp/B00EFZ88EQ/ref=sr_1_2?ie=UTF8&qid=1422942834&sr=8-2&keywords=zoback+geomechanics) (Fig. 4.30, pp. 136)"
   ]
  }
 ],
 "metadata": {
  "celltoolbar": "Slideshow",
  "kernelspec": {
   "display_name": "Python 2",
   "language": "python",
   "name": "python2"
  },
  "language_info": {
   "codemirror_mode": {
    "name": "ipython",
    "version": 2
   },
   "file_extension": ".py",
   "mimetype": "text/x-python",
   "name": "python",
   "nbconvert_exporter": "python",
   "pygments_lexer": "ipython2",
   "version": "2.7.11"
  }
 },
 "nbformat": 4,
 "nbformat_minor": 0
}
