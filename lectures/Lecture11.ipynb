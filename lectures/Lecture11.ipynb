{
 "cells": [
  {
   "cell_type": "markdown",
   "metadata": {
    "slideshow": {
     "slide_type": "slide"
    }
   },
   "source": [
    "# Recall:  Pressure dependence\n",
    "\n",
    "<img src=\"images/carr_marble.png\" width=350>\n",
    "\n",
    "&copy; Blackwell Publishing [Jaeger, et al., *Fundamentals of Rock Mechanics*](http://www.amazon.com/Fundamentals-Rock-Mechanics-John-Jaeger/dp/0632057599/ref=sr_1_1?ie=UTF8&qid=1425992952&sr=8-1&keywords=fundamentals+of+rock+mechanics) (Fig. 4.5, pp. 86)"
   ]
  },
  {
   "cell_type": "markdown",
   "metadata": {
    "slideshow": {
     "slide_type": "slide"
    }
   },
   "source": [
    "# Other failure criteria\n",
    "\n",
    "<img src=\"images/other_hydrostat.png\" width=400>\n",
    "\n",
    "&copy; Cambridge University Press [Zoback, *Reservoir Geomechanics*](http://www.amazon.com/Reservoir-Geomechanics-Paperback-Author-Zoback/dp/B00EFZ88EQ/ref=sr_1_2?ie=UTF8&qid=1422942834&sr=8-2&keywords=zoback+geomechanics) (Fig. 4.6, pp. 94)"
   ]
  },
  {
   "cell_type": "markdown",
   "metadata": {
    "slideshow": {
     "slide_type": "slide"
    }
   },
   "source": [
    "# Recall: Mohr Envelope for Sandstone\n",
    "\n",
    "${}$\n",
    "\n",
    "<img src=\"images/mohr_lab_data.png\" width=500>\n",
    "\n",
    "&copy; Cambridge University Press [Zoback, *Reservoir Geomechanics*](http://www.amazon.com/Reservoir-Geomechanics-Paperback-Author-Zoback/dp/B00EFZ88EQ/ref=sr_1_2?ie=UTF8&qid=1422942834&sr=8-2&keywords=zoback+geomechanics) (Fig. 4.3a, pp. 88)"
   ]
  },
  {
   "cell_type": "markdown",
   "metadata": {
    "slideshow": {
     "slide_type": "slide"
    }
   },
   "source": [
    "# Hoek-Brown criterion (parabolic fitting)\n",
    "\n",
    "${}$\n",
    "\n",
    "$$\n",
    "\\sigma_1 = \\sigma_3 + C_0 \\sqrt{m \\dfrac{\\sigma_3}{C_0} + s}\n",
    "$$\n",
    "\n",
    "$m$ and $s$ are fitting parameters that depend on rock properties and the degress of fracturing.  Typical values\n",
    "\n",
    "|Typical Range of $ m $|Types of rocks|\n",
    "|:----------|:-------------|\n",
    "|$5 < m < 8$| carbonate rocks (dolomite, limestone, marble)|\n",
    "|$4 < m < 10$| lithified argillaceous rocks (sandstones, quartizite)|\n",
    "|$15 < m < 24$| arenaceous rocks (andesite, dolerite, diabase, rhyolite)|\n",
    "|$22 < m < 33$| course-grained polyminerallic gineous and metamorphic (amphibolite, gabbro, gneiss, norite, quartz-diorite)|\n",
    "\n",
    "Intact Rocks -- $s \\to 1$\n",
    "\n",
    "Completely Granualated -- $s \\to 0$"
   ]
  },
  {
   "cell_type": "markdown",
   "metadata": {
    "slideshow": {
     "slide_type": "slide"
    }
   },
   "source": [
    "# Lade Criterion\n",
    "\n",
    "${}$\n",
    "\n",
    "$$\n",
    "\\left( \\frac{I_1^3}{I_3} - 27 \\right) \\left( \\frac{I_1}{p_a} \\right)^{m'} =  \\eta_1\n",
    "$$\n",
    "\n",
    "with \n",
    "\n",
    "$I_1 = S_{ii} = S_1 + S_2 + S_3$ (first invariant of $\\mathbf{S}$)\n",
    "\n",
    "$I_3 = \\det(\\mathbf{S}) = S_1  S_2  S_3$ (third invariant of $\\mathbf{S}$)\n",
    "\n",
    "$p_a$ is atmospheric pressure, $m'$ and $n_1$ are material constants"
   ]
  },
  {
   "cell_type": "markdown",
   "metadata": {
    "slideshow": {
     "slide_type": "subslide"
    }
   },
   "source": [
    "# Modified Lade Criterion (dependece on $\\sigma_2$)\n",
    "\n",
    "${}$\n",
    "\n",
    "$$\n",
    "\\left( \\frac{(I_1')^3}{I_3'} \\right) =  27 + \\eta\n",
    "$$\n",
    "\n",
    "with \n",
    "\n",
    "$I_1' = (\\sigma_1 + S) + (\\sigma_2 + S) + (\\sigma_3 + S)$\n",
    "\n",
    "$I_3' = (\\sigma_1 + S) (\\sigma_2 + S) (\\sigma_3 + S)$\n",
    "\n",
    "$S = \\dfrac{S_0}{\\tan\\phi}$\n",
    "\n",
    "$\\eta = \\dfrac{4 (\\tan\\phi)^2 (9- 7 \\sin\\phi)}{1 - \\sin \\phi)}$\n",
    "\n",
    "$\\tan\\phi = \\mu_i$ and $S_0$ from Mohr-Coulomb criterion"
   ]
  },
  {
   "cell_type": "markdown",
   "metadata": {
    "slideshow": {
     "slide_type": "slide"
    }
   },
   "source": [
    "# Comparison\n",
    "\n",
    "<table style=\"border: hidden; \" align=\"center\">\n",
    "  <tr>\n",
    "    <td style=\"border: hidden; text-align: center\"><img src=\"images/mc_limestone.png\" width=300></td>\n",
    "    <td style=\"border: hidden; text-align: center\"><img src=\"images/ml_limestone.png\" width=300></td>\n",
    "  </tr>\n",
    "  <tr>\n",
    "    <td style=\"border: hidden; text-align: center\">Mohr-Coulomb</td>\n",
    "    <td style=\"border: hidden; text-align: center\">modified Lade</td>\n",
    "  </tr>\n",
    "</table>\n",
    "\n",
    "&copy; Cambridge University Press [Zoback, *Reservoir Geomechanics*](http://www.amazon.com/Reservoir-Geomechanics-Paperback-Author-Zoback/dp/B00EFZ88EQ/ref=sr_1_2?ie=UTF8&qid=1422942834&sr=8-2&keywords=zoback+geomechanics) (Fig. 4.8b and 4.9b, pp. 96-97)"
   ]
  },
  {
   "cell_type": "markdown",
   "metadata": {
    "slideshow": {
     "slide_type": "slide"
    }
   },
   "source": [
    "# Others\n",
    "\n",
    " * modified Wiebols-Cook\n",
    " * Druker-Prager\n",
    " * many more!"
   ]
  },
  {
   "cell_type": "markdown",
   "metadata": {
    "slideshow": {
     "slide_type": "slide"
    }
   },
   "source": [
    "# Strength anisotropy\n",
    "\n",
    "<table style=\"border: hidden; \" align=\"center\">\n",
    "  <tr>\n",
    "    <td style=\"border: hidden; text-align: left\">\n",
    "    \n",
    "        <img src=\"images/bedding.png\" width=100>\n",
    "   \n",
    "  </td>\n",
    "  <td style=\"border: hidden; text-align: center\">\n",
    " \n",
    "      <img src=\"images/two_strengths.png\" width=350>\n",
    "  \n",
    "  <td style=\"border: hidden; text-align: center\">\n",
    "      <img src=\"images/beta_effect.png\" width=290>\n",
    "  </td>\n",
    "  </tr>\n",
    "</table>\n",
    "\n",
    "$$\n",
    "\\sigma_1 = \\sigma_3 \\frac{2 (S_w + \\mu_w \\sigma_3)}{(1-\\mu_w \\cot\\beta_w)\\sin 2\\beta}\n",
    "$$\n",
    "\n",
    "&copy; Cambridge University Press [Zoback, *Reservoir Geomechanics*](http://www.amazon.com/Reservoir-Geomechanics-Paperback-Author-Zoback/dp/B00EFZ88EQ/ref=sr_1_2?ie=UTF8&qid=1422942834&sr=8-2&keywords=zoback+geomechanics) (Fig. 4.12, pp. 106)"
   ]
  }
 ],
 "metadata": {
  "celltoolbar": "Slideshow",
  "kernelspec": {
   "display_name": "Python 2",
   "language": "python",
   "name": "python2"
  },
  "language_info": {
   "codemirror_mode": {
    "name": "ipython",
    "version": 2
   },
   "file_extension": ".py",
   "mimetype": "text/x-python",
   "name": "python",
   "nbconvert_exporter": "python",
   "pygments_lexer": "ipython2",
   "version": "2.7.11"
  }
 },
 "nbformat": 4,
 "nbformat_minor": 0
}
